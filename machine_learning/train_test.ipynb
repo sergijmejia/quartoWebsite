{
 "cells": [
  {
   "cell_type": "markdown",
   "metadata": {},
   "source": [
    "# Train/Test"
   ]
  },
  {
   "cell_type": "markdown",
   "metadata": {},
   "source": [
    "Waiting for new data before evaluating our model would be a waste of time. We can emulate unseen data by splitting our data into train and test sets:\n",
    "\n",
    "- Use the train set for fitting our model.\n",
    "- Use the test set for evaluating our model's performance\n",
    "\n",
    "Usually test sizes are 10-30% of the initial data, but it depends from the size of the dataset:\n",
    "\n",
    "- Large datasets may require a smaller percentage (e.g., 10-20%).\n",
    "- Smaller datasets may need a larger test set to ensure that it is representative (e.g., 30-40%).\n",
    "\n",
    "Simple ML:\n",
    "\n",
    "1. Use train_test_split from sklearn for splitting the data:\n",
    "   - X_train: features used for training the model.\n",
    "   - X_test: features used for testing the model's performance.\n",
    "   - y_train: target for the train.\n",
    "   - y_test: target for the test.\n",
    "\n",
    "2. Fit a model to the train set.\n",
    "3. Check model's performance on train and test sets."
   ]
  },
  {
   "cell_type": "code",
   "execution_count": 3,
   "metadata": {},
   "outputs": [],
   "source": [
    "import pandas as pd\n",
    "import matplotlib.pyplot as plt\n",
    "\n",
    "df = pd.DataFrame({\n",
    "    'temp (x)': [5, 8, 10, 12, 20, 23, 33, 35],\n",
    "    'sales (y)': [200, 235, 210, 240, 420, 435, 560, 620]})\n",
    "\n",
    "X = df[['temp (x)']].values  # Feature\n",
    "y = df['sales (y)'].values    # Target"
   ]
  },
  {
   "cell_type": "code",
   "execution_count": 10,
   "metadata": {},
   "outputs": [
    {
     "data": {
      "image/png": "[encoded data removed]",
      "text/plain": [
       "<Figure size 432x288 with 1 Axes>"
      ]
     },
     "metadata": {
      "needs_background": "light"
     },
     "output_type": "display_data"
    }
   ],
   "source": [
    "from sklearn.model_selection import train_test_split\n",
    "from sklearn.linear_model import LinearRegression\n",
    "from sklearn.metrics import mean_absolute_error\n",
    "\n",
    "# Using 20% of the data for testing\n",
    "X_train, X_test, y_train, y_test = train_test_split(X, y, test_size=0.2, random_state=12)\n",
    "\n",
    "# Fit LR to train data (search for the optimal line based on MSE)\n",
    "lr = LinearRegression().fit(X_train, y_train)\n",
    "\n",
    "# Predicted values on the test set\n",
    "y_pred_train = lr.predict(X_train)\n",
    "y_pred_test = lr.predict(X_test)\n",
    "\n",
    "# Calculate train and test MAE\n",
    "mae_train = mean_absolute_error(y_train, y_pred_train).round(0).astype(int)\n",
    "mae_test = mean_absolute_error(y_test, y_pred_test).round(0).astype(int)\n",
    "\n",
    "# Predictions\n",
    "plt.scatter(X_train, y_train, color='black')\n",
    "plt.scatter(X_test, y_test, color='r')\n",
    "plt.plot(X_train, y_pred_train, marker='o', label=f\"MAE train = {mae_train} €\\nMAE test = {mae_test} €\")\n",
    "plt.xlabel('Temperature (ºC)')\n",
    "plt.ylabel('Ice Cream Sales (€)')\n",
    "plt.legend()\n",
    "plt.show()\n",
    "\n"
   ]
  }
 ],
 "metadata": {
  "kernelspec": {
   "display_name": "Python 3",
   "language": "python",
   "name": "python3"
  },
  "language_info": {
   "codemirror_mode": {
    "name": "ipython",
    "version": 3
   },
   "file_extension": ".py",
   "mimetype": "text/x-python",
   "name": "python",
   "nbconvert_exporter": "python",
   "pygments_lexer": "ipython3",
   "version": "3.10.12"
  }
 },
 "nbformat": 4,
 "nbformat_minor": 2
}
