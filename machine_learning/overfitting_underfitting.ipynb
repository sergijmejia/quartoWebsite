{
 "cells": [
  {
   "cell_type": "markdown",
   "metadata": {},
   "source": [
    "# Quality of Fit"
   ]
  },
  {
   "cell_type": "markdown",
   "metadata": {},
   "source": [
    "## Overfitting"
   ]
  },
  {
   "cell_type": "markdown",
   "metadata": {},
   "source": [
    "What happen if we found a funtion with MAE=0?\n",
    "\n",
    "![](/images/machine_learning/Overfitting.png)"
   ]
  },
  {
   "cell_type": "markdown",
   "metadata": {},
   "source": [
    "The models are used for predicting future outcomes. When new data arrives, we know if our model is predicting it well or not.\n",
    "The new information can be used as test data, evaluating the model's performance on data not seen during training.\n",
    "\n",
    "Imagine the new data received is:"
   ]
  },
  {
   "cell_type": "code",
   "execution_count": 1,
   "metadata": {},
   "outputs": [],
   "source": [
    "import pandas as pd"
   ]
  },
  {
   "cell_type": "code",
   "execution_count": 2,
   "metadata": {},
   "outputs": [
    {
     "data": {
      "text/html": [
       "<div>\n",
       "<style scoped>\n",
       "    .dataframe tbody tr th:only-of-type {\n",
       "        vertical-align: middle;\n",
       "    }\n",
       "\n",
       "    .dataframe tbody tr th {\n",
       "        vertical-align: top;\n",
       "    }\n",
       "\n",
       "    .dataframe thead th {\n",
       "        text-align: right;\n",
       "    }\n",
       "</style>\n",
       "<table border=\"1\" class=\"dataframe\">\n",
       "  <thead>\n",
       "    <tr style=\"text-align: right;\">\n",
       "      <th></th>\n",
       "      <th>temp (x)</th>\n",
       "      <th>sales (y)</th>\n",
       "    </tr>\n",
       "  </thead>\n",
       "  <tbody>\n",
       "    <tr>\n",
       "      <th>0</th>\n",
       "      <td>6</td>\n",
       "      <td>205</td>\n",
       "    </tr>\n",
       "    <tr>\n",
       "      <th>1</th>\n",
       "      <td>15</td>\n",
       "      <td>280</td>\n",
       "    </tr>\n",
       "    <tr>\n",
       "      <th>2</th>\n",
       "      <td>30</td>\n",
       "      <td>520</td>\n",
       "    </tr>\n",
       "  </tbody>\n",
       "</table>\n",
       "</div>"
      ],
      "text/plain": [
       "   temp (x)  sales (y)\n",
       "0         6        205\n",
       "1        15        280\n",
       "2        30        520"
      ]
     },
     "execution_count": 2,
     "metadata": {},
     "output_type": "execute_result"
    }
   ],
   "source": [
    "df_test = pd.DataFrame({\n",
    "    'temp (x)': [6, 15, 30],\n",
    "    'sales (y)': [205, 280, 520]\n",
    "})\n",
    "df_test"
   ]
  },
  {
   "cell_type": "markdown",
   "metadata": {},
   "source": [
    "- Black dots are the train data.\n",
    "- Red dots are the test data.\n",
    "- Polynomial model:\n",
    "\n",
    "$$\n",
    "\\text{Train }MAE = 0€\n",
    "$$\n",
    "\n",
    "$$\n",
    "\\text{Test }MAE = 55€\n",
    "$$\n",
    "\n",
    "![](/images/machine_learning/Overfitting_test.png)"
   ]
  },
  {
   "cell_type": "markdown",
   "metadata": {},
   "source": [
    "Polynomial model:\n",
    "$$\n",
    "\\text{Train }MAE = 0€\n",
    "$$\n",
    "\n",
    "$$\n",
    "\\text{Test }MAE = 55€\n",
    "$$\n",
    "\n",
    "The previus model:\n",
    "$$\n",
    "\\text{Train }MAE = 22€\n",
    "$$\n",
    "\n",
    "$$\n",
    "\\text{Test }MAE = 23€\n",
    "$$\n",
    "\n",
    "![](/images/machine_learning/Overfitting_n_linear.png)"
   ]
  },
  {
   "cell_type": "markdown",
   "metadata": {},
   "source": [
    "This effect is called **overfitting**:\n",
    "\n",
    "- Our polynomial model is too adapted to the training data.\n",
    "- Performance is much better on train data than on test data.\n",
    "\n",
    "The linear model performs roughly the same on train and test.\n",
    "\n",
    "- The error is not very high.\n",
    "- This may be indicating that our model is giving good estimations."
   ]
  },
  {
   "cell_type": "markdown",
   "metadata": {},
   "source": [
    "## Underfitting"
   ]
  },
  {
   "cell_type": "markdown",
   "metadata": {},
   "source": [
    "The underfitting happens when the model performs poorly on both train and test data. We have underfitting when the model is not capturing underlying patterns of the data.\n",
    "\n",
    "![](/images/machine_learning/Underfitting.png)"
   ]
  }
 ],
 "metadata": {
  "kernelspec": {
   "display_name": "Python 3",
   "language": "python",
   "name": "python3"
  },
  "language_info": {
   "codemirror_mode": {
    "name": "ipython",
    "version": 3
   },
   "file_extension": ".py",
   "mimetype": "text/x-python",
   "name": "python",
   "nbconvert_exporter": "python",
   "pygments_lexer": "ipython3",
   "version": "3.10.12"
  }
 },
 "nbformat": 4,
 "nbformat_minor": 2
}
