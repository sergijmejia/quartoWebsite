{
 "cells": [
  {
   "cell_type": "markdown",
   "metadata": {},
   "source": [
    "# Introduction to Supervised Learning"
   ]
  },
  {
   "cell_type": "markdown",
   "metadata": {},
   "source": [
    "## Data"
   ]
  },
  {
   "cell_type": "markdown",
   "metadata": {},
   "source": [
    "To apply ML we need (clean and processed) data. To understand how it works, let's check at an example of an imaginary store: we have data about temperature (ºC) and ice cream sales (€).\n",
    "\n",
    "The data we use for creating (training) models is called training data."
   ]
  },
  {
   "cell_type": "code",
   "execution_count": 53,
   "metadata": {},
   "outputs": [
    {
     "data": {
      "text/html": [
       "<div>\n",
       "<style scoped>\n",
       "    .dataframe tbody tr th:only-of-type {\n",
       "        vertical-align: middle;\n",
       "    }\n",
       "\n",
       "    .dataframe tbody tr th {\n",
       "        vertical-align: top;\n",
       "    }\n",
       "\n",
       "    .dataframe thead th {\n",
       "        text-align: right;\n",
       "    }\n",
       "</style>\n",
       "<table border=\"1\" class=\"dataframe\">\n",
       "  <thead>\n",
       "    <tr style=\"text-align: right;\">\n",
       "      <th></th>\n",
       "      <th>temp (x)</th>\n",
       "      <th>sales (y)</th>\n",
       "    </tr>\n",
       "  </thead>\n",
       "  <tbody>\n",
       "    <tr>\n",
       "      <th>0</th>\n",
       "      <td>5</td>\n",
       "      <td>200</td>\n",
       "    </tr>\n",
       "    <tr>\n",
       "      <th>1</th>\n",
       "      <td>8</td>\n",
       "      <td>235</td>\n",
       "    </tr>\n",
       "    <tr>\n",
       "      <th>2</th>\n",
       "      <td>10</td>\n",
       "      <td>210</td>\n",
       "    </tr>\n",
       "    <tr>\n",
       "      <th>3</th>\n",
       "      <td>12</td>\n",
       "      <td>240</td>\n",
       "    </tr>\n",
       "    <tr>\n",
       "      <th>4</th>\n",
       "      <td>20</td>\n",
       "      <td>420</td>\n",
       "    </tr>\n",
       "    <tr>\n",
       "      <th>5</th>\n",
       "      <td>23</td>\n",
       "      <td>435</td>\n",
       "    </tr>\n",
       "    <tr>\n",
       "      <th>6</th>\n",
       "      <td>33</td>\n",
       "      <td>560</td>\n",
       "    </tr>\n",
       "    <tr>\n",
       "      <th>7</th>\n",
       "      <td>35</td>\n",
       "      <td>620</td>\n",
       "    </tr>\n",
       "  </tbody>\n",
       "</table>\n",
       "</div>"
      ],
      "text/plain": [
       "   temp (x)  sales (y)\n",
       "0         5        200\n",
       "1         8        235\n",
       "2        10        210\n",
       "3        12        240\n",
       "4        20        420\n",
       "5        23        435\n",
       "6        33        560\n",
       "7        35        620"
      ]
     },
     "execution_count": 53,
     "metadata": {},
     "output_type": "execute_result"
    }
   ],
   "source": [
    "import pandas as pd\n",
    "import matplotlib.pyplot as plt\n",
    "\n",
    "df = pd.DataFrame({\n",
    "    'temp (x)': [5, 8, 10, 12, 20, 23, 33, 35],\n",
    "    'sales (y)': [200, 235, 210, 240, 420, 435, 560, 620]})\n",
    "df"
   ]
  },
  {
   "cell_type": "markdown",
   "metadata": {},
   "source": [
    "We use the temperature for predicting sales.\n",
    "\n",
    "Conventional names are:\n",
    "\n",
    "- X for referring to the features/attributes that help in the prediction (temperature in our case).\n",
    "- y for referring to the target attribute we want to predict (sales in our case)."
   ]
  },
  {
   "cell_type": "code",
   "execution_count": 54,
   "metadata": {},
   "outputs": [],
   "source": [
    "# temperature (ºC)\n",
    "X = df[['temp (x)']].values\n",
    "\n",
    "# sales (€)\n",
    "y = df['sales (y)'].values"
   ]
  },
  {
   "cell_type": "code",
   "execution_count": 55,
   "metadata": {},
   "outputs": [
    {
     "data": {
      "image/png": "[encoded data removed]",
      "text/plain": [
       "<Figure size 432x288 with 1 Axes>"
      ]
     },
     "metadata": {
      "needs_background": "light"
     },
     "output_type": "display_data"
    }
   ],
   "source": [
    "def plot_data(X, y):\n",
    "    plt.scatter(X, y)\n",
    "    plt.xlabel('Temperature (ºC)')\n",
    "    plt.ylabel('Ice Cream Sales (€)')\n",
    "\n",
    "plot_data(X, y)\n",
    "plt.show()"
   ]
  },
  {
   "cell_type": "markdown",
   "metadata": {},
   "source": [
    "## Linear Model"
   ]
  },
  {
   "cell_type": "markdown",
   "metadata": {},
   "source": [
    "Line has the form:\n",
    "\n",
    "$$\n",
    "f(x)=w_0 + w_1 · x\n",
    "$$\n",
    "\n",
    "If we asume:\n",
    "\n",
    "$$\n",
    "w_0=100   \n",
    "$$\n",
    "$$    \n",
    "w_1=14\n",
    "$$\n",
    "\n",
    "The prediction of Ice cream sales is:\n",
    "$$\n",
    "ŷ=100+14x\n",
    "$$\n",
    "\n",
    "where x is the temperature.\n",
    "We use ŷ for referring to the prediction given by our function approximation and y for referring to the real sales values in our data."
   ]
  },
  {
   "cell_type": "code",
   "execution_count": 56,
   "metadata": {},
   "outputs": [],
   "source": [
    "# Model\n",
    "\n",
    "w0 = 100\n",
    "w1 = 14\n",
    "\n",
    "# predicted y\n",
    "y_pred = w0 + w1 * X"
   ]
  },
  {
   "cell_type": "code",
   "execution_count": 57,
   "metadata": {},
   "outputs": [
    {
     "data": {
      "image/png": "[encoded data removed]",
      "text/plain": [
       "<Figure size 432x288 with 1 Axes>"
      ]
     },
     "metadata": {
      "needs_background": "light"
     },
     "output_type": "display_data"
    }
   ],
   "source": [
    "# Model\n",
    "\n",
    "plot_data(X, y)\n",
    "plt.plot(X, y_pred, color='black', label=\"$\\hat{y} = 100 + 14 * x$\")\n",
    "plt.legend()\n",
    "plt.show()"
   ]
  },
  {
   "cell_type": "code",
   "execution_count": 58,
   "metadata": {},
   "outputs": [
    {
     "data": {
      "image/png": "[encoded data removed]",
      "text/plain": [
       "<Figure size 432x288 with 1 Axes>"
      ]
     },
     "metadata": {
      "needs_background": "light"
     },
     "output_type": "display_data"
    }
   ],
   "source": [
    "# Predictions\n",
    "\n",
    "plot_data(X, y)\n",
    "plt.plot(X, y_pred, marker='o', color='black', label=\"$\\hat{y} = 100 + 14 * x$\")\n",
    "plt.legend()\n",
    "plt.show()"
   ]
  },
  {
   "cell_type": "code",
   "execution_count": 59,
   "metadata": {},
   "outputs": [
    {
     "data": {
      "text/html": [
       "<div>\n",
       "<style scoped>\n",
       "    .dataframe tbody tr th:only-of-type {\n",
       "        vertical-align: middle;\n",
       "    }\n",
       "\n",
       "    .dataframe tbody tr th {\n",
       "        vertical-align: top;\n",
       "    }\n",
       "\n",
       "    .dataframe thead th {\n",
       "        text-align: right;\n",
       "    }\n",
       "</style>\n",
       "<table border=\"1\" class=\"dataframe\">\n",
       "  <thead>\n",
       "    <tr style=\"text-align: right;\">\n",
       "      <th></th>\n",
       "      <th>temp (x)</th>\n",
       "      <th>sales (y)</th>\n",
       "      <th>sales_pred (ŷ)</th>\n",
       "    </tr>\n",
       "  </thead>\n",
       "  <tbody>\n",
       "    <tr>\n",
       "      <th>0</th>\n",
       "      <td>5</td>\n",
       "      <td>200</td>\n",
       "      <td>170</td>\n",
       "    </tr>\n",
       "    <tr>\n",
       "      <th>1</th>\n",
       "      <td>8</td>\n",
       "      <td>235</td>\n",
       "      <td>212</td>\n",
       "    </tr>\n",
       "    <tr>\n",
       "      <th>2</th>\n",
       "      <td>10</td>\n",
       "      <td>210</td>\n",
       "      <td>240</td>\n",
       "    </tr>\n",
       "    <tr>\n",
       "      <th>3</th>\n",
       "      <td>12</td>\n",
       "      <td>240</td>\n",
       "      <td>268</td>\n",
       "    </tr>\n",
       "    <tr>\n",
       "      <th>4</th>\n",
       "      <td>20</td>\n",
       "      <td>420</td>\n",
       "      <td>380</td>\n",
       "    </tr>\n",
       "    <tr>\n",
       "      <th>5</th>\n",
       "      <td>23</td>\n",
       "      <td>435</td>\n",
       "      <td>422</td>\n",
       "    </tr>\n",
       "    <tr>\n",
       "      <th>6</th>\n",
       "      <td>33</td>\n",
       "      <td>560</td>\n",
       "      <td>562</td>\n",
       "    </tr>\n",
       "    <tr>\n",
       "      <th>7</th>\n",
       "      <td>35</td>\n",
       "      <td>620</td>\n",
       "      <td>590</td>\n",
       "    </tr>\n",
       "  </tbody>\n",
       "</table>\n",
       "</div>"
      ],
      "text/plain": [
       "   temp (x)  sales (y)  sales_pred (ŷ)\n",
       "0         5        200             170\n",
       "1         8        235             212\n",
       "2        10        210             240\n",
       "3        12        240             268\n",
       "4        20        420             380\n",
       "5        23        435             422\n",
       "6        33        560             562\n",
       "7        35        620             590"
      ]
     },
     "execution_count": 59,
     "metadata": {},
     "output_type": "execute_result"
    }
   ],
   "source": [
    "df['sales_pred (ŷ)'] = y_pred\n",
    "df"
   ]
  },
  {
   "cell_type": "markdown",
   "metadata": {},
   "source": [
    "Are good the predictions good? It seems a reasonable model. But is this other model (orange) better or worse than the previous one (black)?\n",
    "Is needed a way to quantify how good the predictions are."
   ]
  },
  {
   "cell_type": "code",
   "execution_count": 60,
   "metadata": {},
   "outputs": [
    {
     "data": {
      "image/png": "[encoded data removed]",
      "text/plain": [
       "<Figure size 432x288 with 1 Axes>"
      ]
     },
     "metadata": {
      "needs_background": "light"
     },
     "output_type": "display_data"
    }
   ],
   "source": [
    "def plot_2_models(y1, y2):\n",
    "    plt.scatter(X, y)\n",
    "    plt.plot(X, y1, marker='o', color='black', label=\"$\\hat{y} = 100 + 14 * x$\")\n",
    "    plt.plot(X, y2, marker='o', color='orange', label=\"$\\hat{y} = 101 + 14.5 * x$\")\n",
    "    plt.xlabel('Temperature (ºC)')\n",
    "    plt.ylabel('Ice Cream Sales (€)')\n",
    "\n",
    "# Predictions 2\n",
    "y_pred_model_2 = 101 + 14.5 * X\n",
    "plot_2_models(y_pred, y_pred_model_2)"
   ]
  },
  {
   "cell_type": "markdown",
   "metadata": {},
   "source": [
    "## Metrics"
   ]
  },
  {
   "cell_type": "markdown",
   "metadata": {},
   "source": [
    "Metrics are used for estimating the error of our model.\n",
    "Two typical ML regression metrics (there are more):\n",
    "\n",
    "- Mean Absolute Error (MAE).\n",
    "- Mean Squared Error (MSE)."
   ]
  },
  {
   "cell_type": "markdown",
   "metadata": {},
   "source": [
    "### MAE"
   ]
  },
  {
   "cell_type": "markdown",
   "metadata": {},
   "source": [
    "MAE measures the average magnitude of the errors between predicted and observed (real) values.\n",
    "\n",
    "$$\n",
    "MAE= \\frac{1}{N} \\sum|y_i-ŷ_i|\n",
    "$$\n",
    "\n",
    "N is the number of observations."
   ]
  },
  {
   "cell_type": "code",
   "execution_count": 61,
   "metadata": {},
   "outputs": [
    {
     "data": {
      "text/html": [
       "<div>\n",
       "<style scoped>\n",
       "    .dataframe tbody tr th:only-of-type {\n",
       "        vertical-align: middle;\n",
       "    }\n",
       "\n",
       "    .dataframe tbody tr th {\n",
       "        vertical-align: top;\n",
       "    }\n",
       "\n",
       "    .dataframe thead th {\n",
       "        text-align: right;\n",
       "    }\n",
       "</style>\n",
       "<table border=\"1\" class=\"dataframe\">\n",
       "  <thead>\n",
       "    <tr style=\"text-align: right;\">\n",
       "      <th></th>\n",
       "      <th>temp (x)</th>\n",
       "      <th>sales (y)</th>\n",
       "      <th>sales_pred (ŷ)</th>\n",
       "      <th>abs_error (|y - ŷ|)</th>\n",
       "    </tr>\n",
       "  </thead>\n",
       "  <tbody>\n",
       "    <tr>\n",
       "      <th>0</th>\n",
       "      <td>5</td>\n",
       "      <td>200</td>\n",
       "      <td>170</td>\n",
       "      <td>30</td>\n",
       "    </tr>\n",
       "    <tr>\n",
       "      <th>1</th>\n",
       "      <td>8</td>\n",
       "      <td>235</td>\n",
       "      <td>212</td>\n",
       "      <td>23</td>\n",
       "    </tr>\n",
       "    <tr>\n",
       "      <th>2</th>\n",
       "      <td>10</td>\n",
       "      <td>210</td>\n",
       "      <td>240</td>\n",
       "      <td>30</td>\n",
       "    </tr>\n",
       "    <tr>\n",
       "      <th>3</th>\n",
       "      <td>12</td>\n",
       "      <td>240</td>\n",
       "      <td>268</td>\n",
       "      <td>28</td>\n",
       "    </tr>\n",
       "    <tr>\n",
       "      <th>4</th>\n",
       "      <td>20</td>\n",
       "      <td>420</td>\n",
       "      <td>380</td>\n",
       "      <td>40</td>\n",
       "    </tr>\n",
       "    <tr>\n",
       "      <th>5</th>\n",
       "      <td>23</td>\n",
       "      <td>435</td>\n",
       "      <td>422</td>\n",
       "      <td>13</td>\n",
       "    </tr>\n",
       "    <tr>\n",
       "      <th>6</th>\n",
       "      <td>33</td>\n",
       "      <td>560</td>\n",
       "      <td>562</td>\n",
       "      <td>2</td>\n",
       "    </tr>\n",
       "    <tr>\n",
       "      <th>7</th>\n",
       "      <td>35</td>\n",
       "      <td>620</td>\n",
       "      <td>590</td>\n",
       "      <td>30</td>\n",
       "    </tr>\n",
       "  </tbody>\n",
       "</table>\n",
       "</div>"
      ],
      "text/plain": [
       "   temp (x)  sales (y)  sales_pred (ŷ)  abs_error (|y - ŷ|)\n",
       "0         5        200             170                   30\n",
       "1         8        235             212                   23\n",
       "2        10        210             240                   30\n",
       "3        12        240             268                   28\n",
       "4        20        420             380                   40\n",
       "5        23        435             422                   13\n",
       "6        33        560             562                    2\n",
       "7        35        620             590                   30"
      ]
     },
     "execution_count": 61,
     "metadata": {},
     "output_type": "execute_result"
    }
   ],
   "source": [
    "# Absolute error between each pair of observation-prediction\n",
    "df['abs_error (|y - ŷ|)'] = abs(df['sales (y)'] - df['sales_pred (ŷ)'])\n",
    "df"
   ]
  },
  {
   "cell_type": "code",
   "execution_count": 62,
   "metadata": {},
   "outputs": [
    {
     "name": "stdout",
     "output_type": "stream",
     "text": [
      "MAE: 24.5 €\n"
     ]
    }
   ],
   "source": [
    "# MAE (sum of all elements divided by the length = mean)\n",
    "mae = df['abs_error (|y - ŷ|)'].mean()\n",
    "print(f'MAE: {mae} €')"
   ]
  },
  {
   "cell_type": "markdown",
   "metadata": {},
   "source": [
    "For simplicity, can be used a predefined function in sklearn for calculating MAE:"
   ]
  },
  {
   "cell_type": "code",
   "execution_count": 63,
   "metadata": {},
   "outputs": [
    {
     "name": "stdout",
     "output_type": "stream",
     "text": [
      "MAE: 24.5 €\n"
     ]
    }
   ],
   "source": [
    "from sklearn.metrics import mean_absolute_error\n",
    "\n",
    "mae = mean_absolute_error(df['sales (y)'], df['sales_pred (ŷ)'])\n",
    "print(f'MAE: {mae} €')"
   ]
  },
  {
   "cell_type": "code",
   "execution_count": 40,
   "metadata": {},
   "outputs": [
    {
     "data": {
      "text/html": [
       "<div>\n",
       "<style scoped>\n",
       "    .dataframe tbody tr th:only-of-type {\n",
       "        vertical-align: middle;\n",
       "    }\n",
       "\n",
       "    .dataframe tbody tr th {\n",
       "        vertical-align: top;\n",
       "    }\n",
       "\n",
       "    .dataframe thead th {\n",
       "        text-align: right;\n",
       "    }\n",
       "</style>\n",
       "<table border=\"1\" class=\"dataframe\">\n",
       "  <thead>\n",
       "    <tr style=\"text-align: right;\">\n",
       "      <th></th>\n",
       "      <th>temp (x)</th>\n",
       "      <th>sales (y)</th>\n",
       "      <th>sales_pred (ŷ)</th>\n",
       "      <th>abs_error (|y - ŷ|)</th>\n",
       "      <th>sales_pred (ŷ_2)</th>\n",
       "      <th>abs_error (|y - ŷ_2|)</th>\n",
       "    </tr>\n",
       "  </thead>\n",
       "  <tbody>\n",
       "    <tr>\n",
       "      <th>0</th>\n",
       "      <td>5</td>\n",
       "      <td>200</td>\n",
       "      <td>170</td>\n",
       "      <td>30</td>\n",
       "      <td>173.5</td>\n",
       "      <td>26.5</td>\n",
       "    </tr>\n",
       "    <tr>\n",
       "      <th>1</th>\n",
       "      <td>8</td>\n",
       "      <td>235</td>\n",
       "      <td>212</td>\n",
       "      <td>23</td>\n",
       "      <td>217.0</td>\n",
       "      <td>18.0</td>\n",
       "    </tr>\n",
       "    <tr>\n",
       "      <th>2</th>\n",
       "      <td>10</td>\n",
       "      <td>210</td>\n",
       "      <td>240</td>\n",
       "      <td>30</td>\n",
       "      <td>246.0</td>\n",
       "      <td>36.0</td>\n",
       "    </tr>\n",
       "    <tr>\n",
       "      <th>3</th>\n",
       "      <td>12</td>\n",
       "      <td>240</td>\n",
       "      <td>268</td>\n",
       "      <td>28</td>\n",
       "      <td>275.0</td>\n",
       "      <td>35.0</td>\n",
       "    </tr>\n",
       "    <tr>\n",
       "      <th>4</th>\n",
       "      <td>20</td>\n",
       "      <td>420</td>\n",
       "      <td>380</td>\n",
       "      <td>40</td>\n",
       "      <td>391.0</td>\n",
       "      <td>29.0</td>\n",
       "    </tr>\n",
       "    <tr>\n",
       "      <th>5</th>\n",
       "      <td>23</td>\n",
       "      <td>435</td>\n",
       "      <td>422</td>\n",
       "      <td>13</td>\n",
       "      <td>434.5</td>\n",
       "      <td>0.5</td>\n",
       "    </tr>\n",
       "    <tr>\n",
       "      <th>6</th>\n",
       "      <td>33</td>\n",
       "      <td>560</td>\n",
       "      <td>562</td>\n",
       "      <td>2</td>\n",
       "      <td>579.5</td>\n",
       "      <td>19.5</td>\n",
       "    </tr>\n",
       "    <tr>\n",
       "      <th>7</th>\n",
       "      <td>35</td>\n",
       "      <td>620</td>\n",
       "      <td>590</td>\n",
       "      <td>30</td>\n",
       "      <td>608.5</td>\n",
       "      <td>11.5</td>\n",
       "    </tr>\n",
       "  </tbody>\n",
       "</table>\n",
       "</div>"
      ],
      "text/plain": [
       "   temp (x)  sales (y)  sales_pred (ŷ)  abs_error (|y - ŷ|)  sales_pred (ŷ_2)  \\\n",
       "0         5        200             170                   30             173.5   \n",
       "1         8        235             212                   23             217.0   \n",
       "2        10        210             240                   30             246.0   \n",
       "3        12        240             268                   28             275.0   \n",
       "4        20        420             380                   40             391.0   \n",
       "5        23        435             422                   13             434.5   \n",
       "6        33        560             562                    2             579.5   \n",
       "7        35        620             590                   30             608.5   \n",
       "\n",
       "   abs_error (|y - ŷ_2|)  \n",
       "0                   26.5  \n",
       "1                   18.0  \n",
       "2                   36.0  \n",
       "3                   35.0  \n",
       "4                   29.0  \n",
       "5                    0.5  \n",
       "6                   19.5  \n",
       "7                   11.5  "
      ]
     },
     "execution_count": 40,
     "metadata": {},
     "output_type": "execute_result"
    }
   ],
   "source": [
    "# Model 2\n",
    "\n",
    "w0_2 = 101\n",
    "w1_2 = 14.5\n",
    "\n",
    "# predicted y_2\n",
    "y_pred_model_2 = w0_2 + w1_2 * X\n",
    "\n",
    "df['sales_pred (ŷ_2)'] = y_pred_model_2\n",
    "df['abs_error (|y - ŷ_2|)'] = abs(df['sales (y)'] - df['sales_pred (ŷ_2)'])\n",
    "df"
   ]
  },
  {
   "cell_type": "code",
   "execution_count": 41,
   "metadata": {},
   "outputs": [
    {
     "data": {
      "image/png": "[encoded data removed]",
      "text/plain": [
       "<Figure size 432x288 with 1 Axes>"
      ]
     },
     "metadata": {
      "needs_background": "light"
     },
     "output_type": "display_data"
    }
   ],
   "source": [
    "mae_2 = mean_absolute_error(df['sales (y)'], df['sales_pred (ŷ_2)'])\n",
    "\n",
    "def plot_2_models_maes():\n",
    "    plt.scatter(X, y)\n",
    "    plt.plot(X, y_pred, marker='o', color='black', label=f\"$\\hat{{y}} = 100 + 14 * x$, MAE: {mae:.1f} €\")\n",
    "    plt.plot(X, y_pred_model_2, marker='o', color='orange', label=f\"$\\hat{{y}} = 101 + 14.5 * x$, MAE: {mae_2:.1f} €\")\n",
    "    plt.xlabel('Temperature (ºC)')\n",
    "    plt.ylabel('Ice Cream Sales (€)')\n",
    "    plt.legend(loc='upper left')\n",
    "\n",
    "plot_2_models_maes()\n",
    "plt.show()"
   ]
  },
  {
   "cell_type": "markdown",
   "metadata": {},
   "source": [
    "### MSE"
   ]
  },
  {
   "cell_type": "markdown",
   "metadata": {},
   "source": [
    "MSE measures the average of the squares of the errors.\n",
    "\n",
    "\n",
    "$$\n",
    "MSE= \\frac{1}{N} \\sum(y_i-ŷ_i)²\n",
    "$$\n",
    "\n",
    "N is the number of observations.\n",
    "\n",
    "MSE is more sensitive to outliers than MAE. \n",
    "\n",
    "An outlier is an observation that deviates significantly from other observations in a dataset. In other words, it's a data point that lies outside the overall pattern of the data. Outliers can occur due to various reasons, such as measurement or recording errors, natural variation in the data, or they could represent genuinely different behavior in the data."
   ]
  },
  {
   "cell_type": "code",
   "execution_count": 64,
   "metadata": {},
   "outputs": [
    {
     "data": {
      "text/html": [
       "<div>\n",
       "<style scoped>\n",
       "    .dataframe tbody tr th:only-of-type {\n",
       "        vertical-align: middle;\n",
       "    }\n",
       "\n",
       "    .dataframe tbody tr th {\n",
       "        vertical-align: top;\n",
       "    }\n",
       "\n",
       "    .dataframe thead th {\n",
       "        text-align: right;\n",
       "    }\n",
       "</style>\n",
       "<table border=\"1\" class=\"dataframe\">\n",
       "  <thead>\n",
       "    <tr style=\"text-align: right;\">\n",
       "      <th></th>\n",
       "      <th>temp (x)</th>\n",
       "      <th>sales (y)</th>\n",
       "      <th>sales_pred (ŷ)</th>\n",
       "      <th>abs_error (|y - ŷ|)</th>\n",
       "      <th>abs_error_sq ((y - ŷ)²)</th>\n",
       "    </tr>\n",
       "  </thead>\n",
       "  <tbody>\n",
       "    <tr>\n",
       "      <th>0</th>\n",
       "      <td>5</td>\n",
       "      <td>200</td>\n",
       "      <td>170</td>\n",
       "      <td>30</td>\n",
       "      <td>900</td>\n",
       "    </tr>\n",
       "    <tr>\n",
       "      <th>1</th>\n",
       "      <td>8</td>\n",
       "      <td>235</td>\n",
       "      <td>212</td>\n",
       "      <td>23</td>\n",
       "      <td>529</td>\n",
       "    </tr>\n",
       "    <tr>\n",
       "      <th>2</th>\n",
       "      <td>10</td>\n",
       "      <td>210</td>\n",
       "      <td>240</td>\n",
       "      <td>30</td>\n",
       "      <td>900</td>\n",
       "    </tr>\n",
       "    <tr>\n",
       "      <th>3</th>\n",
       "      <td>12</td>\n",
       "      <td>240</td>\n",
       "      <td>268</td>\n",
       "      <td>28</td>\n",
       "      <td>784</td>\n",
       "    </tr>\n",
       "    <tr>\n",
       "      <th>4</th>\n",
       "      <td>20</td>\n",
       "      <td>420</td>\n",
       "      <td>380</td>\n",
       "      <td>40</td>\n",
       "      <td>1600</td>\n",
       "    </tr>\n",
       "    <tr>\n",
       "      <th>5</th>\n",
       "      <td>23</td>\n",
       "      <td>435</td>\n",
       "      <td>422</td>\n",
       "      <td>13</td>\n",
       "      <td>169</td>\n",
       "    </tr>\n",
       "    <tr>\n",
       "      <th>6</th>\n",
       "      <td>33</td>\n",
       "      <td>560</td>\n",
       "      <td>562</td>\n",
       "      <td>2</td>\n",
       "      <td>4</td>\n",
       "    </tr>\n",
       "    <tr>\n",
       "      <th>7</th>\n",
       "      <td>35</td>\n",
       "      <td>620</td>\n",
       "      <td>590</td>\n",
       "      <td>30</td>\n",
       "      <td>900</td>\n",
       "    </tr>\n",
       "  </tbody>\n",
       "</table>\n",
       "</div>"
      ],
      "text/plain": [
       "   temp (x)  sales (y)  sales_pred (ŷ)  abs_error (|y - ŷ|)  \\\n",
       "0         5        200             170                   30   \n",
       "1         8        235             212                   23   \n",
       "2        10        210             240                   30   \n",
       "3        12        240             268                   28   \n",
       "4        20        420             380                   40   \n",
       "5        23        435             422                   13   \n",
       "6        33        560             562                    2   \n",
       "7        35        620             590                   30   \n",
       "\n",
       "   abs_error_sq ((y - ŷ)²)  \n",
       "0                      900  \n",
       "1                      529  \n",
       "2                      900  \n",
       "3                      784  \n",
       "4                     1600  \n",
       "5                      169  \n",
       "6                        4  \n",
       "7                      900  "
      ]
     },
     "execution_count": 64,
     "metadata": {},
     "output_type": "execute_result"
    }
   ],
   "source": [
    "# Absolute error between each pair of observation-prediction\n",
    "df['abs_error_sq ((y - ŷ)²)'] = (df['sales (y)'] - df['sales_pred (ŷ)'])**2\n",
    "df"
   ]
  },
  {
   "cell_type": "code",
   "execution_count": 65,
   "metadata": {},
   "outputs": [
    {
     "name": "stdout",
     "output_type": "stream",
     "text": [
      "MSE: 723.25 €\n"
     ]
    }
   ],
   "source": [
    "# MSE (sum of all elements divided by the length = mean)\n",
    "mse = df['abs_error_sq ((y - ŷ)²)'].mean()\n",
    "print(f'MSE: {mse} €')"
   ]
  },
  {
   "cell_type": "markdown",
   "metadata": {},
   "source": [
    "For simplicity, we could use a predefined function in sklearn for calculating MSE:"
   ]
  },
  {
   "cell_type": "code",
   "execution_count": 77,
   "metadata": {},
   "outputs": [
    {
     "name": "stdout",
     "output_type": "stream",
     "text": [
      "MSE: 723.25 €²\n"
     ]
    }
   ],
   "source": [
    "from sklearn.metrics import mean_squared_error\n",
    "\n",
    "mse = mean_squared_error(df['sales (y)'], df['sales_pred (ŷ)'])\n",
    "print(f'MSE: {mse} €²')"
   ]
  },
  {
   "cell_type": "code",
   "execution_count": 70,
   "metadata": {},
   "outputs": [
    {
     "data": {
      "text/html": [
       "<div>\n",
       "<style scoped>\n",
       "    .dataframe tbody tr th:only-of-type {\n",
       "        vertical-align: middle;\n",
       "    }\n",
       "\n",
       "    .dataframe tbody tr th {\n",
       "        vertical-align: top;\n",
       "    }\n",
       "\n",
       "    .dataframe thead th {\n",
       "        text-align: right;\n",
       "    }\n",
       "</style>\n",
       "<table border=\"1\" class=\"dataframe\">\n",
       "  <thead>\n",
       "    <tr style=\"text-align: right;\">\n",
       "      <th></th>\n",
       "      <th>temp (x)</th>\n",
       "      <th>sales (y)</th>\n",
       "      <th>sales_pred (ŷ)</th>\n",
       "      <th>abs_error (|y - ŷ|)</th>\n",
       "      <th>abs_error_sq ((y - ŷ)²)</th>\n",
       "      <th>sales_pred (ŷ_2)</th>\n",
       "      <th>abs_error (|y - ŷ_2|)</th>\n",
       "      <th>abs_error_sq ((y - ŷ_2)²)</th>\n",
       "    </tr>\n",
       "  </thead>\n",
       "  <tbody>\n",
       "    <tr>\n",
       "      <th>0</th>\n",
       "      <td>5</td>\n",
       "      <td>200</td>\n",
       "      <td>170</td>\n",
       "      <td>30</td>\n",
       "      <td>900</td>\n",
       "      <td>173.5</td>\n",
       "      <td>26.5</td>\n",
       "      <td>702.25</td>\n",
       "    </tr>\n",
       "    <tr>\n",
       "      <th>1</th>\n",
       "      <td>8</td>\n",
       "      <td>235</td>\n",
       "      <td>212</td>\n",
       "      <td>23</td>\n",
       "      <td>529</td>\n",
       "      <td>217.0</td>\n",
       "      <td>18.0</td>\n",
       "      <td>324.00</td>\n",
       "    </tr>\n",
       "    <tr>\n",
       "      <th>2</th>\n",
       "      <td>10</td>\n",
       "      <td>210</td>\n",
       "      <td>240</td>\n",
       "      <td>30</td>\n",
       "      <td>900</td>\n",
       "      <td>246.0</td>\n",
       "      <td>36.0</td>\n",
       "      <td>1296.00</td>\n",
       "    </tr>\n",
       "    <tr>\n",
       "      <th>3</th>\n",
       "      <td>12</td>\n",
       "      <td>240</td>\n",
       "      <td>268</td>\n",
       "      <td>28</td>\n",
       "      <td>784</td>\n",
       "      <td>275.0</td>\n",
       "      <td>35.0</td>\n",
       "      <td>1225.00</td>\n",
       "    </tr>\n",
       "    <tr>\n",
       "      <th>4</th>\n",
       "      <td>20</td>\n",
       "      <td>420</td>\n",
       "      <td>380</td>\n",
       "      <td>40</td>\n",
       "      <td>1600</td>\n",
       "      <td>391.0</td>\n",
       "      <td>29.0</td>\n",
       "      <td>841.00</td>\n",
       "    </tr>\n",
       "    <tr>\n",
       "      <th>5</th>\n",
       "      <td>23</td>\n",
       "      <td>435</td>\n",
       "      <td>422</td>\n",
       "      <td>13</td>\n",
       "      <td>169</td>\n",
       "      <td>434.5</td>\n",
       "      <td>0.5</td>\n",
       "      <td>0.25</td>\n",
       "    </tr>\n",
       "    <tr>\n",
       "      <th>6</th>\n",
       "      <td>33</td>\n",
       "      <td>560</td>\n",
       "      <td>562</td>\n",
       "      <td>2</td>\n",
       "      <td>4</td>\n",
       "      <td>579.5</td>\n",
       "      <td>19.5</td>\n",
       "      <td>380.25</td>\n",
       "    </tr>\n",
       "    <tr>\n",
       "      <th>7</th>\n",
       "      <td>35</td>\n",
       "      <td>620</td>\n",
       "      <td>590</td>\n",
       "      <td>30</td>\n",
       "      <td>900</td>\n",
       "      <td>608.5</td>\n",
       "      <td>11.5</td>\n",
       "      <td>132.25</td>\n",
       "    </tr>\n",
       "  </tbody>\n",
       "</table>\n",
       "</div>"
      ],
      "text/plain": [
       "   temp (x)  sales (y)  sales_pred (ŷ)  abs_error (|y - ŷ|)  \\\n",
       "0         5        200             170                   30   \n",
       "1         8        235             212                   23   \n",
       "2        10        210             240                   30   \n",
       "3        12        240             268                   28   \n",
       "4        20        420             380                   40   \n",
       "5        23        435             422                   13   \n",
       "6        33        560             562                    2   \n",
       "7        35        620             590                   30   \n",
       "\n",
       "   abs_error_sq ((y - ŷ)²)  sales_pred (ŷ_2)  abs_error (|y - ŷ_2|)  \\\n",
       "0                      900             173.5                   26.5   \n",
       "1                      529             217.0                   18.0   \n",
       "2                      900             246.0                   36.0   \n",
       "3                      784             275.0                   35.0   \n",
       "4                     1600             391.0                   29.0   \n",
       "5                      169             434.5                    0.5   \n",
       "6                        4             579.5                   19.5   \n",
       "7                      900             608.5                   11.5   \n",
       "\n",
       "   abs_error_sq ((y - ŷ_2)²)  \n",
       "0                     702.25  \n",
       "1                     324.00  \n",
       "2                    1296.00  \n",
       "3                    1225.00  \n",
       "4                     841.00  \n",
       "5                       0.25  \n",
       "6                     380.25  \n",
       "7                     132.25  "
      ]
     },
     "execution_count": 70,
     "metadata": {},
     "output_type": "execute_result"
    }
   ],
   "source": [
    "# Absolute error between each pair of observation-prediction_2\n",
    "df['abs_error_sq ((y - ŷ_2)²)'] = (df['sales (y)'] - df['sales_pred (ŷ_2)'])**2\n",
    "df"
   ]
  },
  {
   "cell_type": "code",
   "execution_count": 76,
   "metadata": {},
   "outputs": [
    {
     "name": "stdout",
     "output_type": "stream",
     "text": [
      "MSE: 612.625 €²\n"
     ]
    }
   ],
   "source": [
    "# MSE_2\n",
    "mse_2 = df['abs_error_sq ((y - ŷ_2)²)'].mean()\n",
    "print(f'MSE: {mse_2} €²')"
   ]
  },
  {
   "cell_type": "code",
   "execution_count": 75,
   "metadata": {},
   "outputs": [
    {
     "data": {
      "image/png": "[encoded data removed]",
      "text/plain": [
       "<Figure size 432x288 with 1 Axes>"
      ]
     },
     "metadata": {
      "needs_background": "light"
     },
     "output_type": "display_data"
    }
   ],
   "source": [
    "def plot_2_models_mses():\n",
    "    plt.scatter(X, y)\n",
    "    plt.plot(X, y_pred, marker='o', color='black', label=f\"$\\hat{{y}} = 100 + 14 * x$, MSE: {mse:.1f} €²\")\n",
    "    plt.plot(X, y_pred_model_2, marker='o', color='orange', label=f\"$\\hat{{y}} = 101 + 14.5 * x$, MSE: {mse_2:.1f} €²\")\n",
    "    plt.xlabel('Temperature (ºC)')\n",
    "    plt.ylabel('Ice Cream Sales (€)')\n",
    "    plt.legend(loc='upper left')\n",
    "\n",
    "plot_2_models_mses()\n",
    "plt.show()"
   ]
  },
  {
   "cell_type": "markdown",
   "metadata": {},
   "source": [
    "### MAE vs MSE"
   ]
  },
  {
   "cell_type": "markdown",
   "metadata": {},
   "source": [
    "**Which is better?**\n",
    "\n",
    "It depends. \n",
    "\n",
    "Problem Sensitivity:\n",
    "\n",
    "- MAE if problem is not sensitive to large errors.\n",
    "- MSE if problem is sensitive to large errors.\n",
    "\n",
    "Interpretability:\n",
    "\n",
    "- MAE in the same units as target.\n",
    "- MSE not as interpretable (another option: RMSE).\n",
    "\n",
    "Optimization:\n",
    "\n",
    "- MSE for problems requiring gradient-based optimization."
   ]
  }
 ],
 "metadata": {
  "kernelspec": {
   "display_name": "Python 3",
   "language": "python",
   "name": "python3"
  },
  "language_info": {
   "codemirror_mode": {
    "name": "ipython",
    "version": 3
   },
   "file_extension": ".py",
   "mimetype": "text/x-python",
   "name": "python",
   "nbconvert_exporter": "python",
   "pygments_lexer": "ipython3",
   "version": "3.10.12"
  }
 },
 "nbformat": 4,
 "nbformat_minor": 2
}
