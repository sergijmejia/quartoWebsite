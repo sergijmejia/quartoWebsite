{
 "cells": [
  {
   "cell_type": "markdown",
   "metadata": {},
   "source": [
    "# Pandas"
   ]
  },
  {
   "cell_type": "markdown",
   "metadata": {},
   "source": [
    "Pandas is a powerful and widely used open-source Python library for data manipulation and analysis. It provides easy-to-use data structures and functions to work with structured data, making it an essential tool for data scientists, analysts, and researchers.\n",
    "\n",
    "Key features of the Pandas library include:\n",
    "\n",
    "* **DataFrame:** \n",
    "The primary data structure in Pandas is the DataFrame, which is a two-dimensional labeled data structure with columns of potentially different data types. It can be thought of as a spreadsheet or SQL table. DataFrames allow for easy manipulation and analysis of data, including filtering, sorting, grouping, and aggregation."
   ]
  },
  {
   "cell_type": "code",
   "execution_count": 1,
   "metadata": {},
   "outputs": [
    {
     "name": "stdout",
     "output_type": "stream",
     "text": [
      "      Name  Age         City\n",
      "0    Alice   25     New York\n",
      "1      Bob   30  Los Angeles\n",
      "2  Charlie   35      Chicago\n",
      "3    David   40      Houston\n"
     ]
    }
   ],
   "source": [
    "import pandas as pd\n",
    "\n",
    "# Creating a DataFrame from a dictionary\n",
    "data = {'Name': ['Alice', 'Bob', 'Charlie', 'David'],\n",
    "        'Age': [25, 30, 35, 40],\n",
    "        'City': ['New York', 'Los Angeles', 'Chicago', 'Houston']}\n",
    "df = pd.DataFrame(data)\n",
    "print(df)"
   ]
  },
  {
   "cell_type": "markdown",
   "metadata": {},
   "source": [
    "* **Reading Data from a File:**\n",
    "Pandas can read data from various file formats such as CSV, Excel, JSON, SQL, and more."
   ]
  },
  {
   "cell_type": "code",
   "execution_count": null,
   "metadata": {},
   "outputs": [],
   "source": [
    "# Reading data from a CSV file\n",
    "df = pd.read_csv('data.csv')\n",
    "print(df.head())  # Print first few rows of the DataFrame"
   ]
  },
  {
   "cell_type": "markdown",
   "metadata": {},
   "source": [
    "* **Basic Data Manipulation:**\n",
    "Pandas provides functions for data manipulation, including filtering, sorting, grouping, and aggregation."
   ]
  },
  {
   "cell_type": "code",
   "execution_count": null,
   "metadata": {},
   "outputs": [],
   "source": [
    "# Filtering rows based on a condition\n",
    "young_people = df[df['Age'] < 30]\n",
    "\n",
    "# Sorting DataFrame by Age in descending order\n",
    "df_sorted = df.sort_values(by='Age', ascending=False)\n",
    "\n",
    "# Grouping data by City and calculating average Age\n",
    "avg_age_by_city = df.groupby('City')['Age'].mean()"
   ]
  },
  {
   "cell_type": "markdown",
   "metadata": {},
   "source": [
    "* **Handling Missing Values:**\n",
    "Pandas provides functions to handle missing values, including checking for missing values, dropping rows with missing values, and filling missing values with a specified value."
   ]
  },
  {
   "cell_type": "code",
   "execution_count": null,
   "metadata": {},
   "outputs": [],
   "source": [
    "# Checking for missing values\n",
    "print(df.isnull().sum())\n",
    "\n",
    "# Dropping rows with missing values\n",
    "df_cleaned = df.dropna()\n",
    "\n",
    "# Filling missing values with a specified value\n",
    "df_filled = df.fillna({'Age': df['Age'].mean()})"
   ]
  },
  {
   "cell_type": "markdown",
   "metadata": {},
   "source": [
    "* **Exporting Data to a File:**\n",
    "Pandas can export DataFrame to various file formats such as CSV, Excel, JSON, etc.\n",
    "python\n"
   ]
  },
  {
   "cell_type": "code",
   "execution_count": null,
   "metadata": {},
   "outputs": [],
   "source": [
    "# Exporting DataFrame to a CSV file\n",
    "df.to_csv('output.csv', index=False)"
   ]
  },
  {
   "cell_type": "markdown",
   "metadata": {},
   "source": [
    "Overall, Pandas is an essential tool for data analysis in Python, providing powerful data manipulation and analysis capabilities that streamline the process of working with structured data. Its intuitive syntax and extensive functionality make it a popular choice for data professionals."
   ]
  }
 ],
 "metadata": {
  "kernelspec": {
   "display_name": "Python 3",
   "language": "python",
   "name": "python3"
  },
  "language_info": {
   "codemirror_mode": {
    "name": "ipython",
    "version": 3
   },
   "file_extension": ".py",
   "mimetype": "text/x-python",
   "name": "python",
   "nbconvert_exporter": "python",
   "pygments_lexer": "ipython3",
   "version": "3.10.12"
  }
 },
 "nbformat": 4,
 "nbformat_minor": 2
}
