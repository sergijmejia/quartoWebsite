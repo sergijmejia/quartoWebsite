{
  "cells": [
    {
      "cell_type": "code",
      "execution_count": null,
      "metadata": {
        "id": "zZja-Hb1vmfZ"
      },
      "outputs": [],
      "source": [
        "!pip install --upgrade tensorflow"
      ]
    },
    {
      "cell_type": "code",
      "execution_count": null,
      "metadata": {
        "id": "Dr3HFu9L6WSE"
      },
      "outputs": [],
      "source": [
        "!pip install timm"
      ]
    },
    {
      "cell_type": "markdown",
      "metadata": {},
      "source": [
        "# Project"
      ]
    },
    {
      "cell_type": "markdown",
      "metadata": {
        "id": "HTZVZXuAzaaD"
      },
      "source": [
        "# Librerias"
      ]
    },
    {
      "cell_type": "code",
      "execution_count": null,
      "metadata": {
        "id": "Ra_B8CQ8ulto"
      },
      "outputs": [],
      "source": [
        "import tensorflow as tf\n",
        "import pandas as pd\n",
        "import numpy as np\n",
        "import os\n",
        "import concurrent.futures\n",
        "import matplotlib.pyplot as plt\n",
        "import matplotlib.patches as patches\n",
        "from PIL import Image\n",
        "import glob\n",
        "import scipy.io\n",
        "\n",
        "from google.colab import drive\n",
        "\n",
        "from tensorflow.keras.preprocessing.image import load_img, img_to_array\n",
        "from keras.layers import Conv2D, MaxPooling2D, Dropout, Flatten, Dense, BatchNormalization\n",
        "from keras.optimizers import Adam\n",
        "from keras.callbacks import EarlyStopping\n",
        "\n",
        "from sklearn.model_selection import train_test_split"
      ]
    },
    {
      "cell_type": "markdown",
      "metadata": {
        "id": "_Ym-HONQlfCC"
      },
      "source": [
        "# Cargar Datos"
      ]
    },
    {
      "cell_type": "markdown",
      "metadata": {
        "id": "sxCRpJKVliR5"
      },
      "source": [
        "Primero es necesario cargar las imagenes y la cantidad de personas que aparecen en cada una de ellas. Esta cantidad esta contenida en un archivo .csv que contiene el nombre de la imagen y la cantidad de cabezas que se ven en la imagen.\n",
        "Como no todas las imagenes del dataset estan incluidas en este archivo, solo se cargarán las que si lo están."
      ]
    },
    {
      "cell_type": "code",
      "execution_count": null,
      "metadata": {
        "colab": {
          "base_uri": "https://localhost:8080/"
        },
        "id": "W__ExjfzlhdR",
        "outputId": "19e773a2-c577-4696-ab84-bcd3d6949aad"
      },
      "outputs": [
        {
          "name": "stdout",
          "output_type": "stream",
          "text": [
            "Drive already mounted at /content/gdrive; to attempt to forcibly remount, call drive.mount(\"/content/gdrive\", force_remount=True).\n"
          ]
        }
      ],
      "source": [
        "drive.mount('/content/gdrive')"
      ]
    },
    {
      "cell_type": "code",
      "execution_count": null,
      "metadata": {
        "id": "wBZYdIvLt1vO"
      },
      "outputs": [],
      "source": [
        "df = pd.read_csv('/content/gdrive/MyDrive/Colab Notebooks/ProyectoFinal/Group Counting/archive/train.csv')"
      ]
    },
    {
      "cell_type": "code",
      "execution_count": null,
      "metadata": {
        "colab": {
          "base_uri": "https://localhost:8080/",
          "height": 206
        },
        "id": "yI_WXeorvyb8",
        "outputId": "18c1e68d-7921-4952-a020-6aad4d7c4d73"
      },
      "outputs": [
        {
          "data": {
            "text/html": [
              "\n",
              "  <div id=\"df-cb8cf8f5-2854-4dc4-ba27-f731a9d82777\" class=\"colab-df-container\">\n",
              "    <div>\n",
              "<style scoped>\n",
              "    .dataframe tbody tr th:only-of-type {\n",
              "        vertical-align: middle;\n",
              "    }\n",
              "\n",
              "    .dataframe tbody tr th {\n",
              "        vertical-align: top;\n",
              "    }\n",
              "\n",
              "    .dataframe thead th {\n",
              "        text-align: right;\n",
              "    }\n",
              "</style>\n",
              "<table border=\"1\" class=\"dataframe\">\n",
              "  <thead>\n",
              "    <tr style=\"text-align: right;\">\n",
              "      <th></th>\n",
              "      <th>Name</th>\n",
              "      <th>HeadCount</th>\n",
              "    </tr>\n",
              "  </thead>\n",
              "  <tbody>\n",
              "    <tr>\n",
              "      <th>0</th>\n",
              "      <td>10001.jpg</td>\n",
              "      <td>4</td>\n",
              "    </tr>\n",
              "    <tr>\n",
              "      <th>1</th>\n",
              "      <td>10002.jpg</td>\n",
              "      <td>4</td>\n",
              "    </tr>\n",
              "    <tr>\n",
              "      <th>2</th>\n",
              "      <td>10003.jpg</td>\n",
              "      <td>2</td>\n",
              "    </tr>\n",
              "    <tr>\n",
              "      <th>3</th>\n",
              "      <td>10004.jpg</td>\n",
              "      <td>3</td>\n",
              "    </tr>\n",
              "    <tr>\n",
              "      <th>4</th>\n",
              "      <td>10006.jpg</td>\n",
              "      <td>4</td>\n",
              "    </tr>\n",
              "  </tbody>\n",
              "</table>\n",
              "</div>\n",
              "    <div class=\"colab-df-buttons\">\n",
              "\n",
              "  <div class=\"colab-df-container\">\n",
              "    <button class=\"colab-df-convert\" onclick=\"convertToInteractive('df-cb8cf8f5-2854-4dc4-ba27-f731a9d82777')\"\n",
              "            title=\"Convert this dataframe to an interactive table.\"\n",
              "            style=\"display:none;\">\n",
              "\n",
              "  <svg xmlns=\"http://www.w3.org/2000/svg\" height=\"24px\" viewBox=\"0 -960 960 960\">\n",
              "    <path d=\"M120-120v-720h720v720H120Zm60-500h600v-160H180v160Zm220 220h160v-160H400v160Zm0 220h160v-160H400v160ZM180-400h160v-160H180v160Zm440 0h160v-160H620v160ZM180-180h160v-160H180v160Zm440 0h160v-160H620v160Z\"/>\n",
              "  </svg>\n",
              "    </button>\n",
              "\n",
              "  <style>\n",
              "    .colab-df-container {\n",
              "      display:flex;\n",
              "      gap: 12px;\n",
              "    }\n",
              "\n",
              "    .colab-df-convert {\n",
              "      background-color: #E8F0FE;\n",
              "      border: none;\n",
              "      border-radius: 50%;\n",
              "      cursor: pointer;\n",
              "      display: none;\n",
              "      fill: #1967D2;\n",
              "      height: 32px;\n",
              "      padding: 0 0 0 0;\n",
              "      width: 32px;\n",
              "    }\n",
              "\n",
              "    .colab-df-convert:hover {\n",
              "      background-color: #E2EBFA;\n",
              "      box-shadow: 0px 1px 2px rgba(60, 64, 67, 0.3), 0px 1px 3px 1px rgba(60, 64, 67, 0.15);\n",
              "      fill: #174EA6;\n",
              "    }\n",
              "\n",
              "    .colab-df-buttons div {\n",
              "      margin-bottom: 4px;\n",
              "    }\n",
              "\n",
              "    [theme=dark] .colab-df-convert {\n",
              "      background-color: #3B4455;\n",
              "      fill: #D2E3FC;\n",
              "    }\n",
              "\n",
              "    [theme=dark] .colab-df-convert:hover {\n",
              "      background-color: #434B5C;\n",
              "      box-shadow: 0px 1px 3px 1px rgba(0, 0, 0, 0.15);\n",
              "      filter: drop-shadow(0px 1px 2px rgba(0, 0, 0, 0.3));\n",
              "      fill: #FFFFFF;\n",
              "    }\n",
              "  </style>\n",
              "\n",
              "    <script>\n",
              "      const buttonEl =\n",
              "        document.querySelector('#df-cb8cf8f5-2854-4dc4-ba27-f731a9d82777 button.colab-df-convert');\n",
              "      buttonEl.style.display =\n",
              "        google.colab.kernel.accessAllowed ? 'block' : 'none';\n",
              "\n",
              "      async function convertToInteractive(key) {\n",
              "        const element = document.querySelector('#df-cb8cf8f5-2854-4dc4-ba27-f731a9d82777');\n",
              "        const dataTable =\n",
              "          await google.colab.kernel.invokeFunction('convertToInteractive',\n",
              "                                                    [key], {});\n",
              "        if (!dataTable) return;\n",
              "\n",
              "        const docLinkHtml = 'Like what you see? Visit the ' +\n",
              "          '<a target=\"_blank\" href=https://colab.research.google.com/notebooks/data_table.ipynb>data table notebook</a>'\n",
              "          + ' to learn more about interactive tables.';\n",
              "        element.innerHTML = '';\n",
              "        dataTable['output_type'] = 'display_data';\n",
              "        await google.colab.output.renderOutput(dataTable, element);\n",
              "        const docLink = document.createElement('div');\n",
              "        docLink.innerHTML = docLinkHtml;\n",
              "        element.appendChild(docLink);\n",
              "      }\n",
              "    </script>\n",
              "  </div>\n",
              "\n",
              "\n",
              "<div id=\"df-a84b300d-1fa0-4b9e-95ff-3ced6b3184d5\">\n",
              "  <button class=\"colab-df-quickchart\" onclick=\"quickchart('df-a84b300d-1fa0-4b9e-95ff-3ced6b3184d5')\"\n",
              "            title=\"Suggest charts\"\n",
              "            style=\"display:none;\">\n",
              "\n",
              "<svg xmlns=\"http://www.w3.org/2000/svg\" height=\"24px\"viewBox=\"0 0 24 24\"\n",
              "     width=\"24px\">\n",
              "    <g>\n",
              "        <path d=\"M19 3H5c-1.1 0-2 .9-2 2v14c0 1.1.9 2 2 2h14c1.1 0 2-.9 2-2V5c0-1.1-.9-2-2-2zM9 17H7v-7h2v7zm4 0h-2V7h2v10zm4 0h-2v-4h2v4z\"/>\n",
              "    </g>\n",
              "</svg>\n",
              "  </button>\n",
              "\n",
              "<style>\n",
              "  .colab-df-quickchart {\n",
              "      --bg-color: #E8F0FE;\n",
              "      --fill-color: #1967D2;\n",
              "      --hover-bg-color: #E2EBFA;\n",
              "      --hover-fill-color: #174EA6;\n",
              "      --disabled-fill-color: #AAA;\n",
              "      --disabled-bg-color: #DDD;\n",
              "  }\n",
              "\n",
              "  [theme=dark] .colab-df-quickchart {\n",
              "      --bg-color: #3B4455;\n",
              "      --fill-color: #D2E3FC;\n",
              "      --hover-bg-color: #434B5C;\n",
              "      --hover-fill-color: #FFFFFF;\n",
              "      --disabled-bg-color: #3B4455;\n",
              "      --disabled-fill-color: #666;\n",
              "  }\n",
              "\n",
              "  .colab-df-quickchart {\n",
              "    background-color: var(--bg-color);\n",
              "    border: none;\n",
              "    border-radius: 50%;\n",
              "    cursor: pointer;\n",
              "    display: none;\n",
              "    fill: var(--fill-color);\n",
              "    height: 32px;\n",
              "    padding: 0;\n",
              "    width: 32px;\n",
              "  }\n",
              "\n",
              "  .colab-df-quickchart:hover {\n",
              "    background-color: var(--hover-bg-color);\n",
              "    box-shadow: 0 1px 2px rgba(60, 64, 67, 0.3), 0 1px 3px 1px rgba(60, 64, 67, 0.15);\n",
              "    fill: var(--button-hover-fill-color);\n",
              "  }\n",
              "\n",
              "  .colab-df-quickchart-complete:disabled,\n",
              "  .colab-df-quickchart-complete:disabled:hover {\n",
              "    background-color: var(--disabled-bg-color);\n",
              "    fill: var(--disabled-fill-color);\n",
              "    box-shadow: none;\n",
              "  }\n",
              "\n",
              "  .colab-df-spinner {\n",
              "    border: 2px solid var(--fill-color);\n",
              "    border-color: transparent;\n",
              "    border-bottom-color: var(--fill-color);\n",
              "    animation:\n",
              "      spin 1s steps(1) infinite;\n",
              "  }\n",
              "\n",
              "  @keyframes spin {\n",
              "    0% {\n",
              "      border-color: transparent;\n",
              "      border-bottom-color: var(--fill-color);\n",
              "      border-left-color: var(--fill-color);\n",
              "    }\n",
              "    20% {\n",
              "      border-color: transparent;\n",
              "      border-left-color: var(--fill-color);\n",
              "      border-top-color: var(--fill-color);\n",
              "    }\n",
              "    30% {\n",
              "      border-color: transparent;\n",
              "      border-left-color: var(--fill-color);\n",
              "      border-top-color: var(--fill-color);\n",
              "      border-right-color: var(--fill-color);\n",
              "    }\n",
              "    40% {\n",
              "      border-color: transparent;\n",
              "      border-right-color: var(--fill-color);\n",
              "      border-top-color: var(--fill-color);\n",
              "    }\n",
              "    60% {\n",
              "      border-color: transparent;\n",
              "      border-right-color: var(--fill-color);\n",
              "    }\n",
              "    80% {\n",
              "      border-color: transparent;\n",
              "      border-right-color: var(--fill-color);\n",
              "      border-bottom-color: var(--fill-color);\n",
              "    }\n",
              "    90% {\n",
              "      border-color: transparent;\n",
              "      border-bottom-color: var(--fill-color);\n",
              "    }\n",
              "  }\n",
              "</style>\n",
              "\n",
              "  <script>\n",
              "    async function quickchart(key) {\n",
              "      const quickchartButtonEl =\n",
              "        document.querySelector('#' + key + ' button');\n",
              "      quickchartButtonEl.disabled = true;  // To prevent multiple clicks.\n",
              "      quickchartButtonEl.classList.add('colab-df-spinner');\n",
              "      try {\n",
              "        const charts = await google.colab.kernel.invokeFunction(\n",
              "            'suggestCharts', [key], {});\n",
              "      } catch (error) {\n",
              "        console.error('Error during call to suggestCharts:', error);\n",
              "      }\n",
              "      quickchartButtonEl.classList.remove('colab-df-spinner');\n",
              "      quickchartButtonEl.classList.add('colab-df-quickchart-complete');\n",
              "    }\n",
              "    (() => {\n",
              "      let quickchartButtonEl =\n",
              "        document.querySelector('#df-a84b300d-1fa0-4b9e-95ff-3ced6b3184d5 button');\n",
              "      quickchartButtonEl.style.display =\n",
              "        google.colab.kernel.accessAllowed ? 'block' : 'none';\n",
              "    })();\n",
              "  </script>\n",
              "</div>\n",
              "    </div>\n",
              "  </div>\n"
            ],
            "text/plain": [
              "        Name  HeadCount\n",
              "0  10001.jpg          4\n",
              "1  10002.jpg          4\n",
              "2  10003.jpg          2\n",
              "3  10004.jpg          3\n",
              "4  10006.jpg          4"
            ]
          },
          "execution_count": 4,
          "metadata": {},
          "output_type": "execute_result"
        }
      ],
      "source": [
        "df.head()"
      ]
    },
    {
      "cell_type": "code",
      "execution_count": null,
      "metadata": {
        "id": "p9x4Wfatw47L"
      },
      "outputs": [],
      "source": [
        "#Utilizando el nombre se cargan las imagenes\n",
        "directorio_imagen = '/content/gdrive/MyDrive/Colab Notebooks/ProyectoFinal/Group Counting/archive/image_data'\n",
        "\n",
        "def cargar_imagen(nombre_imagen):\n",
        "    ruta_imagen = os.path.join(directorio_imagen, nombre_imagen)\n",
        "    if os.path.exists(ruta_imagen):\n",
        "        imagen = load_img(ruta_imagen)\n",
        "        imagen_array = img_to_array(imagen)\n",
        "        imagen_array = imagen_array / 255.0\n",
        "        return imagen_array\n",
        "    else:\n",
        "        print(nombre_imagen, ' no añadida')\n",
        "        return None\n",
        "\n",
        "with concurrent.futures.ThreadPoolExecutor() as executor:\n",
        "    df['imagen'] = list(executor.map(cargar_imagen, df['Name']))"
      ]
    },
    {
      "cell_type": "code",
      "execution_count": null,
      "metadata": {
        "colab": {
          "base_uri": "https://localhost:8080/",
          "height": 206
        },
        "id": "0hLDFL0E8k5g",
        "outputId": "2c6cfa37-3157-49f3-b3c6-f022af110612"
      },
      "outputs": [
        {
          "data": {
            "text/html": [
              "\n",
              "  <div id=\"df-ca2c1443-2ac0-45e8-8135-4e4a10d6e781\" class=\"colab-df-container\">\n",
              "    <div>\n",
              "<style scoped>\n",
              "    .dataframe tbody tr th:only-of-type {\n",
              "        vertical-align: middle;\n",
              "    }\n",
              "\n",
              "    .dataframe tbody tr th {\n",
              "        vertical-align: top;\n",
              "    }\n",
              "\n",
              "    .dataframe thead th {\n",
              "        text-align: right;\n",
              "    }\n",
              "</style>\n",
              "<table border=\"1\" class=\"dataframe\">\n",
              "  <thead>\n",
              "    <tr style=\"text-align: right;\">\n",
              "      <th></th>\n",
              "      <th>Name</th>\n",
              "      <th>HeadCount</th>\n",
              "      <th>imagen</th>\n",
              "    </tr>\n",
              "  </thead>\n",
              "  <tbody>\n",
              "    <tr>\n",
              "      <th>0</th>\n",
              "      <td>10001.jpg</td>\n",
              "      <td>4</td>\n",
              "      <td>[[[1.0, 0.98039216, 1.0], [0.972549, 0.9529412...</td>\n",
              "    </tr>\n",
              "    <tr>\n",
              "      <th>1</th>\n",
              "      <td>10002.jpg</td>\n",
              "      <td>4</td>\n",
              "      <td>[[[0.85882354, 0.8509804, 0.7921569], [0.86666...</td>\n",
              "    </tr>\n",
              "    <tr>\n",
              "      <th>2</th>\n",
              "      <td>10003.jpg</td>\n",
              "      <td>2</td>\n",
              "      <td>[[[0.30980393, 0.28235295, 0.21176471], [0.325...</td>\n",
              "    </tr>\n",
              "    <tr>\n",
              "      <th>3</th>\n",
              "      <td>10004.jpg</td>\n",
              "      <td>3</td>\n",
              "      <td>[[[0.38431373, 0.50980395, 0.65882355], [0.384...</td>\n",
              "    </tr>\n",
              "    <tr>\n",
              "      <th>4</th>\n",
              "      <td>10006.jpg</td>\n",
              "      <td>4</td>\n",
              "      <td>[[[0.9098039, 0.9372549, 0.9607843], [0.909803...</td>\n",
              "    </tr>\n",
              "  </tbody>\n",
              "</table>\n",
              "</div>\n",
              "    <div class=\"colab-df-buttons\">\n",
              "\n",
              "  <div class=\"colab-df-container\">\n",
              "    <button class=\"colab-df-convert\" onclick=\"convertToInteractive('df-ca2c1443-2ac0-45e8-8135-4e4a10d6e781')\"\n",
              "            title=\"Convert this dataframe to an interactive table.\"\n",
              "            style=\"display:none;\">\n",
              "\n",
              "  <svg xmlns=\"http://www.w3.org/2000/svg\" height=\"24px\" viewBox=\"0 -960 960 960\">\n",
              "    <path d=\"M120-120v-720h720v720H120Zm60-500h600v-160H180v160Zm220 220h160v-160H400v160Zm0 220h160v-160H400v160ZM180-400h160v-160H180v160Zm440 0h160v-160H620v160ZM180-180h160v-160H180v160Zm440 0h160v-160H620v160Z\"/>\n",
              "  </svg>\n",
              "    </button>\n",
              "\n",
              "  <style>\n",
              "    .colab-df-container {\n",
              "      display:flex;\n",
              "      gap: 12px;\n",
              "    }\n",
              "\n",
              "    .colab-df-convert {\n",
              "      background-color: #E8F0FE;\n",
              "      border: none;\n",
              "      border-radius: 50%;\n",
              "      cursor: pointer;\n",
              "      display: none;\n",
              "      fill: #1967D2;\n",
              "      height: 32px;\n",
              "      padding: 0 0 0 0;\n",
              "      width: 32px;\n",
              "    }\n",
              "\n",
              "    .colab-df-convert:hover {\n",
              "      background-color: #E2EBFA;\n",
              "      box-shadow: 0px 1px 2px rgba(60, 64, 67, 0.3), 0px 1px 3px 1px rgba(60, 64, 67, 0.15);\n",
              "      fill: #174EA6;\n",
              "    }\n",
              "\n",
              "    .colab-df-buttons div {\n",
              "      margin-bottom: 4px;\n",
              "    }\n",
              "\n",
              "    [theme=dark] .colab-df-convert {\n",
              "      background-color: #3B4455;\n",
              "      fill: #D2E3FC;\n",
              "    }\n",
              "\n",
              "    [theme=dark] .colab-df-convert:hover {\n",
              "      background-color: #434B5C;\n",
              "      box-shadow: 0px 1px 3px 1px rgba(0, 0, 0, 0.15);\n",
              "      filter: drop-shadow(0px 1px 2px rgba(0, 0, 0, 0.3));\n",
              "      fill: #FFFFFF;\n",
              "    }\n",
              "  </style>\n",
              "\n",
              "    <script>\n",
              "      const buttonEl =\n",
              "        document.querySelector('#df-ca2c1443-2ac0-45e8-8135-4e4a10d6e781 button.colab-df-convert');\n",
              "      buttonEl.style.display =\n",
              "        google.colab.kernel.accessAllowed ? 'block' : 'none';\n",
              "\n",
              "      async function convertToInteractive(key) {\n",
              "        const element = document.querySelector('#df-ca2c1443-2ac0-45e8-8135-4e4a10d6e781');\n",
              "        const dataTable =\n",
              "          await google.colab.kernel.invokeFunction('convertToInteractive',\n",
              "                                                    [key], {});\n",
              "        if (!dataTable) return;\n",
              "\n",
              "        const docLinkHtml = 'Like what you see? Visit the ' +\n",
              "          '<a target=\"_blank\" href=https://colab.research.google.com/notebooks/data_table.ipynb>data table notebook</a>'\n",
              "          + ' to learn more about interactive tables.';\n",
              "        element.innerHTML = '';\n",
              "        dataTable['output_type'] = 'display_data';\n",
              "        await google.colab.output.renderOutput(dataTable, element);\n",
              "        const docLink = document.createElement('div');\n",
              "        docLink.innerHTML = docLinkHtml;\n",
              "        element.appendChild(docLink);\n",
              "      }\n",
              "    </script>\n",
              "  </div>\n",
              "\n",
              "\n",
              "<div id=\"df-f13fe488-da20-4cbc-b108-bd71e9211b5d\">\n",
              "  <button class=\"colab-df-quickchart\" onclick=\"quickchart('df-f13fe488-da20-4cbc-b108-bd71e9211b5d')\"\n",
              "            title=\"Suggest charts\"\n",
              "            style=\"display:none;\">\n",
              "\n",
              "<svg xmlns=\"http://www.w3.org/2000/svg\" height=\"24px\"viewBox=\"0 0 24 24\"\n",
              "     width=\"24px\">\n",
              "    <g>\n",
              "        <path d=\"M19 3H5c-1.1 0-2 .9-2 2v14c0 1.1.9 2 2 2h14c1.1 0 2-.9 2-2V5c0-1.1-.9-2-2-2zM9 17H7v-7h2v7zm4 0h-2V7h2v10zm4 0h-2v-4h2v4z\"/>\n",
              "    </g>\n",
              "</svg>\n",
              "  </button>\n",
              "\n",
              "<style>\n",
              "  .colab-df-quickchart {\n",
              "      --bg-color: #E8F0FE;\n",
              "      --fill-color: #1967D2;\n",
              "      --hover-bg-color: #E2EBFA;\n",
              "      --hover-fill-color: #174EA6;\n",
              "      --disabled-fill-color: #AAA;\n",
              "      --disabled-bg-color: #DDD;\n",
              "  }\n",
              "\n",
              "  [theme=dark] .colab-df-quickchart {\n",
              "      --bg-color: #3B4455;\n",
              "      --fill-color: #D2E3FC;\n",
              "      --hover-bg-color: #434B5C;\n",
              "      --hover-fill-color: #FFFFFF;\n",
              "      --disabled-bg-color: #3B4455;\n",
              "      --disabled-fill-color: #666;\n",
              "  }\n",
              "\n",
              "  .colab-df-quickchart {\n",
              "    background-color: var(--bg-color);\n",
              "    border: none;\n",
              "    border-radius: 50%;\n",
              "    cursor: pointer;\n",
              "    display: none;\n",
              "    fill: var(--fill-color);\n",
              "    height: 32px;\n",
              "    padding: 0;\n",
              "    width: 32px;\n",
              "  }\n",
              "\n",
              "  .colab-df-quickchart:hover {\n",
              "    background-color: var(--hover-bg-color);\n",
              "    box-shadow: 0 1px 2px rgba(60, 64, 67, 0.3), 0 1px 3px 1px rgba(60, 64, 67, 0.15);\n",
              "    fill: var(--button-hover-fill-color);\n",
              "  }\n",
              "\n",
              "  .colab-df-quickchart-complete:disabled,\n",
              "  .colab-df-quickchart-complete:disabled:hover {\n",
              "    background-color: var(--disabled-bg-color);\n",
              "    fill: var(--disabled-fill-color);\n",
              "    box-shadow: none;\n",
              "  }\n",
              "\n",
              "  .colab-df-spinner {\n",
              "    border: 2px solid var(--fill-color);\n",
              "    border-color: transparent;\n",
              "    border-bottom-color: var(--fill-color);\n",
              "    animation:\n",
              "      spin 1s steps(1) infinite;\n",
              "  }\n",
              "\n",
              "  @keyframes spin {\n",
              "    0% {\n",
              "      border-color: transparent;\n",
              "      border-bottom-color: var(--fill-color);\n",
              "      border-left-color: var(--fill-color);\n",
              "    }\n",
              "    20% {\n",
              "      border-color: transparent;\n",
              "      border-left-color: var(--fill-color);\n",
              "      border-top-color: var(--fill-color);\n",
              "    }\n",
              "    30% {\n",
              "      border-color: transparent;\n",
              "      border-left-color: var(--fill-color);\n",
              "      border-top-color: var(--fill-color);\n",
              "      border-right-color: var(--fill-color);\n",
              "    }\n",
              "    40% {\n",
              "      border-color: transparent;\n",
              "      border-right-color: var(--fill-color);\n",
              "      border-top-color: var(--fill-color);\n",
              "    }\n",
              "    60% {\n",
              "      border-color: transparent;\n",
              "      border-right-color: var(--fill-color);\n",
              "    }\n",
              "    80% {\n",
              "      border-color: transparent;\n",
              "      border-right-color: var(--fill-color);\n",
              "      border-bottom-color: var(--fill-color);\n",
              "    }\n",
              "    90% {\n",
              "      border-color: transparent;\n",
              "      border-bottom-color: var(--fill-color);\n",
              "    }\n",
              "  }\n",
              "</style>\n",
              "\n",
              "  <script>\n",
              "    async function quickchart(key) {\n",
              "      const quickchartButtonEl =\n",
              "        document.querySelector('#' + key + ' button');\n",
              "      quickchartButtonEl.disabled = true;  // To prevent multiple clicks.\n",
              "      quickchartButtonEl.classList.add('colab-df-spinner');\n",
              "      try {\n",
              "        const charts = await google.colab.kernel.invokeFunction(\n",
              "            'suggestCharts', [key], {});\n",
              "      } catch (error) {\n",
              "        console.error('Error during call to suggestCharts:', error);\n",
              "      }\n",
              "      quickchartButtonEl.classList.remove('colab-df-spinner');\n",
              "      quickchartButtonEl.classList.add('colab-df-quickchart-complete');\n",
              "    }\n",
              "    (() => {\n",
              "      let quickchartButtonEl =\n",
              "        document.querySelector('#df-f13fe488-da20-4cbc-b108-bd71e9211b5d button');\n",
              "      quickchartButtonEl.style.display =\n",
              "        google.colab.kernel.accessAllowed ? 'block' : 'none';\n",
              "    })();\n",
              "  </script>\n",
              "</div>\n",
              "    </div>\n",
              "  </div>\n"
            ],
            "text/plain": [
              "        Name  HeadCount                                             imagen\n",
              "0  10001.jpg          4  [[[1.0, 0.98039216, 1.0], [0.972549, 0.9529412...\n",
              "1  10002.jpg          4  [[[0.85882354, 0.8509804, 0.7921569], [0.86666...\n",
              "2  10003.jpg          2  [[[0.30980393, 0.28235295, 0.21176471], [0.325...\n",
              "3  10004.jpg          3  [[[0.38431373, 0.50980395, 0.65882355], [0.384...\n",
              "4  10006.jpg          4  [[[0.9098039, 0.9372549, 0.9607843], [0.909803..."
            ]
          },
          "execution_count": 6,
          "metadata": {},
          "output_type": "execute_result"
        }
      ],
      "source": [
        "df.head()"
      ]
    },
    {
      "cell_type": "markdown",
      "metadata": {
        "id": "UCKrAip0cm57"
      },
      "source": [
        "La columna \"Name\" ya no tiene ninguna utilidad por lo que se puede eliminar"
      ]
    },
    {
      "cell_type": "code",
      "execution_count": null,
      "metadata": {
        "id": "g2rn9hqzch4D"
      },
      "outputs": [],
      "source": [
        "df = df.drop('Name', axis=1)"
      ]
    },
    {
      "cell_type": "code",
      "execution_count": null,
      "metadata": {
        "colab": {
          "base_uri": "https://localhost:8080/",
          "height": 206
        },
        "id": "8ZJKwyNtB3gM",
        "outputId": "47bf1547-2c13-447f-be9c-3a23ce4c4fd3"
      },
      "outputs": [
        {
          "data": {
            "text/html": [
              "\n",
              "  <div id=\"df-bcff3dc2-0255-40b9-9f6f-cdfc7cc1dcdb\" class=\"colab-df-container\">\n",
              "    <div>\n",
              "<style scoped>\n",
              "    .dataframe tbody tr th:only-of-type {\n",
              "        vertical-align: middle;\n",
              "    }\n",
              "\n",
              "    .dataframe tbody tr th {\n",
              "        vertical-align: top;\n",
              "    }\n",
              "\n",
              "    .dataframe thead th {\n",
              "        text-align: right;\n",
              "    }\n",
              "</style>\n",
              "<table border=\"1\" class=\"dataframe\">\n",
              "  <thead>\n",
              "    <tr style=\"text-align: right;\">\n",
              "      <th></th>\n",
              "      <th>HeadCount</th>\n",
              "      <th>imagen</th>\n",
              "    </tr>\n",
              "  </thead>\n",
              "  <tbody>\n",
              "    <tr>\n",
              "      <th>0</th>\n",
              "      <td>4</td>\n",
              "      <td>[[[1.0, 0.98039216, 1.0], [0.972549, 0.9529412...</td>\n",
              "    </tr>\n",
              "    <tr>\n",
              "      <th>1</th>\n",
              "      <td>4</td>\n",
              "      <td>[[[0.85882354, 0.8509804, 0.7921569], [0.86666...</td>\n",
              "    </tr>\n",
              "    <tr>\n",
              "      <th>2</th>\n",
              "      <td>2</td>\n",
              "      <td>[[[0.30980393, 0.28235295, 0.21176471], [0.325...</td>\n",
              "    </tr>\n",
              "    <tr>\n",
              "      <th>3</th>\n",
              "      <td>3</td>\n",
              "      <td>[[[0.38431373, 0.50980395, 0.65882355], [0.384...</td>\n",
              "    </tr>\n",
              "    <tr>\n",
              "      <th>4</th>\n",
              "      <td>4</td>\n",
              "      <td>[[[0.9098039, 0.9372549, 0.9607843], [0.909803...</td>\n",
              "    </tr>\n",
              "  </tbody>\n",
              "</table>\n",
              "</div>\n",
              "    <div class=\"colab-df-buttons\">\n",
              "\n",
              "  <div class=\"colab-df-container\">\n",
              "    <button class=\"colab-df-convert\" onclick=\"convertToInteractive('df-bcff3dc2-0255-40b9-9f6f-cdfc7cc1dcdb')\"\n",
              "            title=\"Convert this dataframe to an interactive table.\"\n",
              "            style=\"display:none;\">\n",
              "\n",
              "  <svg xmlns=\"http://www.w3.org/2000/svg\" height=\"24px\" viewBox=\"0 -960 960 960\">\n",
              "    <path d=\"M120-120v-720h720v720H120Zm60-500h600v-160H180v160Zm220 220h160v-160H400v160Zm0 220h160v-160H400v160ZM180-400h160v-160H180v160Zm440 0h160v-160H620v160ZM180-180h160v-160H180v160Zm440 0h160v-160H620v160Z\"/>\n",
              "  </svg>\n",
              "    </button>\n",
              "\n",
              "  <style>\n",
              "    .colab-df-container {\n",
              "      display:flex;\n",
              "      gap: 12px;\n",
              "    }\n",
              "\n",
              "    .colab-df-convert {\n",
              "      background-color: #E8F0FE;\n",
              "      border: none;\n",
              "      border-radius: 50%;\n",
              "      cursor: pointer;\n",
              "      display: none;\n",
              "      fill: #1967D2;\n",
              "      height: 32px;\n",
              "      padding: 0 0 0 0;\n",
              "      width: 32px;\n",
              "    }\n",
              "\n",
              "    .colab-df-convert:hover {\n",
              "      background-color: #E2EBFA;\n",
              "      box-shadow: 0px 1px 2px rgba(60, 64, 67, 0.3), 0px 1px 3px 1px rgba(60, 64, 67, 0.15);\n",
              "      fill: #174EA6;\n",
              "    }\n",
              "\n",
              "    .colab-df-buttons div {\n",
              "      margin-bottom: 4px;\n",
              "    }\n",
              "\n",
              "    [theme=dark] .colab-df-convert {\n",
              "      background-color: #3B4455;\n",
              "      fill: #D2E3FC;\n",
              "    }\n",
              "\n",
              "    [theme=dark] .colab-df-convert:hover {\n",
              "      background-color: #434B5C;\n",
              "      box-shadow: 0px 1px 3px 1px rgba(0, 0, 0, 0.15);\n",
              "      filter: drop-shadow(0px 1px 2px rgba(0, 0, 0, 0.3));\n",
              "      fill: #FFFFFF;\n",
              "    }\n",
              "  </style>\n",
              "\n",
              "    <script>\n",
              "      const buttonEl =\n",
              "        document.querySelector('#df-bcff3dc2-0255-40b9-9f6f-cdfc7cc1dcdb button.colab-df-convert');\n",
              "      buttonEl.style.display =\n",
              "        google.colab.kernel.accessAllowed ? 'block' : 'none';\n",
              "\n",
              "      async function convertToInteractive(key) {\n",
              "        const element = document.querySelector('#df-bcff3dc2-0255-40b9-9f6f-cdfc7cc1dcdb');\n",
              "        const dataTable =\n",
              "          await google.colab.kernel.invokeFunction('convertToInteractive',\n",
              "                                                    [key], {});\n",
              "        if (!dataTable) return;\n",
              "\n",
              "        const docLinkHtml = 'Like what you see? Visit the ' +\n",
              "          '<a target=\"_blank\" href=https://colab.research.google.com/notebooks/data_table.ipynb>data table notebook</a>'\n",
              "          + ' to learn more about interactive tables.';\n",
              "        element.innerHTML = '';\n",
              "        dataTable['output_type'] = 'display_data';\n",
              "        await google.colab.output.renderOutput(dataTable, element);\n",
              "        const docLink = document.createElement('div');\n",
              "        docLink.innerHTML = docLinkHtml;\n",
              "        element.appendChild(docLink);\n",
              "      }\n",
              "    </script>\n",
              "  </div>\n",
              "\n",
              "\n",
              "<div id=\"df-cf68bab0-f39b-4f64-b855-16811c03a24f\">\n",
              "  <button class=\"colab-df-quickchart\" onclick=\"quickchart('df-cf68bab0-f39b-4f64-b855-16811c03a24f')\"\n",
              "            title=\"Suggest charts\"\n",
              "            style=\"display:none;\">\n",
              "\n",
              "<svg xmlns=\"http://www.w3.org/2000/svg\" height=\"24px\"viewBox=\"0 0 24 24\"\n",
              "     width=\"24px\">\n",
              "    <g>\n",
              "        <path d=\"M19 3H5c-1.1 0-2 .9-2 2v14c0 1.1.9 2 2 2h14c1.1 0 2-.9 2-2V5c0-1.1-.9-2-2-2zM9 17H7v-7h2v7zm4 0h-2V7h2v10zm4 0h-2v-4h2v4z\"/>\n",
              "    </g>\n",
              "</svg>\n",
              "  </button>\n",
              "\n",
              "<style>\n",
              "  .colab-df-quickchart {\n",
              "      --bg-color: #E8F0FE;\n",
              "      --fill-color: #1967D2;\n",
              "      --hover-bg-color: #E2EBFA;\n",
              "      --hover-fill-color: #174EA6;\n",
              "      --disabled-fill-color: #AAA;\n",
              "      --disabled-bg-color: #DDD;\n",
              "  }\n",
              "\n",
              "  [theme=dark] .colab-df-quickchart {\n",
              "      --bg-color: #3B4455;\n",
              "      --fill-color: #D2E3FC;\n",
              "      --hover-bg-color: #434B5C;\n",
              "      --hover-fill-color: #FFFFFF;\n",
              "      --disabled-bg-color: #3B4455;\n",
              "      --disabled-fill-color: #666;\n",
              "  }\n",
              "\n",
              "  .colab-df-quickchart {\n",
              "    background-color: var(--bg-color);\n",
              "    border: none;\n",
              "    border-radius: 50%;\n",
              "    cursor: pointer;\n",
              "    display: none;\n",
              "    fill: var(--fill-color);\n",
              "    height: 32px;\n",
              "    padding: 0;\n",
              "    width: 32px;\n",
              "  }\n",
              "\n",
              "  .colab-df-quickchart:hover {\n",
              "    background-color: var(--hover-bg-color);\n",
              "    box-shadow: 0 1px 2px rgba(60, 64, 67, 0.3), 0 1px 3px 1px rgba(60, 64, 67, 0.15);\n",
              "    fill: var(--button-hover-fill-color);\n",
              "  }\n",
              "\n",
              "  .colab-df-quickchart-complete:disabled,\n",
              "  .colab-df-quickchart-complete:disabled:hover {\n",
              "    background-color: var(--disabled-bg-color);\n",
              "    fill: var(--disabled-fill-color);\n",
              "    box-shadow: none;\n",
              "  }\n",
              "\n",
              "  .colab-df-spinner {\n",
              "    border: 2px solid var(--fill-color);\n",
              "    border-color: transparent;\n",
              "    border-bottom-color: var(--fill-color);\n",
              "    animation:\n",
              "      spin 1s steps(1) infinite;\n",
              "  }\n",
              "\n",
              "  @keyframes spin {\n",
              "    0% {\n",
              "      border-color: transparent;\n",
              "      border-bottom-color: var(--fill-color);\n",
              "      border-left-color: var(--fill-color);\n",
              "    }\n",
              "    20% {\n",
              "      border-color: transparent;\n",
              "      border-left-color: var(--fill-color);\n",
              "      border-top-color: var(--fill-color);\n",
              "    }\n",
              "    30% {\n",
              "      border-color: transparent;\n",
              "      border-left-color: var(--fill-color);\n",
              "      border-top-color: var(--fill-color);\n",
              "      border-right-color: var(--fill-color);\n",
              "    }\n",
              "    40% {\n",
              "      border-color: transparent;\n",
              "      border-right-color: var(--fill-color);\n",
              "      border-top-color: var(--fill-color);\n",
              "    }\n",
              "    60% {\n",
              "      border-color: transparent;\n",
              "      border-right-color: var(--fill-color);\n",
              "    }\n",
              "    80% {\n",
              "      border-color: transparent;\n",
              "      border-right-color: var(--fill-color);\n",
              "      border-bottom-color: var(--fill-color);\n",
              "    }\n",
              "    90% {\n",
              "      border-color: transparent;\n",
              "      border-bottom-color: var(--fill-color);\n",
              "    }\n",
              "  }\n",
              "</style>\n",
              "\n",
              "  <script>\n",
              "    async function quickchart(key) {\n",
              "      const quickchartButtonEl =\n",
              "        document.querySelector('#' + key + ' button');\n",
              "      quickchartButtonEl.disabled = true;  // To prevent multiple clicks.\n",
              "      quickchartButtonEl.classList.add('colab-df-spinner');\n",
              "      try {\n",
              "        const charts = await google.colab.kernel.invokeFunction(\n",
              "            'suggestCharts', [key], {});\n",
              "      } catch (error) {\n",
              "        console.error('Error during call to suggestCharts:', error);\n",
              "      }\n",
              "      quickchartButtonEl.classList.remove('colab-df-spinner');\n",
              "      quickchartButtonEl.classList.add('colab-df-quickchart-complete');\n",
              "    }\n",
              "    (() => {\n",
              "      let quickchartButtonEl =\n",
              "        document.querySelector('#df-cf68bab0-f39b-4f64-b855-16811c03a24f button');\n",
              "      quickchartButtonEl.style.display =\n",
              "        google.colab.kernel.accessAllowed ? 'block' : 'none';\n",
              "    })();\n",
              "  </script>\n",
              "</div>\n",
              "    </div>\n",
              "  </div>\n"
            ],
            "text/plain": [
              "   HeadCount                                             imagen\n",
              "0          4  [[[1.0, 0.98039216, 1.0], [0.972549, 0.9529412...\n",
              "1          4  [[[0.85882354, 0.8509804, 0.7921569], [0.86666...\n",
              "2          2  [[[0.30980393, 0.28235295, 0.21176471], [0.325...\n",
              "3          3  [[[0.38431373, 0.50980395, 0.65882355], [0.384...\n",
              "4          4  [[[0.9098039, 0.9372549, 0.9607843], [0.909803..."
            ]
          },
          "execution_count": 8,
          "metadata": {},
          "output_type": "execute_result"
        }
      ],
      "source": [
        "df.head()"
      ]
    },
    {
      "cell_type": "code",
      "execution_count": null,
      "metadata": {
        "colab": {
          "base_uri": "https://localhost:8080/"
        },
        "id": "HTr-oRKLGtRS",
        "outputId": "d008dba0-a322-4970-81f4-c951cd05f4bb"
      },
      "outputs": [
        {
          "name": "stdout",
          "output_type": "stream",
          "text": [
            "<class 'pandas.core.frame.DataFrame'>\n",
            "RangeIndex: 5733 entries, 0 to 5732\n",
            "Data columns (total 2 columns):\n",
            " #   Column     Non-Null Count  Dtype \n",
            "---  ------     --------------  ----- \n",
            " 0   HeadCount  5733 non-null   int64 \n",
            " 1   imagen     5733 non-null   object\n",
            "dtypes: int64(1), object(1)\n",
            "memory usage: 89.7+ KB\n"
          ]
        }
      ],
      "source": [
        "df.info()"
      ]
    },
    {
      "cell_type": "markdown",
      "metadata": {
        "id": "f9asp6FSVgZX"
      },
      "source": [
        "Como los datos se cargaron a partir de los nombres de las columnas se asume que no hay valores duplicados"
      ]
    },
    {
      "cell_type": "code",
      "execution_count": null,
      "metadata": {
        "id": "RKN_KeGSDrIk"
      },
      "outputs": [],
      "source": [
        "# Obtener imagenes para verificar el correcto funcionamiento del dataframe\n",
        "random = df.sample(9)\n",
        "\n",
        "plt.figure(figsize=(10, 10))\n",
        "for i, (_, row) in enumerate(random.iterrows()):\n",
        "    ax = plt.subplot(3, 3, i + 1)\n",
        "    plt.imshow(row['imagen'])\n",
        "    plt.title(row['HeadCount'])\n",
        "    plt.suptitle('Imagenes aleatorias')\n",
        "    plt.axis('off')"
      ]
    },
    {
      "cell_type": "markdown",
      "metadata": {
        "id": "qqZNi2_yzSMb"
      },
      "source": [
        "# CNN"
      ]
    },
    {
      "cell_type": "markdown",
      "metadata": {
        "id": "1-QVWX64zvAm"
      },
      "source": [
        "Para poder definir y entrenar un modelo primero procedo a dividir el df en conjjuntos de train, validation y test"
      ]
    },
    {
      "cell_type": "code",
      "execution_count": null,
      "metadata": {
        "id": "MkZ-du4Rm4n-"
      },
      "outputs": [],
      "source": [
        "df_train, df_test = train_test_split(df, test_size=0.15, random_state=42)\n",
        "df_train, df_val = train_test_split(df_train, test_size=0.2, random_state=42)"
      ]
    },
    {
      "cell_type": "code",
      "execution_count": null,
      "metadata": {
        "id": "9yajKu0CDabs"
      },
      "outputs": [],
      "source": [
        "# Elimina el índice en los conjuntos de entrenamiento, validación y prueba\n",
        "df_train = df_train.reset_index(drop=True)\n",
        "df_test = df_test.reset_index(drop=True)\n",
        "df_val = df_val.reset_index(drop=True)"
      ]
    },
    {
      "cell_type": "code",
      "execution_count": null,
      "metadata": {
        "id": "UiXzTX9OnPu-"
      },
      "outputs": [],
      "source": [
        "X_train_np = df_train['imagen']\n",
        "X_val_np = df_val['imagen']\n",
        "X_test_np = df_test['imagen']\n",
        "\n",
        "y_train_np = df_train['HeadCount'].values\n",
        "y_val_np = df_val['HeadCount'].values\n",
        "y_test_np = df_test['HeadCount'].values\n"
      ]
    },
    {
      "cell_type": "markdown",
      "metadata": {
        "id": "jguMw8i40TQe"
      },
      "source": [
        "Para optimizar los tiempos de entrenamiento se pasan los conjuntos a tensores"
      ]
    },
    {
      "cell_type": "code",
      "execution_count": null,
      "metadata": {
        "id": "dkPqmNOlRXJO"
      },
      "outputs": [],
      "source": [
        "#Para poder trabajar con imagenes de diferentes tamaños debo crear tensores por separado y luego unirlos\n",
        "\n",
        "def crear_tensor_mitad(imagen):\n",
        "    # Redimensionar las imágenes a la mitad porque no hay suficiente memoria para tratar este volumen de datos\n",
        "    imagenes_reducidas = [tf.image.resize(img, [tf.shape(img)[0] // 2, tf.shape(img)[1] // 2]) for img in imagen]\n",
        "\n",
        "    # Convertir la lista de imágenes redimensionadas a tensores\n",
        "    tensor_list = [tf.convert_to_tensor(img, dtype=tf.float32) for img in imagenes_reducidas]\n",
        "\n",
        "    # Obtener la forma de cada imagen redimensionada\n",
        "    shapes_reducidas = [tf.shape(img) for img in tensor_list]\n",
        "\n",
        "    # Encontrar la forma máxima entre todas las imágenes redimensionadas\n",
        "    max_shape_reducida = tf.reduce_max(shapes_reducidas, axis=0)\n",
        "\n",
        "    # Rellenar todas las imágenes redimensionadas para que tengan la forma máxima\n",
        "    padded_images_reducidas = [tf.image.pad_to_bounding_box(img, 0, 0, max_shape_reducida[0], max_shape_reducida[1]) for img in tensor_list]\n",
        "\n",
        "    # Convertir la lista de imágenes rellenadas a un tensor\n",
        "    stacked_tensor_reducida = tf.stack(padded_images_reducidas, axis=0)\n",
        "\n",
        "    # Crear un tf.RaggedTensor a partir del tensor apilado\n",
        "    ragged_tensor_reducida = tf.RaggedTensor.from_tensor(stacked_tensor_reducida)\n",
        "\n",
        "    dense_tensor = ragged_tensor_reducida.to_tensor()\n",
        "\n",
        "    return dense_tensor"
      ]
    },
    {
      "cell_type": "code",
      "execution_count": null,
      "metadata": {
        "id": "zvF_jGdBF-ie"
      },
      "outputs": [],
      "source": [
        "X_train = crear_tensor_mitad(X_train_np)\n",
        "X_val = crear_tensor_mitad(X_val_np)\n",
        "X_test = crear_tensor_mitad(X_test_np)"
      ]
    },
    {
      "cell_type": "code",
      "execution_count": null,
      "metadata": {
        "id": "Lcg3KIKTq1oQ"
      },
      "outputs": [],
      "source": [
        "y_train = tf.convert_to_tensor(y_train_np, dtype=tf.float32)\n",
        "y_val = tf.convert_to_tensor(y_val_np, dtype=tf.float32)\n",
        "y_test = tf.convert_to_tensor(y_test_np, dtype=tf.float32)"
      ]
    },
    {
      "cell_type": "markdown",
      "metadata": {
        "id": "ZGa-iIPyaWjX"
      },
      "source": [
        "Ahora defino un modelo"
      ]
    },
    {
      "cell_type": "code",
      "execution_count": null,
      "metadata": {
        "id": "bTq-pABMrHm8"
      },
      "outputs": [],
      "source": [
        "cnn_model = tf.keras.Sequential([\n",
        "    Conv2D(64, (3,3), activation='relu'),\n",
        "    Conv2D(64, (3,3), activation='relu'),\n",
        "    MaxPooling2D(2,2), #2,2 es el tamaño de la matriz de agrupación\n",
        "\n",
        "    Dropout(0.1),\n",
        "\n",
        "    Conv2D(32, (3,3), activation='relu'),\n",
        "    Conv2D(32, (3,3), activation='relu'),\n",
        "    MaxPooling2D(2,2), #2,2 es el tamaño de la matriz de agrupación\n",
        "\n",
        "    Dropout(0.1),\n",
        "\n",
        "    Flatten(),\n",
        "    Dense(units=128, activation='relu'),\n",
        "    Dense(1, activation='linear')\n",
        "])"
      ]
    },
    {
      "cell_type": "code",
      "execution_count": null,
      "metadata": {
        "id": "4YKP-_OfbGPI"
      },
      "outputs": [],
      "source": [
        "# Para conteo de datos es muy efectiva la funcion de perdida tf.keras.losses.Poisson()\n",
        "cnn_model.compile(optimizer=Adam(learning_rate=0.001),\n",
        "                  loss=tf.keras.losses.Poisson(),\n",
        "                  metrics=['accuracy'])"
      ]
    },
    {
      "cell_type": "code",
      "execution_count": null,
      "metadata": {
        "colab": {
          "base_uri": "https://localhost:8080/"
        },
        "id": "eyuJQL3AbHC1",
        "outputId": "5c2a0339-5c87-40b3-f376-3608904ba981"
      },
      "outputs": [
        {
          "name": "stdout",
          "output_type": "stream",
          "text": [
            "Epoch 1/20\n",
            "61/61 [==============================] - 392s 6s/step - loss: -2.1265 - accuracy: 0.0080 - val_loss: -1.8942 - val_accuracy: 0.0092\n",
            "Epoch 2/20\n",
            "61/61 [==============================] - 386s 6s/step - loss: -2.2088 - accuracy: 0.0082 - val_loss: -1.8711 - val_accuracy: 0.0092\n",
            "Epoch 3/20\n",
            "61/61 [==============================] - 388s 6s/step - loss: -2.2319 - accuracy: 0.0082 - val_loss: -1.9011 - val_accuracy: 0.0092\n",
            "Epoch 4/20\n",
            "61/61 [==============================] - 389s 6s/step - loss: -2.2499 - accuracy: 0.0082 - val_loss: -1.8558 - val_accuracy: 0.0092\n",
            "Epoch 5/20\n",
            "61/61 [==============================] - 387s 6s/step - loss: -2.2773 - accuracy: 0.0074 - val_loss: -1.9356 - val_accuracy: 0.0092\n",
            "Epoch 6/20\n",
            "61/61 [==============================] - 387s 6s/step - loss: -2.2874 - accuracy: 0.0074 - val_loss: -1.7992 - val_accuracy: 0.0092\n",
            "Epoch 7/20\n",
            "61/61 [==============================] - 386s 6s/step - loss: -2.3288 - accuracy: 0.0074 - val_loss: -1.8269 - val_accuracy: 0.0092\n",
            "Epoch 8/20\n",
            "61/61 [==============================] - 385s 6s/step - loss: -2.3524 - accuracy: 0.0072 - val_loss: -1.7878 - val_accuracy: 0.0092\n",
            "Epoch 9/20\n",
            "61/61 [==============================] - 385s 6s/step - loss: -2.3694 - accuracy: 0.0077 - val_loss: -1.8236 - val_accuracy: 0.0092\n",
            "Epoch 10/20\n",
            "61/61 [==============================] - 387s 6s/step - loss: -2.3512 - accuracy: 0.0080 - val_loss: -1.9083 - val_accuracy: 0.0092\n",
            "Epoch 11/20\n",
            "61/61 [==============================] - 356s 6s/step - loss: -2.3708 - accuracy: 0.0072 - val_loss: -1.7500 - val_accuracy: 0.0092\n",
            "Epoch 12/20\n",
            "61/61 [==============================] - 368s 6s/step - loss: -2.3971 - accuracy: 0.0064 - val_loss: -1.7534 - val_accuracy: 0.0092\n",
            "Epoch 13/20\n",
            "61/61 [==============================] - 321s 5s/step - loss: -2.4098 - accuracy: 0.0069 - val_loss: -1.7648 - val_accuracy: 0.0092\n"
          ]
        }
      ],
      "source": [
        "es = EarlyStopping(monitor='val_loss', patience=8, restore_best_weights=True)\n",
        "\n",
        "cnn_results = cnn_model.fit(X_train, y_train, epochs=20, batch_size=64,\n",
        "                      validation_data=(X_val, y_val), callbacks=[es])"
      ]
    },
    {
      "cell_type": "code",
      "execution_count": null,
      "metadata": {
        "id": "M5yYvkna_n8C"
      },
      "outputs": [],
      "source": [
        "cnn_model = tf.keras.Sequential([\n",
        "    Conv2D(32, (3,3), activation='relu'),\n",
        "    BatchNormalization(),\n",
        "    Conv2D(64, (3,3), activation='relu'),\n",
        "    MaxPooling2D(2,2), #2,2 es el tamaño de la matriz de agrupación\n",
        "\n",
        "    Dropout(0.5),\n",
        "\n",
        "    Conv2D(64, (3,3), activation='relu'),\n",
        "    BatchNormalization(),\n",
        "    Conv2D(128, (3,3), activation='relu'),\n",
        "    MaxPooling2D(2,2), #2,2 es el tamaño de la matriz de agrupación\n",
        "\n",
        "    Dropout(0.5),\n",
        "\n",
        "    Conv2D(128, (3,3), activation='relu'),\n",
        "    BatchNormalization(),\n",
        "    Conv2D(256, (3,3), activation='relu'),\n",
        "    MaxPooling2D(2,2), #2,2 es el tamaño de la matriz de agrupación\n",
        "\n",
        "    Dropout(0.5),\n",
        "\n",
        "    Flatten(),\n",
        "    Dropout(0.5),\n",
        "    Dense(units=128, activation='relu'),\n",
        "    BatchNormalization(),\n",
        "    Dense(1, activation='linear')\n",
        "])"
      ]
    },
    {
      "cell_type": "code",
      "execution_count": null,
      "metadata": {
        "id": "w46wFz8BMc6X"
      },
      "outputs": [],
      "source": [
        "cnn_model.compile(optimizer=Adam(learning_rate=0.001),\n",
        "                  loss=tf.keras.losses.Poisson(),\n",
        "                  metrics=['accuracy'])"
      ]
    },
    {
      "cell_type": "code",
      "execution_count": null,
      "metadata": {
        "colab": {
          "base_uri": "https://localhost:8080/"
        },
        "id": "_3drjYZcMgRH",
        "outputId": "7de8f4ba-d9ab-43a9-ad94-f9815c90edec"
      },
      "outputs": [
        {
          "name": "stdout",
          "output_type": "stream",
          "text": [
            "Epoch 1/20\n",
            "61/61 [==============================] - 504s 8s/step - loss: nan - accuracy: 0.0041 - val_loss: 4.4003 - val_accuracy: 0.0092\n",
            "Epoch 2/20\n",
            "61/61 [==============================] - 516s 8s/step - loss: nan - accuracy: 0.0028 - val_loss: nan - val_accuracy: 0.0000e+00\n",
            "Epoch 3/20\n",
            "61/61 [==============================] - 518s 9s/step - loss: nan - accuracy: 0.0046 - val_loss: nan - val_accuracy: 0.0000e+00\n",
            "Epoch 4/20\n",
            "61/61 [==============================] - 541s 9s/step - loss: nan - accuracy: 0.0036 - val_loss: nan - val_accuracy: 0.0000e+00\n",
            "Epoch 5/20\n",
            "61/61 [==============================] - 512s 8s/step - loss: nan - accuracy: 0.0033 - val_loss: nan - val_accuracy: 0.0092\n",
            "Epoch 6/20\n",
            "61/61 [==============================] - 500s 8s/step - loss: nan - accuracy: 0.0038 - val_loss: nan - val_accuracy: 0.0072\n",
            "Epoch 7/20\n",
            "61/61 [==============================] - 528s 9s/step - loss: nan - accuracy: 0.0049 - val_loss: nan - val_accuracy: 0.0092\n",
            "Epoch 8/20\n",
            "61/61 [==============================] - 523s 9s/step - loss: nan - accuracy: 0.0028 - val_loss: nan - val_accuracy: 0.0000e+00\n",
            "Epoch 9/20\n",
            "61/61 [==============================] - 508s 8s/step - loss: nan - accuracy: 0.0033 - val_loss: nan - val_accuracy: 0.0000e+00\n"
          ]
        }
      ],
      "source": [
        "cnn_results = cnn_model.fit(X_train, y_train, epochs=20, batch_size=64,\n",
        "                      validation_data=(X_val, y_val), callbacks=[es])"
      ]
    },
    {
      "cell_type": "markdown",
      "metadata": {
        "id": "4MSHuUaq6oPs"
      },
      "source": [
        "# Transfer learning"
      ]
    },
    {
      "cell_type": "markdown",
      "metadata": {
        "id": "bEGZQF9Af59C"
      },
      "source": [
        "No se obtienen resultados resultados aceptables. Para podemor mejorar los resultados se va a utilizar DetrForObjectDetection y un modelo ya entrenado"
      ]
    },
    {
      "cell_type": "code",
      "execution_count": null,
      "metadata": {
        "colab": {
          "base_uri": "https://localhost:8080/",
          "height": 371,
          "referenced_widgets": [
            "e69f652ce0a04b87934c19e16516cff4",
            "7488bc66b20b4a3fabd833688509ebb0",
            "fe80f9bc4ed54fd1956c6f8fd3764031",
            "c08c69dcde7a4487b5e0253d49908da7",
            "666a44b893bf46ce9ecae637a625e380",
            "3fdbdd20b9ee45ee981d2388c6b16390",
            "5d81b7a7c6be478eb366da436b17ae01",
            "caa3a111177947559659e8cbbbe6eee8",
            "896c4cd596314cb682a423d32c046d33",
            "740e2853050845d1b88950a066b87e94",
            "d352b80794d4457d975a571b99ba4b8b",
            "c70faaa80c3d4929868c869491325b19",
            "68b6c8a4dc454cb78c9434c99a519c37",
            "c1593ac173ba4056b07ae78f3ec3a22f",
            "c61dcf0e166c4b1791d12ee67e026d92",
            "f54a69f7437e43c2ba1148030548b2ca",
            "a5680e5cd7104bb8984394e45427c351",
            "73d75f9cd91240cf86b9aa7d3af64c08",
            "e047ace0b5dd4b8d9c2915d517f45dda",
            "2b4dc3955e204e91aaa583dcf9f474f3",
            "6db1fecee12944c4b5c834114754e04a",
            "2b9ea52e8d324041941cf11ac1fbaccf",
            "cc20a68d2bed4cb3bcba299908df93ad",
            "afe452ef0f1048b5bf20715da535ba7f",
            "e4358e8300574e01aeb1dd4d74555683",
            "54804bef890743178daec54eafdccfda",
            "c9a6f5b0ad56483baed675bc2e9deb22",
            "160ce0fd94ae4681abcc7509fa271dc3",
            "28ffdd1983a240c8a27bcfd3982a02f7",
            "97d35b8e05a041d5a5d94d995a5d1483",
            "52990e851b174c54935a94fbb7b3b5b4",
            "6cfca2f3cb524c9bb25ce17209ec91fe",
            "4b15de9ad56a4b99a73d1e80a4467475",
            "dac084b22a0945dc9af96cc813c9706a",
            "a0ba3129dadb4c08b856b8983a1cdf5b",
            "fac967fa4a4d450bb252ca30e75479c6",
            "036a5ffcf2c34bceaa45459f0bac0471",
            "ed8a3d2ae31d46a5b6ec3d594229c640",
            "82a19f1d878e47ce8a8b3d2f8e8ed66d",
            "4e3b1f78ee25482d85419c2599eb53cd",
            "9edf3e2179b04efb925cdadb0bb21073",
            "a4a7920e96d744fabf00ea1d6e215b4f",
            "025f7294e94e488e8ad9797a79855d19",
            "5928f9f4c9934523851b553553881501"
          ]
        },
        "id": "rJolwPGSrOhr",
        "outputId": "156e5826-1e24-4ab7-a545-c498195e9c2c"
      },
      "outputs": [
        {
          "name": "stderr",
          "output_type": "stream",
          "text": [
            "No model was supplied, defaulted to facebook/detr-resnet-50 and revision 2729413 (https://huggingface.co/facebook/detr-resnet-50).\n",
            "Using a pipeline without specifying a model name and revision in production is not recommended.\n"
          ]
        },
        {
          "data": {
            "application/vnd.jupyter.widget-view+json": {
              "model_id": "e69f652ce0a04b87934c19e16516cff4",
              "version_major": 2,
              "version_minor": 0
            },
            "text/plain": [
              "config.json:   0%|          | 0.00/4.59k [00:00<?, ?B/s]"
            ]
          },
          "metadata": {},
          "output_type": "display_data"
        },
        {
          "data": {
            "application/vnd.jupyter.widget-view+json": {
              "model_id": "c70faaa80c3d4929868c869491325b19",
              "version_major": 2,
              "version_minor": 0
            },
            "text/plain": [
              "pytorch_model.bin:   0%|          | 0.00/167M [00:00<?, ?B/s]"
            ]
          },
          "metadata": {},
          "output_type": "display_data"
        },
        {
          "data": {
            "application/vnd.jupyter.widget-view+json": {
              "model_id": "cc20a68d2bed4cb3bcba299908df93ad",
              "version_major": 2,
              "version_minor": 0
            },
            "text/plain": [
              "model.safetensors:   0%|          | 0.00/102M [00:00<?, ?B/s]"
            ]
          },
          "metadata": {},
          "output_type": "display_data"
        },
        {
          "name": "stderr",
          "output_type": "stream",
          "text": [
            "Some weights of the model checkpoint at facebook/detr-resnet-50 were not used when initializing DetrForObjectDetection: ['model.backbone.conv_encoder.model.layer3.0.downsample.1.num_batches_tracked', 'model.backbone.conv_encoder.model.layer2.0.downsample.1.num_batches_tracked', 'model.backbone.conv_encoder.model.layer4.0.downsample.1.num_batches_tracked', 'model.backbone.conv_encoder.model.layer1.0.downsample.1.num_batches_tracked']\n",
            "- This IS expected if you are initializing DetrForObjectDetection from the checkpoint of a model trained on another task or with another architecture (e.g. initializing a BertForSequenceClassification model from a BertForPreTraining model).\n",
            "- This IS NOT expected if you are initializing DetrForObjectDetection from the checkpoint of a model that you expect to be exactly identical (initializing a BertForSequenceClassification model from a BertForSequenceClassification model).\n"
          ]
        },
        {
          "data": {
            "application/vnd.jupyter.widget-view+json": {
              "model_id": "dac084b22a0945dc9af96cc813c9706a",
              "version_major": 2,
              "version_minor": 0
            },
            "text/plain": [
              "preprocessor_config.json:   0%|          | 0.00/274 [00:00<?, ?B/s]"
            ]
          },
          "metadata": {},
          "output_type": "display_data"
        },
        {
          "name": "stderr",
          "output_type": "stream",
          "text": [
            "Could not find image processor class in the image processor config or the model config. Loading based on pattern matching with the model's feature extractor configuration.\n",
            "The `max_size` parameter is deprecated and will be removed in v4.26. Please specify in `size['longest_edge'] instead`.\n"
          ]
        }
      ],
      "source": [
        "from transformers import pipeline\n",
        "\n",
        "model = pipeline(\"object-detection\")"
      ]
    },
    {
      "cell_type": "markdown",
      "metadata": {
        "id": "X46134nY8kzK"
      },
      "source": [
        "## Imagenes de grupos"
      ]
    },
    {
      "cell_type": "code",
      "execution_count": null,
      "metadata": {
        "id": "cMYdEA_g7nwP"
      },
      "outputs": [],
      "source": [
        "def cantidad_personas(lista):\n",
        "    personas = 0\n",
        "    for elem in lista:\n",
        "        if elem.get('label')=='person':\n",
        "            personas += 1\n",
        "    return personas\n",
        "\n",
        "def imprimir_objetos(img, lista):\n",
        "    plt.imshow(img.values[0])\n",
        "    for elem in lista:\n",
        "        if elem.get('label')=='person':\n",
        "            width = elem['box']['xmax'] - elem['box']['xmin']\n",
        "            height = elem['box']['ymax'] - elem['box']['ymin']\n",
        "            rect = patches.Rectangle((elem['box']['xmin'], elem['box']['ymin']), width, height, linewidth=5, edgecolor='r', facecolor='none')\n",
        "\n",
        "            plt.gca().add_patch(rect)\n",
        "\n",
        "    plt.title(f'Cantidad de personas: {cantidad_personas(lista)}', fontsize=60)\n",
        "    plt.axis('off')\n",
        "\n",
        "def array_to_image(array):\n",
        "    return Image.fromarray((array * 255).astype('uint8'))"
      ]
    },
    {
      "cell_type": "code",
      "execution_count": null,
      "metadata": {
        "id": "J43iDoUgrPMM"
      },
      "outputs": [],
      "source": [
        "random = df.sample(1)\n",
        "imagen_array = random['imagen'].values[0]\n",
        "imagen_pil = array_to_image(imagen_array)\n",
        "\n",
        "ev_modelo = model(imagen_pil)\n",
        "\n",
        "cantidad = cantidad_personas(ev_modelo)\n",
        "\n",
        "print(f\"Cantidad de personas: {cantidad}\")\n",
        "\n",
        "print(ev_modelo)\n",
        "\n",
        "plt.figure(figsize=(25, 25))\n",
        "imprimir_objetos(random['imagen'], ev_modelo)"
      ]
    },
    {
      "cell_type": "code",
      "execution_count": null,
      "metadata": {
        "id": "ALzFhVTMaMnZ"
      },
      "outputs": [],
      "source": [
        "def imprimir_objetos_multiple(img, lista):\n",
        "    plt.imshow(img)\n",
        "    for elem in lista:\n",
        "        if elem.get('label')=='person':\n",
        "            width = elem['box']['xmax'] - elem['box']['xmin']\n",
        "            height = elem['box']['ymax'] - elem['box']['ymin']\n",
        "            rect = patches.Rectangle((elem['box']['xmin'], elem['box']['ymin']), width, height, linewidth=0.5, edgecolor='r', facecolor='none')\n",
        "\n",
        "            plt.gca().add_patch(rect)\n",
        "\n",
        "    plt.title(f'Cantidad de personas: {cantidad_personas(lista)}')\n",
        "    plt.axis('off')"
      ]
    },
    {
      "cell_type": "code",
      "execution_count": null,
      "metadata": {
        "id": "itlZ1fHSYN5h"
      },
      "outputs": [],
      "source": [
        "# Ahora lo pruebo con diversas imagenes del df\n",
        "random = df.sample(9)\n",
        "\n",
        "plt.figure(figsize=(10, 10))\n",
        "for i, (_, row) in enumerate(random.iterrows()):\n",
        "    ax = plt.subplot(3, 3, i + 1)\n",
        "    imagen_array = row['imagen']\n",
        "    imagen_pil = array_to_image(imagen_array)\n",
        "    ev_modelo = model(imagen_pil)\n",
        "    imprimir_objetos_multiple(row['imagen'], ev_modelo)"
      ]
    },
    {
      "cell_type": "markdown",
      "metadata": {
        "id": "Qcgq6JIUXEFi"
      },
      "source": [
        "Al ser un modelo que detecta objetos en algunos momentos puede generar algunos errores pero en general parece funcionar de forma bastante correcta"
      ]
    },
    {
      "cell_type": "markdown",
      "metadata": {
        "id": "pIFQ0zPw8u5E"
      },
      "source": [
        "## Imagenes de multitudes"
      ]
    },
    {
      "cell_type": "markdown",
      "metadata": {
        "id": "U5VNs3Oo8x0s"
      },
      "source": [
        "Ahora lo voy a poner a prueba con imagenes de multitudes obtenidas originalmente de kaggle del dataset ShangaiTech https://www.kaggle.com/datasets/tthien/shanghaitech"
      ]
    },
    {
      "cell_type": "code",
      "execution_count": null,
      "metadata": {
        "colab": {
          "base_uri": "https://localhost:8080/"
        },
        "id": "UGszh8HsMog3",
        "outputId": "9b45c536-4164-4502-955d-1f8d25f4c3b6"
      },
      "outputs": [
        {
          "name": "stdout",
          "output_type": "stream",
          "text": [
            "Found 300 files belonging to 1 classes.\n"
          ]
        }
      ],
      "source": [
        "#Importo algunas imagenes de multitudes\n",
        "df_crowd = tf.keras.utils.image_dataset_from_directory('/content/gdrive/MyDrive/Colab Notebooks/ProyectoFinal/Crowd Counting/shanghaitech_with_people_density_map/ShanghaiTech/part_A/train_data/images/', shuffle=False)"
      ]
    },
    {
      "cell_type": "code",
      "execution_count": null,
      "metadata": {
        "id": "CumIXc5NLVDw"
      },
      "outputs": [],
      "source": [
        "#La información de la cantidad de personas que se encuentra en cada foto esta almacenada en archivos .mat\n",
        "\n",
        "# Patrón para seleccionar todos los archivos .mat en el directorio\n",
        "mat_files = glob.glob(os.path.join('/content/gdrive/MyDrive/Colab Notebooks/ProyectoFinal/Crowd Counting/shanghaitech_with_people_density_map/ShanghaiTech/part_A/train_data/ground-truth', '*.mat'))\n",
        "\n",
        "# Ordenar la lista de archivos\n",
        "mat_files_sorted = sorted(mat_files)\n",
        "\n",
        "# Lista para almacenar los datos cargados\n",
        "data_list = []\n",
        "\n",
        "# Iterar sobre los archivos .mat de train y cargarlos\n",
        "for mat_file in mat_files_sorted:\n",
        "    mat_data = scipy.io.loadmat(mat_file)\n",
        "    data_list.append(mat_data)"
      ]
    },
    {
      "cell_type": "code",
      "execution_count": null,
      "metadata": {
        "id": "AY8AmwwZHpxi"
      },
      "outputs": [],
      "source": [
        "image_info_df = []\n",
        "for data in data_list:\n",
        "    image_info = data[\"image_info\"]\n",
        "    image_info_df.append(image_info)"
      ]
    },
    {
      "cell_type": "code",
      "execution_count": null,
      "metadata": {
        "id": "1eufqrJ9-bwn"
      },
      "outputs": [],
      "source": [
        "number_list = np. array([])\n",
        "for image in image_info_df:\n",
        "    number_array = image[0,0][0][0][1]\n",
        "    number = number_array[0][0]\n",
        "    number_list = np.append(number_list, number)\n",
        "number_list = number_list.astype(int)"
      ]
    },
    {
      "cell_type": "code",
      "execution_count": null,
      "metadata": {
        "id": "kq-EgysztVcD"
      },
      "outputs": [],
      "source": [
        "# Se muestran algunas imagenes con la cantidad de personas que la componen\n",
        "plt.figure(figsize=(7, 7))\n",
        "for images, labels in df_crowd.take(1):\n",
        "    for i in range(9):\n",
        "        ax = plt.subplot(3, 3, i + 1)\n",
        "        plt.imshow(images[i].numpy().astype('uint8'))\n",
        "        plt.title(number_list[i])\n",
        "        plt.axis('off')"
      ]
    },
    {
      "cell_type": "markdown",
      "metadata": {
        "id": "cR9gpFTCBzQs"
      },
      "source": [
        "Para poder utilizar las funciones ya definidas tengo que transformar al mismo formato de df las imagenes de multitudes"
      ]
    },
    {
      "cell_type": "code",
      "execution_count": null,
      "metadata": {
        "id": "Yii1TJ8X5EBL"
      },
      "outputs": [],
      "source": [
        "# Con esto df_crowd_pd es un DataFrame de pandas con una columna 'imagen' que contiene arrays de NumPy\n",
        "# y una columna 'HeadCount' que contiene las etiquetas correspondientes\n",
        "\n",
        "imagenes = []\n",
        "\n",
        "for imagenes_batch, etiquetas_batch in df_crowd:\n",
        "    imagenes.extend(imagenes_batch.numpy())\n",
        "\n",
        "df_crowd_pd = pd.DataFrame({'imagen': imagenes})\n",
        "\n",
        "df_crowd_pd['HeadCount'] = pd.DataFrame(number_list) #La información de la cantidad de personas ya la tengo de number_list"
      ]
    },
    {
      "cell_type": "code",
      "execution_count": null,
      "metadata": {
        "colab": {
          "base_uri": "https://localhost:8080/",
          "height": 206
        },
        "id": "DdbNGGOECnan",
        "outputId": "2c276c4d-051d-429e-f2d3-55243d2d6773"
      },
      "outputs": [
        {
          "data": {
            "text/html": [
              "\n",
              "  <div id=\"df-f4edba0a-fb68-4eb1-8197-b5e7fc7039fd\" class=\"colab-df-container\">\n",
              "    <div>\n",
              "<style scoped>\n",
              "    .dataframe tbody tr th:only-of-type {\n",
              "        vertical-align: middle;\n",
              "    }\n",
              "\n",
              "    .dataframe tbody tr th {\n",
              "        vertical-align: top;\n",
              "    }\n",
              "\n",
              "    .dataframe thead th {\n",
              "        text-align: right;\n",
              "    }\n",
              "</style>\n",
              "<table border=\"1\" class=\"dataframe\">\n",
              "  <thead>\n",
              "    <tr style=\"text-align: right;\">\n",
              "      <th></th>\n",
              "      <th>imagen</th>\n",
              "      <th>HeadCount</th>\n",
              "    </tr>\n",
              "  </thead>\n",
              "  <tbody>\n",
              "    <tr>\n",
              "      <th>0</th>\n",
              "      <td>[[[251.0, 250.0, 254.0], [207.0, 206.0, 211.5]...</td>\n",
              "      <td>1546</td>\n",
              "    </tr>\n",
              "    <tr>\n",
              "      <th>1</th>\n",
              "      <td>[[[44.416992, 58.918945, 68.418945], [78.64258...</td>\n",
              "      <td>920</td>\n",
              "    </tr>\n",
              "    <tr>\n",
              "      <th>2</th>\n",
              "      <td>[[[251.0, 253.0, 252.0], [241.5, 245.5, 246.5]...</td>\n",
              "      <td>371</td>\n",
              "    </tr>\n",
              "    <tr>\n",
              "      <th>3</th>\n",
              "      <td>[[[39.0, 52.0, 34.0], [35.5, 48.5, 30.5], [43....</td>\n",
              "      <td>298</td>\n",
              "    </tr>\n",
              "    <tr>\n",
              "      <th>4</th>\n",
              "      <td>[[[130.5, 104.5, 115.5], [136.5, 110.5, 121.5]...</td>\n",
              "      <td>184</td>\n",
              "    </tr>\n",
              "  </tbody>\n",
              "</table>\n",
              "</div>\n",
              "    <div class=\"colab-df-buttons\">\n",
              "\n",
              "  <div class=\"colab-df-container\">\n",
              "    <button class=\"colab-df-convert\" onclick=\"convertToInteractive('df-f4edba0a-fb68-4eb1-8197-b5e7fc7039fd')\"\n",
              "            title=\"Convert this dataframe to an interactive table.\"\n",
              "            style=\"display:none;\">\n",
              "\n",
              "  <svg xmlns=\"http://www.w3.org/2000/svg\" height=\"24px\" viewBox=\"0 -960 960 960\">\n",
              "    <path d=\"M120-120v-720h720v720H120Zm60-500h600v-160H180v160Zm220 220h160v-160H400v160Zm0 220h160v-160H400v160ZM180-400h160v-160H180v160Zm440 0h160v-160H620v160ZM180-180h160v-160H180v160Zm440 0h160v-160H620v160Z\"/>\n",
              "  </svg>\n",
              "    </button>\n",
              "\n",
              "  <style>\n",
              "    .colab-df-container {\n",
              "      display:flex;\n",
              "      gap: 12px;\n",
              "    }\n",
              "\n",
              "    .colab-df-convert {\n",
              "      background-color: #E8F0FE;\n",
              "      border: none;\n",
              "      border-radius: 50%;\n",
              "      cursor: pointer;\n",
              "      display: none;\n",
              "      fill: #1967D2;\n",
              "      height: 32px;\n",
              "      padding: 0 0 0 0;\n",
              "      width: 32px;\n",
              "    }\n",
              "\n",
              "    .colab-df-convert:hover {\n",
              "      background-color: #E2EBFA;\n",
              "      box-shadow: 0px 1px 2px rgba(60, 64, 67, 0.3), 0px 1px 3px 1px rgba(60, 64, 67, 0.15);\n",
              "      fill: #174EA6;\n",
              "    }\n",
              "\n",
              "    .colab-df-buttons div {\n",
              "      margin-bottom: 4px;\n",
              "    }\n",
              "\n",
              "    [theme=dark] .colab-df-convert {\n",
              "      background-color: #3B4455;\n",
              "      fill: #D2E3FC;\n",
              "    }\n",
              "\n",
              "    [theme=dark] .colab-df-convert:hover {\n",
              "      background-color: #434B5C;\n",
              "      box-shadow: 0px 1px 3px 1px rgba(0, 0, 0, 0.15);\n",
              "      filter: drop-shadow(0px 1px 2px rgba(0, 0, 0, 0.3));\n",
              "      fill: #FFFFFF;\n",
              "    }\n",
              "  </style>\n",
              "\n",
              "    <script>\n",
              "      const buttonEl =\n",
              "        document.querySelector('#df-f4edba0a-fb68-4eb1-8197-b5e7fc7039fd button.colab-df-convert');\n",
              "      buttonEl.style.display =\n",
              "        google.colab.kernel.accessAllowed ? 'block' : 'none';\n",
              "\n",
              "      async function convertToInteractive(key) {\n",
              "        const element = document.querySelector('#df-f4edba0a-fb68-4eb1-8197-b5e7fc7039fd');\n",
              "        const dataTable =\n",
              "          await google.colab.kernel.invokeFunction('convertToInteractive',\n",
              "                                                    [key], {});\n",
              "        if (!dataTable) return;\n",
              "\n",
              "        const docLinkHtml = 'Like what you see? Visit the ' +\n",
              "          '<a target=\"_blank\" href=https://colab.research.google.com/notebooks/data_table.ipynb>data table notebook</a>'\n",
              "          + ' to learn more about interactive tables.';\n",
              "        element.innerHTML = '';\n",
              "        dataTable['output_type'] = 'display_data';\n",
              "        await google.colab.output.renderOutput(dataTable, element);\n",
              "        const docLink = document.createElement('div');\n",
              "        docLink.innerHTML = docLinkHtml;\n",
              "        element.appendChild(docLink);\n",
              "      }\n",
              "    </script>\n",
              "  </div>\n",
              "\n",
              "\n",
              "<div id=\"df-ea7e9d61-9899-4200-b130-fe24f2b3234d\">\n",
              "  <button class=\"colab-df-quickchart\" onclick=\"quickchart('df-ea7e9d61-9899-4200-b130-fe24f2b3234d')\"\n",
              "            title=\"Suggest charts\"\n",
              "            style=\"display:none;\">\n",
              "\n",
              "<svg xmlns=\"http://www.w3.org/2000/svg\" height=\"24px\"viewBox=\"0 0 24 24\"\n",
              "     width=\"24px\">\n",
              "    <g>\n",
              "        <path d=\"M19 3H5c-1.1 0-2 .9-2 2v14c0 1.1.9 2 2 2h14c1.1 0 2-.9 2-2V5c0-1.1-.9-2-2-2zM9 17H7v-7h2v7zm4 0h-2V7h2v10zm4 0h-2v-4h2v4z\"/>\n",
              "    </g>\n",
              "</svg>\n",
              "  </button>\n",
              "\n",
              "<style>\n",
              "  .colab-df-quickchart {\n",
              "      --bg-color: #E8F0FE;\n",
              "      --fill-color: #1967D2;\n",
              "      --hover-bg-color: #E2EBFA;\n",
              "      --hover-fill-color: #174EA6;\n",
              "      --disabled-fill-color: #AAA;\n",
              "      --disabled-bg-color: #DDD;\n",
              "  }\n",
              "\n",
              "  [theme=dark] .colab-df-quickchart {\n",
              "      --bg-color: #3B4455;\n",
              "      --fill-color: #D2E3FC;\n",
              "      --hover-bg-color: #434B5C;\n",
              "      --hover-fill-color: #FFFFFF;\n",
              "      --disabled-bg-color: #3B4455;\n",
              "      --disabled-fill-color: #666;\n",
              "  }\n",
              "\n",
              "  .colab-df-quickchart {\n",
              "    background-color: var(--bg-color);\n",
              "    border: none;\n",
              "    border-radius: 50%;\n",
              "    cursor: pointer;\n",
              "    display: none;\n",
              "    fill: var(--fill-color);\n",
              "    height: 32px;\n",
              "    padding: 0;\n",
              "    width: 32px;\n",
              "  }\n",
              "\n",
              "  .colab-df-quickchart:hover {\n",
              "    background-color: var(--hover-bg-color);\n",
              "    box-shadow: 0 1px 2px rgba(60, 64, 67, 0.3), 0 1px 3px 1px rgba(60, 64, 67, 0.15);\n",
              "    fill: var(--button-hover-fill-color);\n",
              "  }\n",
              "\n",
              "  .colab-df-quickchart-complete:disabled,\n",
              "  .colab-df-quickchart-complete:disabled:hover {\n",
              "    background-color: var(--disabled-bg-color);\n",
              "    fill: var(--disabled-fill-color);\n",
              "    box-shadow: none;\n",
              "  }\n",
              "\n",
              "  .colab-df-spinner {\n",
              "    border: 2px solid var(--fill-color);\n",
              "    border-color: transparent;\n",
              "    border-bottom-color: var(--fill-color);\n",
              "    animation:\n",
              "      spin 1s steps(1) infinite;\n",
              "  }\n",
              "\n",
              "  @keyframes spin {\n",
              "    0% {\n",
              "      border-color: transparent;\n",
              "      border-bottom-color: var(--fill-color);\n",
              "      border-left-color: var(--fill-color);\n",
              "    }\n",
              "    20% {\n",
              "      border-color: transparent;\n",
              "      border-left-color: var(--fill-color);\n",
              "      border-top-color: var(--fill-color);\n",
              "    }\n",
              "    30% {\n",
              "      border-color: transparent;\n",
              "      border-left-color: var(--fill-color);\n",
              "      border-top-color: var(--fill-color);\n",
              "      border-right-color: var(--fill-color);\n",
              "    }\n",
              "    40% {\n",
              "      border-color: transparent;\n",
              "      border-right-color: var(--fill-color);\n",
              "      border-top-color: var(--fill-color);\n",
              "    }\n",
              "    60% {\n",
              "      border-color: transparent;\n",
              "      border-right-color: var(--fill-color);\n",
              "    }\n",
              "    80% {\n",
              "      border-color: transparent;\n",
              "      border-right-color: var(--fill-color);\n",
              "      border-bottom-color: var(--fill-color);\n",
              "    }\n",
              "    90% {\n",
              "      border-color: transparent;\n",
              "      border-bottom-color: var(--fill-color);\n",
              "    }\n",
              "  }\n",
              "</style>\n",
              "\n",
              "  <script>\n",
              "    async function quickchart(key) {\n",
              "      const quickchartButtonEl =\n",
              "        document.querySelector('#' + key + ' button');\n",
              "      quickchartButtonEl.disabled = true;  // To prevent multiple clicks.\n",
              "      quickchartButtonEl.classList.add('colab-df-spinner');\n",
              "      try {\n",
              "        const charts = await google.colab.kernel.invokeFunction(\n",
              "            'suggestCharts', [key], {});\n",
              "      } catch (error) {\n",
              "        console.error('Error during call to suggestCharts:', error);\n",
              "      }\n",
              "      quickchartButtonEl.classList.remove('colab-df-spinner');\n",
              "      quickchartButtonEl.classList.add('colab-df-quickchart-complete');\n",
              "    }\n",
              "    (() => {\n",
              "      let quickchartButtonEl =\n",
              "        document.querySelector('#df-ea7e9d61-9899-4200-b130-fe24f2b3234d button');\n",
              "      quickchartButtonEl.style.display =\n",
              "        google.colab.kernel.accessAllowed ? 'block' : 'none';\n",
              "    })();\n",
              "  </script>\n",
              "</div>\n",
              "    </div>\n",
              "  </div>\n"
            ],
            "text/plain": [
              "                                              imagen  HeadCount\n",
              "0  [[[251.0, 250.0, 254.0], [207.0, 206.0, 211.5]...       1546\n",
              "1  [[[44.416992, 58.918945, 68.418945], [78.64258...        920\n",
              "2  [[[251.0, 253.0, 252.0], [241.5, 245.5, 246.5]...        371\n",
              "3  [[[39.0, 52.0, 34.0], [35.5, 48.5, 30.5], [43....        298\n",
              "4  [[[130.5, 104.5, 115.5], [136.5, 110.5, 121.5]...        184"
            ]
          },
          "execution_count": 31,
          "metadata": {},
          "output_type": "execute_result"
        }
      ],
      "source": [
        "df_crowd_pd.head()"
      ]
    },
    {
      "cell_type": "code",
      "execution_count": null,
      "metadata": {
        "id": "OTrCLRDlCLxe"
      },
      "outputs": [],
      "source": [
        "# Se enseñan 9 imagenes al azar para verificar el correcto funcionamiento del dataframe\n",
        "random = df_crowd_pd.sample(9)\n",
        "\n",
        "random['imagen'] = random['imagen'] / 255.0\n",
        "\n",
        "plt.figure(figsize=(10, 10))\n",
        "for i, (_, row) in enumerate(random.iterrows()):\n",
        "    ax = plt.subplot(3, 3, i + 1)\n",
        "    plt.imshow(row['imagen'])\n",
        "    plt.title(row['HeadCount'])\n",
        "    plt.suptitle('Imagenes aleatorias')\n",
        "    plt.axis('off')"
      ]
    },
    {
      "cell_type": "code",
      "execution_count": null,
      "metadata": {
        "id": "v0fco4dGMk17"
      },
      "outputs": [],
      "source": [
        "def imprimir_multitud_multiple(data, lista):\n",
        "    img = data['imagen']\n",
        "    plt.imshow(img)\n",
        "    for elem in lista:\n",
        "        if elem.get('label')=='person':\n",
        "            width = elem['box']['xmax'] - elem['box']['xmin']\n",
        "            height = elem['box']['ymax'] - elem['box']['ymin']\n",
        "            rect = patches.Rectangle((elem['box']['xmin'], elem['box']['ymin']), width, height, linewidth=0.5, edgecolor='r', facecolor='none')\n",
        "\n",
        "            plt.gca().add_patch(rect)\n",
        "\n",
        "    title = f'Cantidad de personas calculada: {cantidad_personas(lista)}\\n'\n",
        "    title += f'Cantidad de personas real: {data[\"HeadCount\"]}'\n",
        "    plt.title(title, fontsize=10)\n",
        "    plt.axis('off')"
      ]
    },
    {
      "cell_type": "code",
      "execution_count": null,
      "metadata": {
        "id": "bnYLHmJdeRTf"
      },
      "outputs": [],
      "source": [
        "random = df_crowd_pd.sample(9)\n",
        "\n",
        "random['imagen'] = random['imagen'] / 255.0\n",
        "\n",
        "plt.figure(figsize=(10, 10))\n",
        "for i, (_, row) in enumerate(random.iterrows()):\n",
        "    ax = plt.subplot(3, 3, i + 1)\n",
        "    imagen_array = row['imagen']\n",
        "    imagen_pil = array_to_image(imagen_array)\n",
        "    ev_modelo = model(imagen_pil)\n",
        "    imprimir_multitud_multiple(row, ev_modelo)"
      ]
    },
    {
      "cell_type": "markdown",
      "metadata": {
        "id": "34vMkhPrDAVZ"
      },
      "source": [
        "Como se puede ver el resultado obtenido no es el esperado. Para intentar mejorarlo se va a proceder a dividir una imagen en varios trozos y a evaluar uno por uno"
      ]
    },
    {
      "cell_type": "code",
      "execution_count": null,
      "metadata": {
        "id": "3rvSt8XAtpe7"
      },
      "outputs": [],
      "source": [
        "def dividir_imagen(img, size=(50, 50)):\n",
        "    # Obtiene el tamaño de la imagen\n",
        "    width, height = img.size\n",
        "\n",
        "    # Tamaño de los trozos\n",
        "    trozo_width, trozo_height = size\n",
        "\n",
        "    # Calcula la cantidad de trozos a lo largo de x e y\n",
        "    trozos_x = width // trozo_width\n",
        "    trozos_y = height // trozo_height\n",
        "\n",
        "    # Lista para almacenar los trozos\n",
        "    trozos = []\n",
        "\n",
        "    # Itera sobre los trozos y agrégalos a la lista\n",
        "    for j in range(trozos_y):\n",
        "        for i in range(trozos_x):\n",
        "            xmin, ymin = i * trozo_width, j * trozo_height\n",
        "            xmax, ymax = xmin + trozo_width, ymin + trozo_height\n",
        "            trozo = img.crop((xmin, ymin, xmax, ymax))\n",
        "            trozos.append(trozo)\n",
        "\n",
        "    return trozos"
      ]
    },
    {
      "cell_type": "code",
      "execution_count": null,
      "metadata": {
        "id": "8CN7eoIvtyC6"
      },
      "outputs": [],
      "source": [
        "# Para hacer esta prueba selecciono una imagen en especifico en onde se identifiquen claramente las caras de las personas\n",
        "\n",
        "# Imagen que se desea dividir\n",
        "imagen_crowd = Image.fromarray(df_crowd_pd['imagen'][5].astype('uint8'))\n",
        "\n",
        "# Tamaño de los trozos\n",
        "tamaño_trozos = (50, 50)\n",
        "\n",
        "# Obtiene los trozos de la imagen\n",
        "trozos = dividir_imagen(imagen_crowd, tamaño_trozos)\n",
        "\n",
        "# Muestra cada trozo individualmente\n",
        "for i, trozo in enumerate(trozos):\n",
        "    trozo.show()"
      ]
    },
    {
      "cell_type": "code",
      "execution_count": null,
      "metadata": {
        "id": "IGr0g21y4OKE"
      },
      "outputs": [],
      "source": [
        "filas = int(np.ceil(np.sqrt(len(trozos))))\n",
        "columnas = int(np.ceil(len(trozos) / filas))\n",
        "\n",
        "# Muestra todos los trozos en una sola imagen\n",
        "plt.figure(figsize=(10, 10))\n",
        "\n",
        "for i, trozo in enumerate(trozos, 1):\n",
        "    plt.subplot(filas, columnas, i)\n",
        "    plt.imshow(np.array(trozo))\n",
        "    plt.axis('off')\n",
        "\n",
        "plt.show()"
      ]
    },
    {
      "cell_type": "code",
      "execution_count": null,
      "metadata": {
        "colab": {
          "base_uri": "https://localhost:8080/",
          "height": 273
        },
        "id": "EItokXG7WmlC",
        "outputId": "b0fce058-9a26-4c2d-c906-a4fe80d1620d"
      },
      "outputs": [
        {
          "data": {
            "image/png": "[encoded data removed]",
            "text/plain": [
              "<PIL.Image.Image image mode=RGB size=256x256>"
            ]
          },
          "execution_count": 38,
          "metadata": {},
          "output_type": "execute_result"
        }
      ],
      "source": [
        "imagen_crowd"
      ]
    },
    {
      "cell_type": "code",
      "execution_count": null,
      "metadata": {
        "id": "5xnn0duNf2DK"
      },
      "outputs": [],
      "source": [
        "# Ahora aplico el modelo a cada trozo y se muestra el conteo de las personas localizadas\n",
        "\n",
        "filas = int(np.ceil(np.sqrt(len(trozos))))\n",
        "columnas = int(np.ceil(len(trozos) / filas))\n",
        "\n",
        "plt.figure(figsize=(15, 15))\n",
        "for i, trozo in enumerate(trozos, 1):\n",
        "    ax = plt.subplot(filas, columnas, i)\n",
        "    ev_modelo = model(trozo)\n",
        "    imprimir_objetos_multiple(trozo, ev_modelo)"
      ]
    },
    {
      "cell_type": "markdown",
      "metadata": {
        "id": "dJyOMbsZnJyb"
      },
      "source": [
        "Como se puede apreciar no ha sido detectada ninguna persona. El problema puede venir de la calidad de la imagen. Para reducir el consumo de memoria las imagenes se importaron de forma automatica, sin especificar el tamaño, por lo que fueron reducidas a 256x256"
      ]
    },
    {
      "cell_type": "markdown",
      "metadata": {
        "id": "_EBvrOm1EXNb"
      },
      "source": [
        "Se va a volver a realizar la prueba con otra foto de mayor calidad, tanto descargandola en 256x256 como en su resolución real"
      ]
    },
    {
      "cell_type": "code",
      "execution_count": null,
      "metadata": {
        "id": "IUpaFXVdh6fZ"
      },
      "outputs": [],
      "source": [
        "# Imagen que se desea dividir\n",
        "imagen_crowd = Image.fromarray(df_crowd_pd['imagen'][7].astype('uint8'))\n",
        "personas_real = number_list[7]\n",
        "\n",
        "# Tamaño de los trozos\n",
        "tamaño_trozos = (50, 50)\n",
        "\n",
        "# Obtiene los trozos de la imagen\n",
        "trozos = dividir_imagen(imagen_crowd, tamaño_trozos)\n",
        "\n",
        "# Muestra cada trozo individualmente\n",
        "for i, trozo in enumerate(trozos):\n",
        "    trozo.show()\n"
      ]
    },
    {
      "cell_type": "code",
      "execution_count": null,
      "metadata": {
        "id": "Un8UlFmUjoGE"
      },
      "outputs": [],
      "source": [
        "filas = int(np.ceil(np.sqrt(len(trozos))))\n",
        "columnas = int(np.ceil(len(trozos) / filas))\n",
        "\n",
        "# Muestra todos los trozos en una sola imagen\n",
        "plt.figure(figsize=(10, 10))\n",
        "\n",
        "for i, trozo in enumerate(trozos, 1):\n",
        "    plt.subplot(filas, columnas, i)\n",
        "    plt.imshow(np.array(trozo))\n",
        "    plt.axis('off')\n",
        "\n",
        "plt.show()"
      ]
    },
    {
      "cell_type": "code",
      "execution_count": null,
      "metadata": {
        "colab": {
          "base_uri": "https://localhost:8080/",
          "height": 273
        },
        "id": "k18WjEdsjyY5",
        "outputId": "9c31d65e-f4b0-4cfa-9a84-92c01cc006ff"
      },
      "outputs": [
        {
          "data": {
            "image/png": "[encoded data removed]",
            "text/plain": [
              "<PIL.Image.Image image mode=RGB size=256x256>"
            ]
          },
          "execution_count": 42,
          "metadata": {},
          "output_type": "execute_result"
        }
      ],
      "source": [
        "imagen_crowd"
      ]
    },
    {
      "cell_type": "code",
      "execution_count": null,
      "metadata": {
        "id": "w1P8Xuu9jzO0"
      },
      "outputs": [],
      "source": [
        "filas = int(np.ceil(np.sqrt(len(trozos))))\n",
        "columnas = int(np.ceil(len(trozos) / filas))\n",
        "\n",
        "personas_foto = 0\n",
        "\n",
        "plt.figure(figsize=(15, 15))\n",
        "for i, trozo in enumerate(trozos, 1):\n",
        "    ax = plt.subplot(filas, columnas, i)\n",
        "    ev_modelo = model(trozo)\n",
        "    imprimir_objetos_multiple(trozo, ev_modelo)\n",
        "    personas_foto = personas_foto + cantidad_personas(ev_modelo)\n",
        "\n",
        "print(f'El total calculado de personas en la imagen es: {personas_foto}')\n",
        "print(f'El total real de personas en la imagen es: {personas_real}')"
      ]
    },
    {
      "cell_type": "code",
      "execution_count": null,
      "metadata": {
        "id": "0NrlJcrXj-Co"
      },
      "outputs": [],
      "source": [
        "imagen_tf = tf.keras.preprocessing.image.load_img('/content/gdrive/MyDrive/Colab Notebooks/ProyectoFinal/Crowd Counting/shanghaitech_with_people_density_map/ShanghaiTech/part_A/train_data/images/Crowd/IMG_105.jpg')"
      ]
    },
    {
      "cell_type": "code",
      "execution_count": null,
      "metadata": {
        "id": "LwpydpLBp1YR"
      },
      "outputs": [],
      "source": [
        "imagen_np = tf.keras.preprocessing.image.img_to_array(imagen_tf)"
      ]
    },
    {
      "cell_type": "code",
      "execution_count": null,
      "metadata": {
        "colab": {
          "base_uri": "https://localhost:8080/"
        },
        "id": "5-ce6zqb4Uj0",
        "outputId": "094fe04b-6f62-4d04-da69-45629c38eed1"
      },
      "outputs": [
        {
          "name": "stdout",
          "output_type": "stream",
          "text": [
            "(990, 632)\n"
          ]
        }
      ],
      "source": [
        "# Imagen que se desea dividir\n",
        "imagen_crowd = Image.fromarray(imagen_np.astype('uint8'))\n",
        "print(imagen_crowd.size)\n",
        "personas_real = number_list[7]\n",
        "\n",
        "# Tamaño de los trozos\n",
        "tamaño_trozos = (200, 200)\n",
        "\n",
        "# Obtiene los trozos de la imagen\n",
        "trozos = dividir_imagen(imagen_crowd, tamaño_trozos)\n",
        "\n",
        "# Muestra cada trozo individualmente\n",
        "for i, trozo in enumerate(trozos):\n",
        "    trozo.show()"
      ]
    },
    {
      "cell_type": "code",
      "execution_count": null,
      "metadata": {
        "id": "W7RYVB7w4VeJ"
      },
      "outputs": [],
      "source": [
        "filas = int(np.ceil(np.sqrt(len(trozos))))\n",
        "columnas = int(np.ceil(len(trozos) / filas))\n",
        "\n",
        "personas_foto = 0\n",
        "\n",
        "plt.figure(figsize=(15,15))\n",
        "for i, trozo in enumerate(trozos, 1):\n",
        "    ax = plt.subplot(3, 4, i)\n",
        "    ev_modelo = model(trozo)\n",
        "    imprimir_objetos_multiple(trozo, ev_modelo)\n",
        "    personas_foto = personas_foto + cantidad_personas(ev_modelo)\n",
        "\n",
        "print(f'El total calculado de personas en la imagen es: {personas_foto}')\n",
        "print(f'El total real de personas en la imagen es: {personas_real}')"
      ]
    },
    {
      "cell_type": "code",
      "execution_count": null,
      "metadata": {
        "colab": {
          "base_uri": "https://localhost:8080/"
        },
        "id": "Zi548e9742-z",
        "outputId": "6e2c8d87-2998-44e7-a454-bd917eedaa93"
      },
      "outputs": [
        {
          "name": "stdout",
          "output_type": "stream",
          "text": [
            "(990, 632)\n"
          ]
        }
      ],
      "source": [
        "# Imagen que se desea dividir\n",
        "imagen_crowd = Image.fromarray(imagen_np.astype('uint8'))\n",
        "print(imagen_crowd.size)\n",
        "personas_real = number_list[7]\n",
        "\n",
        "# Tamaño de los trozos\n",
        "tamaño_trozos = (330, 126)\n",
        "\n",
        "# Obtiene los trozos de la imagen\n",
        "trozos = dividir_imagen(imagen_crowd, tamaño_trozos)\n",
        "\n",
        "# Muestra cada trozo individualmente\n",
        "for i, trozo in enumerate(trozos):\n",
        "    trozo.show()"
      ]
    },
    {
      "cell_type": "code",
      "execution_count": null,
      "metadata": {
        "id": "6MPn7y_i49Zs"
      },
      "outputs": [],
      "source": [
        "filas = int(np.ceil(np.sqrt(len(trozos))))\n",
        "columnas = int(np.ceil(len(trozos) / filas))\n",
        "\n",
        "personas_foto = 0\n",
        "\n",
        "plt.figure(figsize=(15,15))\n",
        "for i, trozo in enumerate(trozos, 1):\n",
        "    ax = plt.subplot(5, 3, i)\n",
        "    ev_modelo = model(trozo)\n",
        "    imprimir_objetos_multiple(trozo, ev_modelo)\n",
        "    personas_foto = personas_foto + cantidad_personas(ev_modelo)\n",
        "\n",
        "print(f'El total calculado de personas en la imagen es: {personas_foto}')\n",
        "print(f'El total real de personas en la imagen es: {personas_real}')"
      ]
    },
    {
      "cell_type": "markdown",
      "metadata": {
        "id": "YiTdR3T15qzX"
      },
      "source": [
        "Con mejor resolución el resultado mejora considerablemente. Queda faltando entrenar el modulo con un dataset unicamente compuesto por personas, seguramente los resultados serian mucho mejores"
      ]
    },
    {
      "cell_type": "code",
      "execution_count": null,
      "metadata": {
        "id": "suBMnu816DOd"
      },
      "outputs": [],
      "source": []
    }
  ],
  "metadata": {
    "accelerator": "GPU",
    "colab": {
      "gpuType": "V100",
      "machine_shape": "hm",
      "provenance": []
    },
    "kernelspec": {
      "display_name": "Python 3",
      "name": "python3"
    },
    "language_info": {
      "name": "python"
    },
    "widgets": {
      "application/vnd.jupyter.widget-state+json": {
        "025f7294e94e488e8ad9797a79855d19": {
          "model_module": "@jupyter-widgets/base",
          "model_module_version": "1.2.0",
          "model_name": "LayoutModel",
          "state": {
            "_model_module": "@jupyter-widgets/base",
            "_model_module_version": "1.2.0",
            "_model_name": "LayoutModel",
            "_view_count": null,
            "_view_module": "@jupyter-widgets/base",
            "_view_module_version": "1.2.0",
            "_view_name": "LayoutView",
            "align_content": null,
            "align_items": null,
            "align_self": null,
            "border": null,
            "bottom": null,
            "display": null,
            "flex": null,
            "flex_flow": null,
            "grid_area": null,
            "grid_auto_columns": null,
            "grid_auto_flow": null,
            "grid_auto_rows": null,
            "grid_column": null,
            "grid_gap": null,
            "grid_row": null,
            "grid_template_areas": null,
            "grid_template_columns": null,
            "grid_template_rows": null,
            "height": null,
            "justify_content": null,
            "justify_items": null,
            "left": null,
            "margin": null,
            "max_height": null,
            "max_width": null,
            "min_height": null,
            "min_width": null,
            "object_fit": null,
            "object_position": null,
            "order": null,
            "overflow": null,
            "overflow_x": null,
            "overflow_y": null,
            "padding": null,
            "right": null,
            "top": null,
            "visibility": null,
            "width": null
          }
        },
        "036a5ffcf2c34bceaa45459f0bac0471": {
          "model_module": "@jupyter-widgets/controls",
          "model_module_version": "1.5.0",
          "model_name": "HTMLModel",
          "state": {
            "_dom_classes": [],
            "_model_module": "@jupyter-widgets/controls",
            "_model_module_version": "1.5.0",
            "_model_name": "HTMLModel",
            "_view_count": null,
            "_view_module": "@jupyter-widgets/controls",
            "_view_module_version": "1.5.0",
            "_view_name": "HTMLView",
            "description": "",
            "description_tooltip": null,
            "layout": "IPY_MODEL_025f7294e94e488e8ad9797a79855d19",
            "placeholder": "​",
            "style": "IPY_MODEL_5928f9f4c9934523851b553553881501",
            "value": " 274/274 [00:00&lt;00:00, 24.7kB/s]"
          }
        },
        "160ce0fd94ae4681abcc7509fa271dc3": {
          "model_module": "@jupyter-widgets/base",
          "model_module_version": "1.2.0",
          "model_name": "LayoutModel",
          "state": {
            "_model_module": "@jupyter-widgets/base",
            "_model_module_version": "1.2.0",
            "_model_name": "LayoutModel",
            "_view_count": null,
            "_view_module": "@jupyter-widgets/base",
            "_view_module_version": "1.2.0",
            "_view_name": "LayoutView",
            "align_content": null,
            "align_items": null,
            "align_self": null,
            "border": null,
            "bottom": null,
            "display": null,
            "flex": null,
            "flex_flow": null,
            "grid_area": null,
            "grid_auto_columns": null,
            "grid_auto_flow": null,
            "grid_auto_rows": null,
            "grid_column": null,
            "grid_gap": null,
            "grid_row": null,
            "grid_template_areas": null,
            "grid_template_columns": null,
            "grid_template_rows": null,
            "height": null,
            "justify_content": null,
            "justify_items": null,
            "left": null,
            "margin": null,
            "max_height": null,
            "max_width": null,
            "min_height": null,
            "min_width": null,
            "object_fit": null,
            "object_position": null,
            "order": null,
            "overflow": null,
            "overflow_x": null,
            "overflow_y": null,
            "padding": null,
            "right": null,
            "top": null,
            "visibility": null,
            "width": null
          }
        },
        "28ffdd1983a240c8a27bcfd3982a02f7": {
          "model_module": "@jupyter-widgets/controls",
          "model_module_version": "1.5.0",
          "model_name": "DescriptionStyleModel",
          "state": {
            "_model_module": "@jupyter-widgets/controls",
            "_model_module_version": "1.5.0",
            "_model_name": "DescriptionStyleModel",
            "_view_count": null,
            "_view_module": "@jupyter-widgets/base",
            "_view_module_version": "1.2.0",
            "_view_name": "StyleView",
            "description_width": ""
          }
        },
        "2b4dc3955e204e91aaa583dcf9f474f3": {
          "model_module": "@jupyter-widgets/controls",
          "model_module_version": "1.5.0",
          "model_name": "ProgressStyleModel",
          "state": {
            "_model_module": "@jupyter-widgets/controls",
            "_model_module_version": "1.5.0",
            "_model_name": "ProgressStyleModel",
            "_view_count": null,
            "_view_module": "@jupyter-widgets/base",
            "_view_module_version": "1.2.0",
            "_view_name": "StyleView",
            "bar_color": null,
            "description_width": ""
          }
        },
        "2b9ea52e8d324041941cf11ac1fbaccf": {
          "model_module": "@jupyter-widgets/controls",
          "model_module_version": "1.5.0",
          "model_name": "DescriptionStyleModel",
          "state": {
            "_model_module": "@jupyter-widgets/controls",
            "_model_module_version": "1.5.0",
            "_model_name": "DescriptionStyleModel",
            "_view_count": null,
            "_view_module": "@jupyter-widgets/base",
            "_view_module_version": "1.2.0",
            "_view_name": "StyleView",
            "description_width": ""
          }
        },
        "3fdbdd20b9ee45ee981d2388c6b16390": {
          "model_module": "@jupyter-widgets/base",
          "model_module_version": "1.2.0",
          "model_name": "LayoutModel",
          "state": {
            "_model_module": "@jupyter-widgets/base",
            "_model_module_version": "1.2.0",
            "_model_name": "LayoutModel",
            "_view_count": null,
            "_view_module": "@jupyter-widgets/base",
            "_view_module_version": "1.2.0",
            "_view_name": "LayoutView",
            "align_content": null,
            "align_items": null,
            "align_self": null,
            "border": null,
            "bottom": null,
            "display": null,
            "flex": null,
            "flex_flow": null,
            "grid_area": null,
            "grid_auto_columns": null,
            "grid_auto_flow": null,
            "grid_auto_rows": null,
            "grid_column": null,
            "grid_gap": null,
            "grid_row": null,
            "grid_template_areas": null,
            "grid_template_columns": null,
            "grid_template_rows": null,
            "height": null,
            "justify_content": null,
            "justify_items": null,
            "left": null,
            "margin": null,
            "max_height": null,
            "max_width": null,
            "min_height": null,
            "min_width": null,
            "object_fit": null,
            "object_position": null,
            "order": null,
            "overflow": null,
            "overflow_x": null,
            "overflow_y": null,
            "padding": null,
            "right": null,
            "top": null,
            "visibility": null,
            "width": null
          }
        },
        "4b15de9ad56a4b99a73d1e80a4467475": {
          "model_module": "@jupyter-widgets/controls",
          "model_module_version": "1.5.0",
          "model_name": "DescriptionStyleModel",
          "state": {
            "_model_module": "@jupyter-widgets/controls",
            "_model_module_version": "1.5.0",
            "_model_name": "DescriptionStyleModel",
            "_view_count": null,
            "_view_module": "@jupyter-widgets/base",
            "_view_module_version": "1.2.0",
            "_view_name": "StyleView",
            "description_width": ""
          }
        },
        "4e3b1f78ee25482d85419c2599eb53cd": {
          "model_module": "@jupyter-widgets/controls",
          "model_module_version": "1.5.0",
          "model_name": "DescriptionStyleModel",
          "state": {
            "_model_module": "@jupyter-widgets/controls",
            "_model_module_version": "1.5.0",
            "_model_name": "DescriptionStyleModel",
            "_view_count": null,
            "_view_module": "@jupyter-widgets/base",
            "_view_module_version": "1.2.0",
            "_view_name": "StyleView",
            "description_width": ""
          }
        },
        "52990e851b174c54935a94fbb7b3b5b4": {
          "model_module": "@jupyter-widgets/controls",
          "model_module_version": "1.5.0",
          "model_name": "ProgressStyleModel",
          "state": {
            "_model_module": "@jupyter-widgets/controls",
            "_model_module_version": "1.5.0",
            "_model_name": "ProgressStyleModel",
            "_view_count": null,
            "_view_module": "@jupyter-widgets/base",
            "_view_module_version": "1.2.0",
            "_view_name": "StyleView",
            "bar_color": null,
            "description_width": ""
          }
        },
        "54804bef890743178daec54eafdccfda": {
          "model_module": "@jupyter-widgets/controls",
          "model_module_version": "1.5.0",
          "model_name": "HTMLModel",
          "state": {
            "_dom_classes": [],
            "_model_module": "@jupyter-widgets/controls",
            "_model_module_version": "1.5.0",
            "_model_name": "HTMLModel",
            "_view_count": null,
            "_view_module": "@jupyter-widgets/controls",
            "_view_module_version": "1.5.0",
            "_view_name": "HTMLView",
            "description": "",
            "description_tooltip": null,
            "layout": "IPY_MODEL_6cfca2f3cb524c9bb25ce17209ec91fe",
            "placeholder": "​",
            "style": "IPY_MODEL_4b15de9ad56a4b99a73d1e80a4467475",
            "value": " 102M/102M [00:00&lt;00:00, 381MB/s]"
          }
        },
        "5928f9f4c9934523851b553553881501": {
          "model_module": "@jupyter-widgets/controls",
          "model_module_version": "1.5.0",
          "model_name": "DescriptionStyleModel",
          "state": {
            "_model_module": "@jupyter-widgets/controls",
            "_model_module_version": "1.5.0",
            "_model_name": "DescriptionStyleModel",
            "_view_count": null,
            "_view_module": "@jupyter-widgets/base",
            "_view_module_version": "1.2.0",
            "_view_name": "StyleView",
            "description_width": ""
          }
        },
        "5d81b7a7c6be478eb366da436b17ae01": {
          "model_module": "@jupyter-widgets/controls",
          "model_module_version": "1.5.0",
          "model_name": "DescriptionStyleModel",
          "state": {
            "_model_module": "@jupyter-widgets/controls",
            "_model_module_version": "1.5.0",
            "_model_name": "DescriptionStyleModel",
            "_view_count": null,
            "_view_module": "@jupyter-widgets/base",
            "_view_module_version": "1.2.0",
            "_view_name": "StyleView",
            "description_width": ""
          }
        },
        "666a44b893bf46ce9ecae637a625e380": {
          "model_module": "@jupyter-widgets/base",
          "model_module_version": "1.2.0",
          "model_name": "LayoutModel",
          "state": {
            "_model_module": "@jupyter-widgets/base",
            "_model_module_version": "1.2.0",
            "_model_name": "LayoutModel",
            "_view_count": null,
            "_view_module": "@jupyter-widgets/base",
            "_view_module_version": "1.2.0",
            "_view_name": "LayoutView",
            "align_content": null,
            "align_items": null,
            "align_self": null,
            "border": null,
            "bottom": null,
            "display": null,
            "flex": null,
            "flex_flow": null,
            "grid_area": null,
            "grid_auto_columns": null,
            "grid_auto_flow": null,
            "grid_auto_rows": null,
            "grid_column": null,
            "grid_gap": null,
            "grid_row": null,
            "grid_template_areas": null,
            "grid_template_columns": null,
            "grid_template_rows": null,
            "height": null,
            "justify_content": null,
            "justify_items": null,
            "left": null,
            "margin": null,
            "max_height": null,
            "max_width": null,
            "min_height": null,
            "min_width": null,
            "object_fit": null,
            "object_position": null,
            "order": null,
            "overflow": null,
            "overflow_x": null,
            "overflow_y": null,
            "padding": null,
            "right": null,
            "top": null,
            "visibility": null,
            "width": null
          }
        },
        "68b6c8a4dc454cb78c9434c99a519c37": {
          "model_module": "@jupyter-widgets/controls",
          "model_module_version": "1.5.0",
          "model_name": "HTMLModel",
          "state": {
            "_dom_classes": [],
            "_model_module": "@jupyter-widgets/controls",
            "_model_module_version": "1.5.0",
            "_model_name": "HTMLModel",
            "_view_count": null,
            "_view_module": "@jupyter-widgets/controls",
            "_view_module_version": "1.5.0",
            "_view_name": "HTMLView",
            "description": "",
            "description_tooltip": null,
            "layout": "IPY_MODEL_a5680e5cd7104bb8984394e45427c351",
            "placeholder": "​",
            "style": "IPY_MODEL_73d75f9cd91240cf86b9aa7d3af64c08",
            "value": "pytorch_model.bin: 100%"
          }
        },
        "6cfca2f3cb524c9bb25ce17209ec91fe": {
          "model_module": "@jupyter-widgets/base",
          "model_module_version": "1.2.0",
          "model_name": "LayoutModel",
          "state": {
            "_model_module": "@jupyter-widgets/base",
            "_model_module_version": "1.2.0",
            "_model_name": "LayoutModel",
            "_view_count": null,
            "_view_module": "@jupyter-widgets/base",
            "_view_module_version": "1.2.0",
            "_view_name": "LayoutView",
            "align_content": null,
            "align_items": null,
            "align_self": null,
            "border": null,
            "bottom": null,
            "display": null,
            "flex": null,
            "flex_flow": null,
            "grid_area": null,
            "grid_auto_columns": null,
            "grid_auto_flow": null,
            "grid_auto_rows": null,
            "grid_column": null,
            "grid_gap": null,
            "grid_row": null,
            "grid_template_areas": null,
            "grid_template_columns": null,
            "grid_template_rows": null,
            "height": null,
            "justify_content": null,
            "justify_items": null,
            "left": null,
            "margin": null,
            "max_height": null,
            "max_width": null,
            "min_height": null,
            "min_width": null,
            "object_fit": null,
            "object_position": null,
            "order": null,
            "overflow": null,
            "overflow_x": null,
            "overflow_y": null,
            "padding": null,
            "right": null,
            "top": null,
            "visibility": null,
            "width": null
          }
        },
        "6db1fecee12944c4b5c834114754e04a": {
          "model_module": "@jupyter-widgets/base",
          "model_module_version": "1.2.0",
          "model_name": "LayoutModel",
          "state": {
            "_model_module": "@jupyter-widgets/base",
            "_model_module_version": "1.2.0",
            "_model_name": "LayoutModel",
            "_view_count": null,
            "_view_module": "@jupyter-widgets/base",
            "_view_module_version": "1.2.0",
            "_view_name": "LayoutView",
            "align_content": null,
            "align_items": null,
            "align_self": null,
            "border": null,
            "bottom": null,
            "display": null,
            "flex": null,
            "flex_flow": null,
            "grid_area": null,
            "grid_auto_columns": null,
            "grid_auto_flow": null,
            "grid_auto_rows": null,
            "grid_column": null,
            "grid_gap": null,
            "grid_row": null,
            "grid_template_areas": null,
            "grid_template_columns": null,
            "grid_template_rows": null,
            "height": null,
            "justify_content": null,
            "justify_items": null,
            "left": null,
            "margin": null,
            "max_height": null,
            "max_width": null,
            "min_height": null,
            "min_width": null,
            "object_fit": null,
            "object_position": null,
            "order": null,
            "overflow": null,
            "overflow_x": null,
            "overflow_y": null,
            "padding": null,
            "right": null,
            "top": null,
            "visibility": null,
            "width": null
          }
        },
        "73d75f9cd91240cf86b9aa7d3af64c08": {
          "model_module": "@jupyter-widgets/controls",
          "model_module_version": "1.5.0",
          "model_name": "DescriptionStyleModel",
          "state": {
            "_model_module": "@jupyter-widgets/controls",
            "_model_module_version": "1.5.0",
            "_model_name": "DescriptionStyleModel",
            "_view_count": null,
            "_view_module": "@jupyter-widgets/base",
            "_view_module_version": "1.2.0",
            "_view_name": "StyleView",
            "description_width": ""
          }
        },
        "740e2853050845d1b88950a066b87e94": {
          "model_module": "@jupyter-widgets/base",
          "model_module_version": "1.2.0",
          "model_name": "LayoutModel",
          "state": {
            "_model_module": "@jupyter-widgets/base",
            "_model_module_version": "1.2.0",
            "_model_name": "LayoutModel",
            "_view_count": null,
            "_view_module": "@jupyter-widgets/base",
            "_view_module_version": "1.2.0",
            "_view_name": "LayoutView",
            "align_content": null,
            "align_items": null,
            "align_self": null,
            "border": null,
            "bottom": null,
            "display": null,
            "flex": null,
            "flex_flow": null,
            "grid_area": null,
            "grid_auto_columns": null,
            "grid_auto_flow": null,
            "grid_auto_rows": null,
            "grid_column": null,
            "grid_gap": null,
            "grid_row": null,
            "grid_template_areas": null,
            "grid_template_columns": null,
            "grid_template_rows": null,
            "height": null,
            "justify_content": null,
            "justify_items": null,
            "left": null,
            "margin": null,
            "max_height": null,
            "max_width": null,
            "min_height": null,
            "min_width": null,
            "object_fit": null,
            "object_position": null,
            "order": null,
            "overflow": null,
            "overflow_x": null,
            "overflow_y": null,
            "padding": null,
            "right": null,
            "top": null,
            "visibility": null,
            "width": null
          }
        },
        "7488bc66b20b4a3fabd833688509ebb0": {
          "model_module": "@jupyter-widgets/controls",
          "model_module_version": "1.5.0",
          "model_name": "HTMLModel",
          "state": {
            "_dom_classes": [],
            "_model_module": "@jupyter-widgets/controls",
            "_model_module_version": "1.5.0",
            "_model_name": "HTMLModel",
            "_view_count": null,
            "_view_module": "@jupyter-widgets/controls",
            "_view_module_version": "1.5.0",
            "_view_name": "HTMLView",
            "description": "",
            "description_tooltip": null,
            "layout": "IPY_MODEL_3fdbdd20b9ee45ee981d2388c6b16390",
            "placeholder": "​",
            "style": "IPY_MODEL_5d81b7a7c6be478eb366da436b17ae01",
            "value": "config.json: 100%"
          }
        },
        "82a19f1d878e47ce8a8b3d2f8e8ed66d": {
          "model_module": "@jupyter-widgets/base",
          "model_module_version": "1.2.0",
          "model_name": "LayoutModel",
          "state": {
            "_model_module": "@jupyter-widgets/base",
            "_model_module_version": "1.2.0",
            "_model_name": "LayoutModel",
            "_view_count": null,
            "_view_module": "@jupyter-widgets/base",
            "_view_module_version": "1.2.0",
            "_view_name": "LayoutView",
            "align_content": null,
            "align_items": null,
            "align_self": null,
            "border": null,
            "bottom": null,
            "display": null,
            "flex": null,
            "flex_flow": null,
            "grid_area": null,
            "grid_auto_columns": null,
            "grid_auto_flow": null,
            "grid_auto_rows": null,
            "grid_column": null,
            "grid_gap": null,
            "grid_row": null,
            "grid_template_areas": null,
            "grid_template_columns": null,
            "grid_template_rows": null,
            "height": null,
            "justify_content": null,
            "justify_items": null,
            "left": null,
            "margin": null,
            "max_height": null,
            "max_width": null,
            "min_height": null,
            "min_width": null,
            "object_fit": null,
            "object_position": null,
            "order": null,
            "overflow": null,
            "overflow_x": null,
            "overflow_y": null,
            "padding": null,
            "right": null,
            "top": null,
            "visibility": null,
            "width": null
          }
        },
        "896c4cd596314cb682a423d32c046d33": {
          "model_module": "@jupyter-widgets/controls",
          "model_module_version": "1.5.0",
          "model_name": "ProgressStyleModel",
          "state": {
            "_model_module": "@jupyter-widgets/controls",
            "_model_module_version": "1.5.0",
            "_model_name": "ProgressStyleModel",
            "_view_count": null,
            "_view_module": "@jupyter-widgets/base",
            "_view_module_version": "1.2.0",
            "_view_name": "StyleView",
            "bar_color": null,
            "description_width": ""
          }
        },
        "97d35b8e05a041d5a5d94d995a5d1483": {
          "model_module": "@jupyter-widgets/base",
          "model_module_version": "1.2.0",
          "model_name": "LayoutModel",
          "state": {
            "_model_module": "@jupyter-widgets/base",
            "_model_module_version": "1.2.0",
            "_model_name": "LayoutModel",
            "_view_count": null,
            "_view_module": "@jupyter-widgets/base",
            "_view_module_version": "1.2.0",
            "_view_name": "LayoutView",
            "align_content": null,
            "align_items": null,
            "align_self": null,
            "border": null,
            "bottom": null,
            "display": null,
            "flex": null,
            "flex_flow": null,
            "grid_area": null,
            "grid_auto_columns": null,
            "grid_auto_flow": null,
            "grid_auto_rows": null,
            "grid_column": null,
            "grid_gap": null,
            "grid_row": null,
            "grid_template_areas": null,
            "grid_template_columns": null,
            "grid_template_rows": null,
            "height": null,
            "justify_content": null,
            "justify_items": null,
            "left": null,
            "margin": null,
            "max_height": null,
            "max_width": null,
            "min_height": null,
            "min_width": null,
            "object_fit": null,
            "object_position": null,
            "order": null,
            "overflow": null,
            "overflow_x": null,
            "overflow_y": null,
            "padding": null,
            "right": null,
            "top": null,
            "visibility": null,
            "width": null
          }
        },
        "9edf3e2179b04efb925cdadb0bb21073": {
          "model_module": "@jupyter-widgets/base",
          "model_module_version": "1.2.0",
          "model_name": "LayoutModel",
          "state": {
            "_model_module": "@jupyter-widgets/base",
            "_model_module_version": "1.2.0",
            "_model_name": "LayoutModel",
            "_view_count": null,
            "_view_module": "@jupyter-widgets/base",
            "_view_module_version": "1.2.0",
            "_view_name": "LayoutView",
            "align_content": null,
            "align_items": null,
            "align_self": null,
            "border": null,
            "bottom": null,
            "display": null,
            "flex": null,
            "flex_flow": null,
            "grid_area": null,
            "grid_auto_columns": null,
            "grid_auto_flow": null,
            "grid_auto_rows": null,
            "grid_column": null,
            "grid_gap": null,
            "grid_row": null,
            "grid_template_areas": null,
            "grid_template_columns": null,
            "grid_template_rows": null,
            "height": null,
            "justify_content": null,
            "justify_items": null,
            "left": null,
            "margin": null,
            "max_height": null,
            "max_width": null,
            "min_height": null,
            "min_width": null,
            "object_fit": null,
            "object_position": null,
            "order": null,
            "overflow": null,
            "overflow_x": null,
            "overflow_y": null,
            "padding": null,
            "right": null,
            "top": null,
            "visibility": null,
            "width": null
          }
        },
        "a0ba3129dadb4c08b856b8983a1cdf5b": {
          "model_module": "@jupyter-widgets/controls",
          "model_module_version": "1.5.0",
          "model_name": "HTMLModel",
          "state": {
            "_dom_classes": [],
            "_model_module": "@jupyter-widgets/controls",
            "_model_module_version": "1.5.0",
            "_model_name": "HTMLModel",
            "_view_count": null,
            "_view_module": "@jupyter-widgets/controls",
            "_view_module_version": "1.5.0",
            "_view_name": "HTMLView",
            "description": "",
            "description_tooltip": null,
            "layout": "IPY_MODEL_82a19f1d878e47ce8a8b3d2f8e8ed66d",
            "placeholder": "​",
            "style": "IPY_MODEL_4e3b1f78ee25482d85419c2599eb53cd",
            "value": "preprocessor_config.json: 100%"
          }
        },
        "a4a7920e96d744fabf00ea1d6e215b4f": {
          "model_module": "@jupyter-widgets/controls",
          "model_module_version": "1.5.0",
          "model_name": "ProgressStyleModel",
          "state": {
            "_model_module": "@jupyter-widgets/controls",
            "_model_module_version": "1.5.0",
            "_model_name": "ProgressStyleModel",
            "_view_count": null,
            "_view_module": "@jupyter-widgets/base",
            "_view_module_version": "1.2.0",
            "_view_name": "StyleView",
            "bar_color": null,
            "description_width": ""
          }
        },
        "a5680e5cd7104bb8984394e45427c351": {
          "model_module": "@jupyter-widgets/base",
          "model_module_version": "1.2.0",
          "model_name": "LayoutModel",
          "state": {
            "_model_module": "@jupyter-widgets/base",
            "_model_module_version": "1.2.0",
            "_model_name": "LayoutModel",
            "_view_count": null,
            "_view_module": "@jupyter-widgets/base",
            "_view_module_version": "1.2.0",
            "_view_name": "LayoutView",
            "align_content": null,
            "align_items": null,
            "align_self": null,
            "border": null,
            "bottom": null,
            "display": null,
            "flex": null,
            "flex_flow": null,
            "grid_area": null,
            "grid_auto_columns": null,
            "grid_auto_flow": null,
            "grid_auto_rows": null,
            "grid_column": null,
            "grid_gap": null,
            "grid_row": null,
            "grid_template_areas": null,
            "grid_template_columns": null,
            "grid_template_rows": null,
            "height": null,
            "justify_content": null,
            "justify_items": null,
            "left": null,
            "margin": null,
            "max_height": null,
            "max_width": null,
            "min_height": null,
            "min_width": null,
            "object_fit": null,
            "object_position": null,
            "order": null,
            "overflow": null,
            "overflow_x": null,
            "overflow_y": null,
            "padding": null,
            "right": null,
            "top": null,
            "visibility": null,
            "width": null
          }
        },
        "afe452ef0f1048b5bf20715da535ba7f": {
          "model_module": "@jupyter-widgets/controls",
          "model_module_version": "1.5.0",
          "model_name": "HTMLModel",
          "state": {
            "_dom_classes": [],
            "_model_module": "@jupyter-widgets/controls",
            "_model_module_version": "1.5.0",
            "_model_name": "HTMLModel",
            "_view_count": null,
            "_view_module": "@jupyter-widgets/controls",
            "_view_module_version": "1.5.0",
            "_view_name": "HTMLView",
            "description": "",
            "description_tooltip": null,
            "layout": "IPY_MODEL_160ce0fd94ae4681abcc7509fa271dc3",
            "placeholder": "​",
            "style": "IPY_MODEL_28ffdd1983a240c8a27bcfd3982a02f7",
            "value": "model.safetensors: 100%"
          }
        },
        "c08c69dcde7a4487b5e0253d49908da7": {
          "model_module": "@jupyter-widgets/controls",
          "model_module_version": "1.5.0",
          "model_name": "HTMLModel",
          "state": {
            "_dom_classes": [],
            "_model_module": "@jupyter-widgets/controls",
            "_model_module_version": "1.5.0",
            "_model_name": "HTMLModel",
            "_view_count": null,
            "_view_module": "@jupyter-widgets/controls",
            "_view_module_version": "1.5.0",
            "_view_name": "HTMLView",
            "description": "",
            "description_tooltip": null,
            "layout": "IPY_MODEL_740e2853050845d1b88950a066b87e94",
            "placeholder": "​",
            "style": "IPY_MODEL_d352b80794d4457d975a571b99ba4b8b",
            "value": " 4.59k/4.59k [00:00&lt;00:00, 408kB/s]"
          }
        },
        "c1593ac173ba4056b07ae78f3ec3a22f": {
          "model_module": "@jupyter-widgets/controls",
          "model_module_version": "1.5.0",
          "model_name": "FloatProgressModel",
          "state": {
            "_dom_classes": [],
            "_model_module": "@jupyter-widgets/controls",
            "_model_module_version": "1.5.0",
            "_model_name": "FloatProgressModel",
            "_view_count": null,
            "_view_module": "@jupyter-widgets/controls",
            "_view_module_version": "1.5.0",
            "_view_name": "ProgressView",
            "bar_style": "success",
            "description": "",
            "description_tooltip": null,
            "layout": "IPY_MODEL_e047ace0b5dd4b8d9c2915d517f45dda",
            "max": 166731871,
            "min": 0,
            "orientation": "horizontal",
            "style": "IPY_MODEL_2b4dc3955e204e91aaa583dcf9f474f3",
            "value": 166731871
          }
        },
        "c61dcf0e166c4b1791d12ee67e026d92": {
          "model_module": "@jupyter-widgets/controls",
          "model_module_version": "1.5.0",
          "model_name": "HTMLModel",
          "state": {
            "_dom_classes": [],
            "_model_module": "@jupyter-widgets/controls",
            "_model_module_version": "1.5.0",
            "_model_name": "HTMLModel",
            "_view_count": null,
            "_view_module": "@jupyter-widgets/controls",
            "_view_module_version": "1.5.0",
            "_view_name": "HTMLView",
            "description": "",
            "description_tooltip": null,
            "layout": "IPY_MODEL_6db1fecee12944c4b5c834114754e04a",
            "placeholder": "​",
            "style": "IPY_MODEL_2b9ea52e8d324041941cf11ac1fbaccf",
            "value": " 167M/167M [00:00&lt;00:00, 360MB/s]"
          }
        },
        "c70faaa80c3d4929868c869491325b19": {
          "model_module": "@jupyter-widgets/controls",
          "model_module_version": "1.5.0",
          "model_name": "HBoxModel",
          "state": {
            "_dom_classes": [],
            "_model_module": "@jupyter-widgets/controls",
            "_model_module_version": "1.5.0",
            "_model_name": "HBoxModel",
            "_view_count": null,
            "_view_module": "@jupyter-widgets/controls",
            "_view_module_version": "1.5.0",
            "_view_name": "HBoxView",
            "box_style": "",
            "children": [
              "IPY_MODEL_68b6c8a4dc454cb78c9434c99a519c37",
              "IPY_MODEL_c1593ac173ba4056b07ae78f3ec3a22f",
              "IPY_MODEL_c61dcf0e166c4b1791d12ee67e026d92"
            ],
            "layout": "IPY_MODEL_f54a69f7437e43c2ba1148030548b2ca"
          }
        },
        "c9a6f5b0ad56483baed675bc2e9deb22": {
          "model_module": "@jupyter-widgets/base",
          "model_module_version": "1.2.0",
          "model_name": "LayoutModel",
          "state": {
            "_model_module": "@jupyter-widgets/base",
            "_model_module_version": "1.2.0",
            "_model_name": "LayoutModel",
            "_view_count": null,
            "_view_module": "@jupyter-widgets/base",
            "_view_module_version": "1.2.0",
            "_view_name": "LayoutView",
            "align_content": null,
            "align_items": null,
            "align_self": null,
            "border": null,
            "bottom": null,
            "display": null,
            "flex": null,
            "flex_flow": null,
            "grid_area": null,
            "grid_auto_columns": null,
            "grid_auto_flow": null,
            "grid_auto_rows": null,
            "grid_column": null,
            "grid_gap": null,
            "grid_row": null,
            "grid_template_areas": null,
            "grid_template_columns": null,
            "grid_template_rows": null,
            "height": null,
            "justify_content": null,
            "justify_items": null,
            "left": null,
            "margin": null,
            "max_height": null,
            "max_width": null,
            "min_height": null,
            "min_width": null,
            "object_fit": null,
            "object_position": null,
            "order": null,
            "overflow": null,
            "overflow_x": null,
            "overflow_y": null,
            "padding": null,
            "right": null,
            "top": null,
            "visibility": null,
            "width": null
          }
        },
        "caa3a111177947559659e8cbbbe6eee8": {
          "model_module": "@jupyter-widgets/base",
          "model_module_version": "1.2.0",
          "model_name": "LayoutModel",
          "state": {
            "_model_module": "@jupyter-widgets/base",
            "_model_module_version": "1.2.0",
            "_model_name": "LayoutModel",
            "_view_count": null,
            "_view_module": "@jupyter-widgets/base",
            "_view_module_version": "1.2.0",
            "_view_name": "LayoutView",
            "align_content": null,
            "align_items": null,
            "align_self": null,
            "border": null,
            "bottom": null,
            "display": null,
            "flex": null,
            "flex_flow": null,
            "grid_area": null,
            "grid_auto_columns": null,
            "grid_auto_flow": null,
            "grid_auto_rows": null,
            "grid_column": null,
            "grid_gap": null,
            "grid_row": null,
            "grid_template_areas": null,
            "grid_template_columns": null,
            "grid_template_rows": null,
            "height": null,
            "justify_content": null,
            "justify_items": null,
            "left": null,
            "margin": null,
            "max_height": null,
            "max_width": null,
            "min_height": null,
            "min_width": null,
            "object_fit": null,
            "object_position": null,
            "order": null,
            "overflow": null,
            "overflow_x": null,
            "overflow_y": null,
            "padding": null,
            "right": null,
            "top": null,
            "visibility": null,
            "width": null
          }
        },
        "cc20a68d2bed4cb3bcba299908df93ad": {
          "model_module": "@jupyter-widgets/controls",
          "model_module_version": "1.5.0",
          "model_name": "HBoxModel",
          "state": {
            "_dom_classes": [],
            "_model_module": "@jupyter-widgets/controls",
            "_model_module_version": "1.5.0",
            "_model_name": "HBoxModel",
            "_view_count": null,
            "_view_module": "@jupyter-widgets/controls",
            "_view_module_version": "1.5.0",
            "_view_name": "HBoxView",
            "box_style": "",
            "children": [
              "IPY_MODEL_afe452ef0f1048b5bf20715da535ba7f",
              "IPY_MODEL_e4358e8300574e01aeb1dd4d74555683",
              "IPY_MODEL_54804bef890743178daec54eafdccfda"
            ],
            "layout": "IPY_MODEL_c9a6f5b0ad56483baed675bc2e9deb22"
          }
        },
        "d352b80794d4457d975a571b99ba4b8b": {
          "model_module": "@jupyter-widgets/controls",
          "model_module_version": "1.5.0",
          "model_name": "DescriptionStyleModel",
          "state": {
            "_model_module": "@jupyter-widgets/controls",
            "_model_module_version": "1.5.0",
            "_model_name": "DescriptionStyleModel",
            "_view_count": null,
            "_view_module": "@jupyter-widgets/base",
            "_view_module_version": "1.2.0",
            "_view_name": "StyleView",
            "description_width": ""
          }
        },
        "dac084b22a0945dc9af96cc813c9706a": {
          "model_module": "@jupyter-widgets/controls",
          "model_module_version": "1.5.0",
          "model_name": "HBoxModel",
          "state": {
            "_dom_classes": [],
            "_model_module": "@jupyter-widgets/controls",
            "_model_module_version": "1.5.0",
            "_model_name": "HBoxModel",
            "_view_count": null,
            "_view_module": "@jupyter-widgets/controls",
            "_view_module_version": "1.5.0",
            "_view_name": "HBoxView",
            "box_style": "",
            "children": [
              "IPY_MODEL_a0ba3129dadb4c08b856b8983a1cdf5b",
              "IPY_MODEL_fac967fa4a4d450bb252ca30e75479c6",
              "IPY_MODEL_036a5ffcf2c34bceaa45459f0bac0471"
            ],
            "layout": "IPY_MODEL_ed8a3d2ae31d46a5b6ec3d594229c640"
          }
        },
        "e047ace0b5dd4b8d9c2915d517f45dda": {
          "model_module": "@jupyter-widgets/base",
          "model_module_version": "1.2.0",
          "model_name": "LayoutModel",
          "state": {
            "_model_module": "@jupyter-widgets/base",
            "_model_module_version": "1.2.0",
            "_model_name": "LayoutModel",
            "_view_count": null,
            "_view_module": "@jupyter-widgets/base",
            "_view_module_version": "1.2.0",
            "_view_name": "LayoutView",
            "align_content": null,
            "align_items": null,
            "align_self": null,
            "border": null,
            "bottom": null,
            "display": null,
            "flex": null,
            "flex_flow": null,
            "grid_area": null,
            "grid_auto_columns": null,
            "grid_auto_flow": null,
            "grid_auto_rows": null,
            "grid_column": null,
            "grid_gap": null,
            "grid_row": null,
            "grid_template_areas": null,
            "grid_template_columns": null,
            "grid_template_rows": null,
            "height": null,
            "justify_content": null,
            "justify_items": null,
            "left": null,
            "margin": null,
            "max_height": null,
            "max_width": null,
            "min_height": null,
            "min_width": null,
            "object_fit": null,
            "object_position": null,
            "order": null,
            "overflow": null,
            "overflow_x": null,
            "overflow_y": null,
            "padding": null,
            "right": null,
            "top": null,
            "visibility": null,
            "width": null
          }
        },
        "e4358e8300574e01aeb1dd4d74555683": {
          "model_module": "@jupyter-widgets/controls",
          "model_module_version": "1.5.0",
          "model_name": "FloatProgressModel",
          "state": {
            "_dom_classes": [],
            "_model_module": "@jupyter-widgets/controls",
            "_model_module_version": "1.5.0",
            "_model_name": "FloatProgressModel",
            "_view_count": null,
            "_view_module": "@jupyter-widgets/controls",
            "_view_module_version": "1.5.0",
            "_view_name": "ProgressView",
            "bar_style": "success",
            "description": "",
            "description_tooltip": null,
            "layout": "IPY_MODEL_97d35b8e05a041d5a5d94d995a5d1483",
            "max": 102469840,
            "min": 0,
            "orientation": "horizontal",
            "style": "IPY_MODEL_52990e851b174c54935a94fbb7b3b5b4",
            "value": 102469840
          }
        },
        "e69f652ce0a04b87934c19e16516cff4": {
          "model_module": "@jupyter-widgets/controls",
          "model_module_version": "1.5.0",
          "model_name": "HBoxModel",
          "state": {
            "_dom_classes": [],
            "_model_module": "@jupyter-widgets/controls",
            "_model_module_version": "1.5.0",
            "_model_name": "HBoxModel",
            "_view_count": null,
            "_view_module": "@jupyter-widgets/controls",
            "_view_module_version": "1.5.0",
            "_view_name": "HBoxView",
            "box_style": "",
            "children": [
              "IPY_MODEL_7488bc66b20b4a3fabd833688509ebb0",
              "IPY_MODEL_fe80f9bc4ed54fd1956c6f8fd3764031",
              "IPY_MODEL_c08c69dcde7a4487b5e0253d49908da7"
            ],
            "layout": "IPY_MODEL_666a44b893bf46ce9ecae637a625e380"
          }
        },
        "ed8a3d2ae31d46a5b6ec3d594229c640": {
          "model_module": "@jupyter-widgets/base",
          "model_module_version": "1.2.0",
          "model_name": "LayoutModel",
          "state": {
            "_model_module": "@jupyter-widgets/base",
            "_model_module_version": "1.2.0",
            "_model_name": "LayoutModel",
            "_view_count": null,
            "_view_module": "@jupyter-widgets/base",
            "_view_module_version": "1.2.0",
            "_view_name": "LayoutView",
            "align_content": null,
            "align_items": null,
            "align_self": null,
            "border": null,
            "bottom": null,
            "display": null,
            "flex": null,
            "flex_flow": null,
            "grid_area": null,
            "grid_auto_columns": null,
            "grid_auto_flow": null,
            "grid_auto_rows": null,
            "grid_column": null,
            "grid_gap": null,
            "grid_row": null,
            "grid_template_areas": null,
            "grid_template_columns": null,
            "grid_template_rows": null,
            "height": null,
            "justify_content": null,
            "justify_items": null,
            "left": null,
            "margin": null,
            "max_height": null,
            "max_width": null,
            "min_height": null,
            "min_width": null,
            "object_fit": null,
            "object_position": null,
            "order": null,
            "overflow": null,
            "overflow_x": null,
            "overflow_y": null,
            "padding": null,
            "right": null,
            "top": null,
            "visibility": null,
            "width": null
          }
        },
        "f54a69f7437e43c2ba1148030548b2ca": {
          "model_module": "@jupyter-widgets/base",
          "model_module_version": "1.2.0",
          "model_name": "LayoutModel",
          "state": {
            "_model_module": "@jupyter-widgets/base",
            "_model_module_version": "1.2.0",
            "_model_name": "LayoutModel",
            "_view_count": null,
            "_view_module": "@jupyter-widgets/base",
            "_view_module_version": "1.2.0",
            "_view_name": "LayoutView",
            "align_content": null,
            "align_items": null,
            "align_self": null,
            "border": null,
            "bottom": null,
            "display": null,
            "flex": null,
            "flex_flow": null,
            "grid_area": null,
            "grid_auto_columns": null,
            "grid_auto_flow": null,
            "grid_auto_rows": null,
            "grid_column": null,
            "grid_gap": null,
            "grid_row": null,
            "grid_template_areas": null,
            "grid_template_columns": null,
            "grid_template_rows": null,
            "height": null,
            "justify_content": null,
            "justify_items": null,
            "left": null,
            "margin": null,
            "max_height": null,
            "max_width": null,
            "min_height": null,
            "min_width": null,
            "object_fit": null,
            "object_position": null,
            "order": null,
            "overflow": null,
            "overflow_x": null,
            "overflow_y": null,
            "padding": null,
            "right": null,
            "top": null,
            "visibility": null,
            "width": null
          }
        },
        "fac967fa4a4d450bb252ca30e75479c6": {
          "model_module": "@jupyter-widgets/controls",
          "model_module_version": "1.5.0",
          "model_name": "FloatProgressModel",
          "state": {
            "_dom_classes": [],
            "_model_module": "@jupyter-widgets/controls",
            "_model_module_version": "1.5.0",
            "_model_name": "FloatProgressModel",
            "_view_count": null,
            "_view_module": "@jupyter-widgets/controls",
            "_view_module_version": "1.5.0",
            "_view_name": "ProgressView",
            "bar_style": "success",
            "description": "",
            "description_tooltip": null,
            "layout": "IPY_MODEL_9edf3e2179b04efb925cdadb0bb21073",
            "max": 274,
            "min": 0,
            "orientation": "horizontal",
            "style": "IPY_MODEL_a4a7920e96d744fabf00ea1d6e215b4f",
            "value": 274
          }
        },
        "fe80f9bc4ed54fd1956c6f8fd3764031": {
          "model_module": "@jupyter-widgets/controls",
          "model_module_version": "1.5.0",
          "model_name": "FloatProgressModel",
          "state": {
            "_dom_classes": [],
            "_model_module": "@jupyter-widgets/controls",
            "_model_module_version": "1.5.0",
            "_model_name": "FloatProgressModel",
            "_view_count": null,
            "_view_module": "@jupyter-widgets/controls",
            "_view_module_version": "1.5.0",
            "_view_name": "ProgressView",
            "bar_style": "success",
            "description": "",
            "description_tooltip": null,
            "layout": "IPY_MODEL_caa3a111177947559659e8cbbbe6eee8",
            "max": 4592,
            "min": 0,
            "orientation": "horizontal",
            "style": "IPY_MODEL_896c4cd596314cb682a423d32c046d33",
            "value": 4592
          }
        }
      }
    }
  },
  "nbformat": 4,
  "nbformat_minor": 0
}
