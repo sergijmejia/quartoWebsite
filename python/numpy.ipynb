{
 "cells": [
  {
   "cell_type": "markdown",
   "metadata": {},
   "source": [
    "# Numpy"
   ]
  },
  {
   "cell_type": "markdown",
   "metadata": {},
   "source": [
    "Numpy is a powerful Python library for numerical computing. It provides support for multidimensional arrays, mathematical functions, random number generation, linear algebra operations, and much more. NumPy is widely used in scientific computing, data analysis, and machine learning.\n",
    "\n",
    "Key features of the Numpy library include:\n",
    "\n",
    "* **Creating Numpy Arrays:**\n",
    "Numpy's primary data structure is the ndarray, a multidimensional array object. You can create Numpy arrays from Python lists or using Numpy's array creation functions."
   ]
  },
  {
   "cell_type": "code",
   "execution_count": 1,
   "metadata": {},
   "outputs": [
    {
     "name": "stdout",
     "output_type": "stream",
     "text": [
      "[1 2 3 4 5]\n",
      "[[1 2 3]\n",
      " [4 5 6]\n",
      " [7 8 9]]\n"
     ]
    }
   ],
   "source": [
    "import numpy as np\n",
    "\n",
    "# Creating a 1D NumPy array from a Python list\n",
    "arr1d = np.array([1, 2, 3, 4, 5])\n",
    "\n",
    "# Creating a 2D NumPy array from a list of lists\n",
    "arr2d = np.array([[1, 2, 3], [4, 5, 6], [7, 8, 9]])\n",
    "\n",
    "print(arr1d)\n",
    "print(arr2d)"
   ]
  },
  {
   "cell_type": "markdown",
   "metadata": {},
   "source": [
    "* **Basic Array Operations:**\n",
    "Numpy provides functions and operators for basic array operations such as element-wise arithmetic operations, array indexing, slicing, and reshaping."
   ]
  },
  {
   "cell_type": "code",
   "execution_count": 2,
   "metadata": {},
   "outputs": [
    {
     "name": "stdout",
     "output_type": "stream",
     "text": [
      "[5 7 9]\n",
      "[ 4 10 18]\n",
      "2\n",
      "[2 5 8]\n",
      "[[[ 0  1  2]\n",
      "  [ 3  4  5]]\n",
      "\n",
      " [[ 6  7  8]\n",
      "  [ 9 10 11]]]\n"
     ]
    }
   ],
   "source": [
    "# Element-wise arithmetic operations\n",
    "arr1 = np.array([1, 2, 3])\n",
    "arr2 = np.array([4, 5, 6])\n",
    "\n",
    "print(arr1 + arr2)\n",
    "print(arr1 * arr2)\n",
    "\n",
    "# Array indexing and slicing\n",
    "print(arr2d[0, 1])  # Accessing element at row 0, column 1\n",
    "print(arr2d[:, 1])  # Accessing all elements in column 1\n",
    "\n",
    "# Reshaping arrays\n",
    "arr3d = np.arange(12).reshape((2, 2, 3))\n",
    "print(arr3d)"
   ]
  },
  {
   "cell_type": "markdown",
   "metadata": {},
   "source": [
    "* **Mathematical Functions:**\n",
    "Numpy provides a wide range of mathematical functions that operate element-wise on arrays, such as sin, cos, exp, log, etc."
   ]
  },
  {
   "cell_type": "code",
   "execution_count": 3,
   "metadata": {},
   "outputs": [
    {
     "name": "stdout",
     "output_type": "stream",
     "text": [
      "[0.0000000e+00 1.0000000e+00 1.2246468e-16]\n",
      "[ 1.000000e+00  6.123234e-17 -1.000000e+00]\n",
      "[ 1.          4.81047738 23.14069263]\n",
      "[      -inf 0.45158271 1.14472989]\n"
     ]
    },
    {
     "name": "stderr",
     "output_type": "stream",
     "text": [
      "/tmp/ipykernel_37265/2324231433.py:8: RuntimeWarning: divide by zero encountered in log\n",
      "  print(np.log(arr))\n"
     ]
    }
   ],
   "source": [
    "# Computing trigonometric functions\n",
    "arr = np.array([0, np.pi/2, np.pi])\n",
    "print(np.sin(arr))\n",
    "print(np.cos(arr))\n",
    "\n",
    "# Computing exponential and logarithmic functions\n",
    "print(np.exp(arr))\n",
    "print(np.log(arr))"
   ]
  },
  {
   "cell_type": "markdown",
   "metadata": {},
   "source": [
    "* **Random Number Generation:**\n",
    "Numpy provides functions for generating random numbers from various probability distributions."
   ]
  },
  {
   "cell_type": "code",
   "execution_count": 4,
   "metadata": {},
   "outputs": [
    {
     "name": "stdout",
     "output_type": "stream",
     "text": [
      "[[0.46235193 0.18655192 0.01109501]\n",
      " [0.94890837 0.58829727 0.61706833]\n",
      " [0.82129912 0.75495716 0.85936123]]\n",
      "[[1 2 9]\n",
      " [7 6 2]\n",
      " [3 5 4]]\n"
     ]
    }
   ],
   "source": [
    "# Generating random numbers from a uniform distribution\n",
    "rand_arr = np.random.rand(3, 3)\n",
    "print(rand_arr)\n",
    "\n",
    "# Generating random integers between a specified range\n",
    "rand_int = np.random.randint(1, 10, size=(3, 3))\n",
    "print(rand_int)"
   ]
  },
  {
   "cell_type": "markdown",
   "metadata": {},
   "source": [
    "* **Linear Algebra Operations:**\n",
    "Numpy provides functions for performing various linear algebra operations, such as matrix multiplication, matrix inversion, eigenvalue decomposition, etc."
   ]
  },
  {
   "cell_type": "code",
   "execution_count": 5,
   "metadata": {},
   "outputs": [
    {
     "name": "stdout",
     "output_type": "stream",
     "text": [
      "[[14 16]\n",
      " [40 50]]\n",
      "[[-0.66666667  0.33333333]\n",
      " [ 0.5         0.        ]]\n"
     ]
    }
   ],
   "source": [
    "# Matrix multiplication\n",
    "A = np.array([[0, 2], [3, 4]])\n",
    "B = np.array([[4, 6], [7, 8]])\n",
    "print(np.dot(A, B))\n",
    "\n",
    "# Matrix inversion\n",
    "A_inv = np.linalg.inv(A)\n",
    "print(A_inv)"
   ]
  },
  {
   "cell_type": "markdown",
   "metadata": {},
   "source": [
    "Numpy's extensive capabilities make it a fundamental library for numerical computing in Python, enabling efficient and scalable operations on arrays and matrices."
   ]
  }
 ],
 "metadata": {
  "kernelspec": {
   "display_name": "Python 3",
   "language": "python",
   "name": "python3"
  },
  "language_info": {
   "codemirror_mode": {
    "name": "ipython",
    "version": 3
   },
   "file_extension": ".py",
   "mimetype": "text/x-python",
   "name": "python",
   "nbconvert_exporter": "python",
   "pygments_lexer": "ipython3",
   "version": "3.10.12"
  }
 },
 "nbformat": 4,
 "nbformat_minor": 2
}
