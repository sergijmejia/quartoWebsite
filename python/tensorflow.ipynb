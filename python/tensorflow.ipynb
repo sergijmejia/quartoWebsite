{
 "cells": [
  {
   "cell_type": "markdown",
   "metadata": {},
   "source": [
    "# TensorFlow"
   ]
  },
  {
   "cell_type": "markdown",
   "metadata": {},
   "source": [
    "TensorFlow is an open-source machine learning framework developed by Google. It allows users to build and deploy machine learning models, particularly deep learning models, efficiently. TensorFlow provides a flexible and scalable platform for training and deploying machine learning models across various domains, including computer vision, natural language processing, and reinforcement learning.\n",
    "\n",
    "Key features of the TensorFlow library include:\n",
    "\n",
    "* **Creating a Computational Graph:**\n",
    "TensorFlow works by building a computational graph that defines the operations and relationships between tensors (multidimensional arrays). Here's an example of creating a simple computational graph in TensorFlow:"
   ]
  },
  {
   "cell_type": "code",
   "execution_count": null,
   "metadata": {},
   "outputs": [],
   "source": [
    "import tensorflow as tf\n",
    "\n",
    "# Define constants\n",
    "a = tf.constant(2)\n",
    "b = tf.constant(3)\n",
    "\n",
    "# Define operations\n",
    "add = tf.add(a, b)\n",
    "mul = tf.multiply(a, b)\n",
    "\n",
    "# Run the computational graph\n",
    "with tf.Session() as sess:\n",
    "    result_add = sess.run(add)\n",
    "    result_mul = sess.run(mul)\n",
    "\n",
    "print(\"Addition result:\", result_add)\n",
    "print(\"Multiplication result:\", result_mul)"
   ]
  },
  {
   "cell_type": "markdown",
   "metadata": {},
   "source": [
    "* **Building and Training a Neural Network:**\n",
    "TensorFlow provides high-level APIs like Keras for building and training neural networks. Here's an example of using TensorFlow's Keras API to build and train a simple neural network for image classification:"
   ]
  },
  {
   "cell_type": "code",
   "execution_count": null,
   "metadata": {},
   "outputs": [],
   "source": [
    "import tensorflow as tf\n",
    "from tensorflow.keras import Sequential\n",
    "from tensorflow.keras.layers import Flatten, Dense\n",
    "\n",
    "# Define a simple neural network\n",
    "model = Sequential([\n",
    "    Flatten(input_shape=(28, 28)),  # Flatten the input image\n",
    "    Dense(128, activation='relu'),  # Fully connected layer with ReLU activation\n",
    "    Dense(10, activation='softmax')  # Output layer with softmax activation\n",
    "])\n",
    "\n",
    "# Compile the model\n",
    "model.compile(optimizer='adam', loss='sparse_categorical_crossentropy', metrics=['accuracy'])\n",
    "\n",
    "# Train the model\n",
    "model.fit(x_train, y_train, epochs=5, batch_size=32, validation_data=(x_val, y_val))"
   ]
  },
  {
   "cell_type": "markdown",
   "metadata": {},
   "source": [
    "* **Deploying a Model:**\n",
    "Once a model is trained, TensorFlow allows you to deploy it for inference on new data. Here's an example of deploying a trained model for image classification:"
   ]
  },
  {
   "cell_type": "code",
   "execution_count": null,
   "metadata": {},
   "outputs": [],
   "source": [
    "# Evaluate the model on test data\n",
    "test_loss, test_acc = model.evaluate(x_test, y_test)\n",
    "print(\"Test accuracy:\", test_acc)\n",
    "\n",
    "# Make predictions on new data\n",
    "predictions = model.predict(x_new_data)"
   ]
  },
  {
   "cell_type": "markdown",
   "metadata": {},
   "source": [
    "* **TensorFlow Extended (TFX):**\n",
    "TensorFlow Extended (TFX) is an end-to-end platform for deploying production machine learning pipelines. It provides tools for data validation, preprocessing, training, evaluation, and serving. Here's an example of using TFX for building and deploying a production ML pipeline:"
   ]
  },
  {
   "cell_type": "code",
   "execution_count": null,
   "metadata": {},
   "outputs": [],
   "source": [
    "import tensorflow_data_validation as tfdv\n",
    "import tensorflow_transform as tft\n",
    "import tensorflow_model_analysis as tfma\n",
    "import tensorflow_model_server as tfms\n",
    "\n",
    "# Define and run a TFX pipeline\n",
    "# (Pipeline definition code goes here)"
   ]
  },
  {
   "cell_type": "markdown",
   "metadata": {},
   "source": [
    "These examples showcase some of the functionalities of TensorFlow, including building computational graphs, training neural networks, deploying models, and using TensorFlow Extended for production ML pipelines. TensorFlow's flexibility and scalability make it a powerful framework for machine learning and deep learning applications.\n",
    "\n",
    "In some of the previus examples is also used Keras. "
   ]
  },
  {
   "cell_type": "markdown",
   "metadata": {},
   "source": [
    "## Keras"
   ]
  },
  {
   "cell_type": "markdown",
   "metadata": {},
   "source": [
    "Keras is an open-source deep learning library written in Python. It is designed to be user-friendly, modular, and easy to extend. Keras was developed with a focus on enabling fast experimentation and prototyping of deep neural networks.\n",
    "\n",
    "Key features of Keras include:\n",
    "\n",
    "* **Simple Interface:** Keras provides a simple and consistent API that allows users to quickly build and train deep learning models without needing to write a lot of boilerplate code. It abstracts away many of the complexities of working with neural networks, making it accessible to both beginners and experienced practitioners.\n",
    "\n",
    "You can see the difference to define and compile a model.\n",
    "\n",
    "Using Keras:"
   ]
  },
  {
   "cell_type": "code",
   "execution_count": null,
   "metadata": {},
   "outputs": [],
   "source": [
    "from keras.models import Sequential\n",
    "from keras.layers import Dense\n",
    "\n",
    "# Define a sequential model\n",
    "model = Sequential()\n",
    "\n",
    "# Add layers to the model\n",
    "model.add(Dense(units=64, activation='relu', input_dim=100))\n",
    "model.add(Dense(units=10, activation='softmax'))\n",
    "\n",
    "# Compile the model\n",
    "model.compile(loss='categorical_crossentropy', optimizer='adam', metrics=['accuracy'])"
   ]
  },
  {
   "cell_type": "markdown",
   "metadata": {},
   "source": [
    "Using TensorFlow:"
   ]
  },
  {
   "cell_type": "code",
   "execution_count": null,
   "metadata": {},
   "outputs": [],
   "source": [
    "import tensorflow as tf\n",
    "\n",
    "# Define placeholders for input and output\n",
    "x = tf.placeholder(tf.float32, shape=[None, 100])\n",
    "y = tf.placeholder(tf.float32, shape=[None, 10])\n",
    "\n",
    "# Define variables for weights and biases\n",
    "W = tf.Variable(tf.zeros([100, 64]))\n",
    "b = tf.Variable(tf.zeros([64]))\n",
    "\n",
    "# Define the forward pass\n",
    "logits = tf.matmul(x, W) + b\n",
    "output = tf.nn.softmax(logits)\n",
    "\n",
    "# Define loss function and optimizer\n",
    "loss = tf.reduce_mean(tf.nn.softmax_cross_entropy_with_logits(logits=logits, labels=y))\n",
    "optimizer = tf.train.AdamOptimizer().minimize(loss)\n",
    "\n",
    "# Initialize variables\n",
    "init = tf.global_variables_initializer()"
   ]
  },
  {
   "cell_type": "markdown",
   "metadata": {},
   "source": [
    "Keras provides a higher-level abstraction for defining and training neural networks, with a more intuitive and concise interface. In the Keras example, we define a sequential model and add layers to it with a simple method call. TensorFlow, on the other hand, requires manual definition of placeholders, variables, and operations, which can be more verbose and less intuitive.\n",
    "\n",
    "* **Modularity:** Keras is built with a modular architecture, allowing users to easily create complex neural network architectures by combining simple building blocks called layers. These layers can be stacked together to create sequential models or combined in more complex ways using functional APIs.\n",
    "\n",
    "You can see the difference to define a complex neural network.\n",
    "\n",
    "Using Keras:"
   ]
  },
  {
   "cell_type": "code",
   "execution_count": null,
   "metadata": {},
   "outputs": [],
   "source": [
    "from keras.layers import Input, Dense, concatenate\n",
    "from keras.models import Model\n",
    "\n",
    "# Define input layers\n",
    "input1 = Input(shape=(10,))\n",
    "input2 = Input(shape=(20,))\n",
    "\n",
    "# Define dense layers\n",
    "dense1 = Dense(64, activation='relu')(input1)\n",
    "dense2 = Dense(64, activation='relu')(input2)\n",
    "\n",
    "# Combine layers\n",
    "combined = concatenate([dense1, dense2])\n",
    "\n",
    "# Define output layer\n",
    "output = Dense(1, activation='sigmoid')(combined)\n",
    "\n",
    "# Define the model\n",
    "model = Model(inputs=[input1, input2], outputs=output)"
   ]
  },
  {
   "cell_type": "markdown",
   "metadata": {},
   "source": [
    "Using TensorFlow:"
   ]
  },
  {
   "cell_type": "code",
   "execution_count": null,
   "metadata": {},
   "outputs": [],
   "source": [
    "import tensorflow as tf\n",
    "\n",
    "# Define input placeholders\n",
    "input1 = tf.placeholder(tf.float32, shape=[None, 10])\n",
    "input2 = tf.placeholder(tf.float32, shape=[None, 20])\n",
    "\n",
    "# Define variables for weights and biases\n",
    "W1 = tf.Variable(tf.random_normal([10, 64]))\n",
    "b1 = tf.Variable(tf.zeros([64]))\n",
    "\n",
    "W2 = tf.Variable(tf.random_normal([20, 64]))\n",
    "b2 = tf.Variable(tf.zeros([64]))\n",
    "\n",
    "# Define dense layers\n",
    "dense1 = tf.nn.relu(tf.matmul(input1, W1) + b1)\n",
    "dense2 = tf.nn.relu(tf.matmul(input2, W2) + b2)\n",
    "\n",
    "# Combine layers\n",
    "combined = tf.concat([dense1, dense2], axis=1)\n",
    "\n",
    "# Define variables for output layer\n",
    "W_out = tf.Variable(tf.random_normal([128, 1]))\n",
    "b_out = tf.Variable(tf.zeros([1]))\n",
    "\n",
    "# Define output layer\n",
    "output = tf.nn.sigmoid(tf.matmul(combined, W_out) + b_out)"
   ]
  },
  {
   "cell_type": "markdown",
   "metadata": {},
   "source": [
    "Keras provides a more intuitive and compact way to define complex neural network architectures by allowing the combination of layers using simple functions. TensorFlow requires manual definition of variables and operations for each layer and concatenation, which can be more cumbersome and error-prone.\n",
    "\n",
    "* **Flexibility:** Keras provides support for both convolutional neural networks (CNNs) and recurrent neural networks (RNNs), as well as various other types of neural network architectures. It also supports multiple backends, including TensorFlow, Theano, and Microsoft Cognitive Toolkit (CNTK), giving users the flexibility to choose the backend that best suits their needs.\n",
    "\n",
    "* **Integration with TensorFlow:** In recent versions of TensorFlow, Keras has been integrated as the official high-level API for building and training deep learning models. This integration allows users to seamlessly switch between TensorFlow's low-level operations and Keras's high-level abstractions, leveraging the strengths of both frameworks.\n",
    "\n",
    "Overall, Keras is widely used in the deep learning community for its simplicity, flexibility, and ease of use. It has become a popular choice for building and training deep neural networks for a wide range of applications, including image recognition, natural language processing, and reinforcement learning.rks."
   ]
  }
 ],
 "metadata": {
  "kernelspec": {
   "display_name": "Python 3",
   "language": "python",
   "name": "python3"
  },
  "language_info": {
   "name": "python",
   "version": "3.10.12"
  }
 },
 "nbformat": 4,
 "nbformat_minor": 2
}
