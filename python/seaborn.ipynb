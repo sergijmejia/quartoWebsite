{
 "cells": [
  {
   "cell_type": "markdown",
   "metadata": {},
   "source": [
    "# Seaborn"
   ]
  },
  {
   "cell_type": "markdown",
   "metadata": {},
   "source": [
    "Seaborn is a Python visualization library based on Matplotlib that provides a high-level interface for creating attractive and informative statistical graphics. It is built on top of Matplotlib and integrates well with Pandas data structures, making it particularly useful for visualizing data stored in DataFrames.\n",
    "\n",
    "Key features of the Seaborn library include:\n",
    "\n",
    "* **Scatter Plot with Regression Line:**\n",
    "Seaborn makes it easy to create scatter plots with regression lines to visualize the relationship between two numerical variables."
   ]
  },
  {
   "cell_type": "code",
   "execution_count": null,
   "metadata": {},
   "outputs": [],
   "source": [
    "import seaborn as sns\n",
    "import matplotlib.pyplot as plt\n",
    "\n",
    "# Load dataset\n",
    "tips = sns.load_dataset(\"tips\")\n",
    "\n",
    "# Create scatter plot with regression line\n",
    "sns.regplot(x=\"total_bill\", y=\"tip\", data=tips)\n",
    "plt.xlabel('Total Bill')\n",
    "plt.ylabel('Tip')\n",
    "plt.title('Scatter Plot with Regression Line')\n",
    "plt.show()"
   ]
  },
  {
   "cell_type": "markdown",
   "metadata": {},
   "source": [
    "* **Box Plot:**\n",
    "Seaborn provides a simple way to create box plots to visualize the distribution of numerical variables and detect outliers."
   ]
  },
  {
   "cell_type": "code",
   "execution_count": null,
   "metadata": {},
   "outputs": [],
   "source": [
    "# Create box plot\n",
    "sns.boxplot(x=\"day\", y=\"total_bill\", data=tips)\n",
    "plt.xlabel('Day')\n",
    "plt.ylabel('Total Bill')\n",
    "plt.title('Box Plot')\n",
    "plt.show()"
   ]
  },
  {
   "cell_type": "markdown",
   "metadata": {},
   "source": [
    "* **Histogram with Kernel Density Estimate (KDE):**\n",
    "Seaborn can create histograms with kernel density estimates to visualize the distribution of numerical variables."
   ]
  },
  {
   "cell_type": "code",
   "execution_count": null,
   "metadata": {},
   "outputs": [],
   "source": [
    "# Create histogram with KDE\n",
    "sns.histplot(tips['total_bill'], kde=True)\n",
    "plt.xlabel('Total Bill')\n",
    "plt.ylabel('Frequency')\n",
    "plt.title('Histogram with KDE')\n",
    "plt.show()"
   ]
  },
  {
   "cell_type": "markdown",
   "metadata": {},
   "source": [
    "* **Violin Plot:**\n",
    "Seaborn's violin plots combine elements of box plots and kernel density estimates to visualize the distribution of numerical variables across different categories."
   ]
  },
  {
   "cell_type": "code",
   "execution_count": null,
   "metadata": {},
   "outputs": [],
   "source": [
    "# Create violin plot\n",
    "sns.violinplot(x=\"day\", y=\"total_bill\", data=tips)\n",
    "plt.xlabel('Day')\n",
    "plt.ylabel('Total Bill')\n",
    "plt.title('Violin Plot')\n",
    "plt.show()"
   ]
  },
  {
   "cell_type": "markdown",
   "metadata": {},
   "source": [
    "* **Pair Plot:**\n",
    "Seaborn's pair plot creates a matrix of scatter plots for visualizing the relationships between multiple numerical variables in a DataFrame."
   ]
  },
  {
   "cell_type": "code",
   "execution_count": null,
   "metadata": {},
   "outputs": [],
   "source": [
    "# Create pair plot\n",
    "sns.pairplot(tips, hue=\"day\")\n",
    "plt.title('Pair Plot')\n",
    "plt.show()"
   ]
  },
  {
   "cell_type": "markdown",
   "metadata": {},
   "source": [
    "These examples showcase some of the functionalities of Seaborn for creating attractive and informative statistical visualizations. Seaborn's high-level interface and integration with Pandas make it a powerful tool for exploratory data analysis and presentation of statistical insights."
   ]
  }
 ],
 "metadata": {
  "kernelspec": {
   "display_name": "Python 3",
   "language": "python",
   "name": "python3"
  },
  "language_info": {
   "codemirror_mode": {
    "name": "ipython",
    "version": 3
   },
   "file_extension": ".py",
   "mimetype": "text/x-python",
   "name": "python",
   "nbconvert_exporter": "python",
   "pygments_lexer": "ipython3",
   "version": "3.10.12"
  }
 },
 "nbformat": 4,
 "nbformat_minor": 2
}
